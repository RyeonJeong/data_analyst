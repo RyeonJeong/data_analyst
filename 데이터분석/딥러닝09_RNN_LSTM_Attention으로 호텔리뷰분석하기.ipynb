{
 "cells": [
  {
   "cell_type": "code",
   "execution_count": 58,
   "id": "8b4d2376",
   "metadata": {},
   "outputs": [],
   "source": [
    "from tensorflow.keras.preprocessing.text import Tokenizer, text_to_word_sequence\n",
    "from tensorflow.keras.preprocessing.sequence import pad_sequences\n",
    "from tensorflow.keras.models import Sequential\n",
    "from tensorflow.keras.layers import Dense, Flatten, Embedding\n",
    "from tensorflow.keras.callbacks import ModelCheckpoint, EarlyStopping\n",
    "from tensorflow.keras.utils import to_categorical\n",
    "from numpy import array"
   ]
  },
  {
   "cell_type": "code",
   "execution_count": 2,
   "id": "d7456ec3",
   "metadata": {},
   "outputs": [],
   "source": [
    "import pandas as pd\n",
    "import numpy as np\n",
    "import seaborn as sns\n",
    "import matplotlib.pyplot as plt\n",
    "import koreanize_matplotlib\n",
    "import os"
   ]
  },
  {
   "cell_type": "code",
   "execution_count": 3,
   "id": "c85e76df",
   "metadata": {},
   "outputs": [
    {
     "data": {
      "text/html": [
       "<div>\n",
       "<style scoped>\n",
       "    .dataframe tbody tr th:only-of-type {\n",
       "        vertical-align: middle;\n",
       "    }\n",
       "\n",
       "    .dataframe tbody tr th {\n",
       "        vertical-align: top;\n",
       "    }\n",
       "\n",
       "    .dataframe thead th {\n",
       "        text-align: right;\n",
       "    }\n",
       "</style>\n",
       "<table border=\"1\" class=\"dataframe\">\n",
       "  <thead>\n",
       "    <tr style=\"text-align: right;\">\n",
       "      <th></th>\n",
       "      <th>Unnamed: 0.1</th>\n",
       "      <th>Unnamed: 0</th>\n",
       "      <th>hotelId</th>\n",
       "      <th>hotelName</th>\n",
       "      <th>tripType</th>\n",
       "      <th>tripTypeText</th>\n",
       "      <th>reviewDate</th>\n",
       "      <th>rating</th>\n",
       "      <th>description</th>\n",
       "      <th>isKorNot</th>\n",
       "    </tr>\n",
       "  </thead>\n",
       "  <tbody>\n",
       "    <tr>\n",
       "      <th>0</th>\n",
       "      <td>0</td>\n",
       "      <td>356</td>\n",
       "      <td>105343</td>\n",
       "      <td>서울 웨스틴조선호텔 (The Westin Chosun Seoul)</td>\n",
       "      <td>family</td>\n",
       "      <td>1박 가족 여행</td>\n",
       "      <td>2019년 1월 26일</td>\n",
       "      <td>10.0</td>\n",
       "      <td>직원들 서비스나 마인드 완벽합니다 다만 노후된 시설과 좁은 라운지가 호텔 이름에 비...</td>\n",
       "      <td>True</td>\n",
       "    </tr>\n",
       "    <tr>\n",
       "      <th>1</th>\n",
       "      <td>1</td>\n",
       "      <td>357</td>\n",
       "      <td>105343</td>\n",
       "      <td>서울 웨스틴조선호텔 (The Westin Chosun Seoul)</td>\n",
       "      <td>family</td>\n",
       "      <td>1박 가족 여행</td>\n",
       "      <td>2019년 2월 4일</td>\n",
       "      <td>10.0</td>\n",
       "      <td>웨스틴조선은 모든면에서 최고의 숙소라고 생각합니다 분위기 편의성 직원친절도까지 모두...</td>\n",
       "      <td>True</td>\n",
       "    </tr>\n",
       "  </tbody>\n",
       "</table>\n",
       "</div>"
      ],
      "text/plain": [
       "   Unnamed: 0.1  Unnamed: 0  hotelId                             hotelName  \\\n",
       "0             0         356   105343  서울 웨스틴조선호텔 (The Westin Chosun Seoul)   \n",
       "1             1         357   105343  서울 웨스틴조선호텔 (The Westin Chosun Seoul)   \n",
       "\n",
       "  tripType tripTypeText    reviewDate  rating  \\\n",
       "0   family     1박 가족 여행  2019년 1월 26일    10.0   \n",
       "1   family     1박 가족 여행   2019년 2월 4일    10.0   \n",
       "\n",
       "                                         description  isKorNot  \n",
       "0  직원들 서비스나 마인드 완벽합니다 다만 노후된 시설과 좁은 라운지가 호텔 이름에 비...      True  \n",
       "1  웨스틴조선은 모든면에서 최고의 숙소라고 생각합니다 분위기 편의성 직원친절도까지 모두...      True  "
      ]
     },
     "execution_count": 3,
     "metadata": {},
     "output_type": "execute_result"
    }
   ],
   "source": [
    "data = pd.read_csv(\"https://raw.githubusercontent.com/haram4th/ablearn/main/hotel_review_75000.csv\")\n",
    "data.head(2)"
   ]
  },
  {
   "cell_type": "code",
   "execution_count": 4,
   "id": "16a0c09e",
   "metadata": {},
   "outputs": [
    {
     "data": {
      "text/plain": [
       "Index(['Unnamed: 0.1', 'Unnamed: 0', 'hotelId', 'hotelName', 'tripType',\n",
       "       'tripTypeText', 'reviewDate', 'rating', 'description', 'isKorNot'],\n",
       "      dtype='object')"
      ]
     },
     "execution_count": 4,
     "metadata": {},
     "output_type": "execute_result"
    }
   ],
   "source": [
    "data.columns"
   ]
  },
  {
   "cell_type": "code",
   "execution_count": 5,
   "id": "f4ac408a",
   "metadata": {},
   "outputs": [],
   "source": [
    "data = data[['rating', 'description']]"
   ]
  },
  {
   "cell_type": "code",
   "execution_count": 6,
   "id": "313231e4",
   "metadata": {},
   "outputs": [
    {
     "name": "stdout",
     "output_type": "stream",
     "text": [
      "<class 'pandas.core.frame.DataFrame'>\n",
      "RangeIndex: 75000 entries, 0 to 74999\n",
      "Data columns (total 2 columns):\n",
      " #   Column       Non-Null Count  Dtype  \n",
      "---  ------       --------------  -----  \n",
      " 0   rating       75000 non-null  float64\n",
      " 1   description  75000 non-null  object \n",
      "dtypes: float64(1), object(1)\n",
      "memory usage: 1.1+ MB\n"
     ]
    }
   ],
   "source": [
    "data.info()"
   ]
  },
  {
   "cell_type": "markdown",
   "id": "107581a5",
   "metadata": {},
   "source": [
    "* rating 8 이상이면 긍정 1, 미만은 부정 0으로 해서 target 컬럼 생성\n",
    "* description 컬럼 토크나이징, 시퀀스로 변환, 임베딩\n",
    "* train, valid, test로 데이터 분할\n",
    "* 딥러닝 네트워크 생성 후 분석\n",
    "* early_stopping, modelcheckpoint \n",
    "* 그래프로 loss 출력"
   ]
  },
  {
   "cell_type": "code",
   "execution_count": 7,
   "id": "c6e55292",
   "metadata": {},
   "outputs": [],
   "source": [
    "result = []\n",
    "for i in data['rating']:\n",
    "    if i >=8:\n",
    "        result.append(1)\n",
    "    else:\n",
    "        result.append(0)"
   ]
  },
  {
   "cell_type": "code",
   "execution_count": 8,
   "id": "4006c17f",
   "metadata": {},
   "outputs": [],
   "source": [
    "data['target'] = result"
   ]
  },
  {
   "cell_type": "code",
   "execution_count": 9,
   "id": "64e6d877",
   "metadata": {},
   "outputs": [
    {
     "name": "stdout",
     "output_type": "stream",
     "text": [
      "<class 'pandas.core.frame.DataFrame'>\n",
      "RangeIndex: 75000 entries, 0 to 74999\n",
      "Data columns (total 3 columns):\n",
      " #   Column       Non-Null Count  Dtype  \n",
      "---  ------       --------------  -----  \n",
      " 0   rating       75000 non-null  float64\n",
      " 1   description  75000 non-null  object \n",
      " 2   target       75000 non-null  int64  \n",
      "dtypes: float64(1), int64(1), object(1)\n",
      "memory usage: 1.7+ MB\n"
     ]
    }
   ],
   "source": [
    "data.info()"
   ]
  },
  {
   "cell_type": "code",
   "execution_count": 10,
   "id": "f67a855b",
   "metadata": {},
   "outputs": [
    {
     "data": {
      "text/html": [
       "<div>\n",
       "<style scoped>\n",
       "    .dataframe tbody tr th:only-of-type {\n",
       "        vertical-align: middle;\n",
       "    }\n",
       "\n",
       "    .dataframe tbody tr th {\n",
       "        vertical-align: top;\n",
       "    }\n",
       "\n",
       "    .dataframe thead th {\n",
       "        text-align: right;\n",
       "    }\n",
       "</style>\n",
       "<table border=\"1\" class=\"dataframe\">\n",
       "  <thead>\n",
       "    <tr style=\"text-align: right;\">\n",
       "      <th></th>\n",
       "      <th>rating</th>\n",
       "      <th>description</th>\n",
       "      <th>target</th>\n",
       "    </tr>\n",
       "  </thead>\n",
       "  <tbody>\n",
       "    <tr>\n",
       "      <th>0</th>\n",
       "      <td>10.0</td>\n",
       "      <td>직원들 서비스나 마인드 완벽합니다 다만 노후된 시설과 좁은 라운지가 호텔 이름에 비...</td>\n",
       "      <td>1</td>\n",
       "    </tr>\n",
       "    <tr>\n",
       "      <th>1</th>\n",
       "      <td>10.0</td>\n",
       "      <td>웨스틴조선은 모든면에서 최고의 숙소라고 생각합니다 분위기 편의성 직원친절도까지 모두...</td>\n",
       "      <td>1</td>\n",
       "    </tr>\n",
       "    <tr>\n",
       "      <th>2</th>\n",
       "      <td>10.0</td>\n",
       "      <td>서울시내에서 호캉스를 누릴 수 있는 곳아침 뷔페가 맛있는 곳룸서비스가 좋았음요구사항...</td>\n",
       "      <td>1</td>\n",
       "    </tr>\n",
       "    <tr>\n",
       "      <th>3</th>\n",
       "      <td>10.0</td>\n",
       "      <td>가격에 맞게 만족했습니다</td>\n",
       "      <td>1</td>\n",
       "    </tr>\n",
       "    <tr>\n",
       "      <th>4</th>\n",
       "      <td>10.0</td>\n",
       "      <td>처음 세명으로 셋팅 되어있지 않은점 빼고는 직원들의 친절도 및 서비스는 모두 맘에 ...</td>\n",
       "      <td>1</td>\n",
       "    </tr>\n",
       "  </tbody>\n",
       "</table>\n",
       "</div>"
      ],
      "text/plain": [
       "   rating                                        description  target\n",
       "0    10.0  직원들 서비스나 마인드 완벽합니다 다만 노후된 시설과 좁은 라운지가 호텔 이름에 비...       1\n",
       "1    10.0  웨스틴조선은 모든면에서 최고의 숙소라고 생각합니다 분위기 편의성 직원친절도까지 모두...       1\n",
       "2    10.0  서울시내에서 호캉스를 누릴 수 있는 곳아침 뷔페가 맛있는 곳룸서비스가 좋았음요구사항...       1\n",
       "3    10.0                                      가격에 맞게 만족했습니다       1\n",
       "4    10.0  처음 세명으로 셋팅 되어있지 않은점 빼고는 직원들의 친절도 및 서비스는 모두 맘에 ...       1"
      ]
     },
     "execution_count": 10,
     "metadata": {},
     "output_type": "execute_result"
    }
   ],
   "source": [
    "data.head()"
   ]
  },
  {
   "cell_type": "code",
   "execution_count": 12,
   "id": "64888553",
   "metadata": {},
   "outputs": [],
   "source": [
    "def token_text(text):\n",
    "        token = Tokenizer(lower = False)\n",
    "        pre_text = []\n",
    "        pre_text.append(\"\".join(text))\n",
    "        token.fit_on_texts(pre_text)\n",
    "        return token.word_index"
   ]
  },
  {
   "cell_type": "code",
   "execution_count": 28,
   "id": "f6a2de3c",
   "metadata": {
    "scrolled": true
   },
   "outputs": [],
   "source": [
    "token = Tokenizer(lower=False)\n",
    "token.fit_on_texts(data[\"description\"])\n"
   ]
  },
  {
   "cell_type": "code",
   "execution_count": 30,
   "id": "99b553cc",
   "metadata": {},
   "outputs": [],
   "source": [
    "x = token.texts_to_sequences(data[\"description\"])"
   ]
  },
  {
   "cell_type": "code",
   "execution_count": 32,
   "id": "2b737aa0",
   "metadata": {
    "scrolled": true
   },
   "outputs": [],
   "source": [
    "max_length = max(len(i)for i in x)"
   ]
  },
  {
   "cell_type": "code",
   "execution_count": 53,
   "id": "54cb24b2",
   "metadata": {},
   "outputs": [
    {
     "data": {
      "text/plain": [
       "377"
      ]
     },
     "execution_count": 53,
     "metadata": {},
     "output_type": "execute_result"
    }
   ],
   "source": [
    "max_length"
   ]
  },
  {
   "cell_type": "code",
   "execution_count": 34,
   "id": "d3ba2ed5",
   "metadata": {},
   "outputs": [],
   "source": [
    "padded_x = pad_sequences(x, max_length)"
   ]
  },
  {
   "cell_type": "code",
   "execution_count": 49,
   "id": "656eabd9",
   "metadata": {},
   "outputs": [
    {
     "data": {
      "text/plain": [
       "array([[     0,      0,      0, ...,    101,     83,   2604],\n",
       "       [     0,      0,      0, ...,  67078,     31,   3858],\n",
       "       [     0,      0,      0, ...,  67082,    665,   4111],\n",
       "       ...,\n",
       "       [     0,      0,      0, ...,    195,  42071,  39796],\n",
       "       [     0,      0,      0, ..., 261891,    502,    437],\n",
       "       [     0,      0,      0, ...,   3199,   8900,     64]])"
      ]
     },
     "execution_count": 49,
     "metadata": {},
     "output_type": "execute_result"
    }
   ],
   "source": [
    "padded_x"
   ]
  },
  {
   "cell_type": "code",
   "execution_count": 50,
   "id": "052525b7",
   "metadata": {},
   "outputs": [
    {
     "data": {
      "text/plain": [
       "array([1, 1, 1, ..., 1, 1, 0], dtype=int64)"
      ]
     },
     "execution_count": 50,
     "metadata": {},
     "output_type": "execute_result"
    }
   ],
   "source": [
    "classes"
   ]
  },
  {
   "cell_type": "code",
   "execution_count": 37,
   "id": "fa6d4e49",
   "metadata": {},
   "outputs": [],
   "source": [
    "classes = data[\"target\"]"
   ]
  },
  {
   "cell_type": "code",
   "execution_count": 39,
   "id": "8ecde678",
   "metadata": {},
   "outputs": [],
   "source": [
    "classes = np.array(classes)"
   ]
  },
  {
   "cell_type": "code",
   "execution_count": 40,
   "id": "96f549fe",
   "metadata": {},
   "outputs": [],
   "source": [
    "word_size = len(token.word_index) + 1"
   ]
  },
  {
   "cell_type": "code",
   "execution_count": 51,
   "id": "dc1702e9",
   "metadata": {},
   "outputs": [
    {
     "name": "stdout",
     "output_type": "stream",
     "text": [
      "Model: \"sequential_1\"\n",
      "_________________________________________________________________\n",
      " Layer (type)                Output Shape              Param #   \n",
      "=================================================================\n",
      " embedding_1 (Embedding)     (None, 377, 8)            2095152   \n",
      "                                                                 \n",
      " flatten_1 (Flatten)         (None, 3016)              0         \n",
      "                                                                 \n",
      " dense_1 (Dense)             (None, 1)                 3017      \n",
      "                                                                 \n",
      "=================================================================\n",
      "Total params: 2,098,169\n",
      "Trainable params: 2,098,169\n",
      "Non-trainable params: 0\n",
      "_________________________________________________________________\n"
     ]
    }
   ],
   "source": [
    "# 단어 임베딩을 포함해서 딥러닝 모델 생성\n",
    "model = Sequential()\n",
    "model.add(Embedding(word_size, 8, input_length=max_length))\n",
    "model.add(Flatten())\n",
    "model.add(Dense(1, activation='sigmoid'))\n",
    "model.summary()"
   ]
  },
  {
   "cell_type": "code",
   "execution_count": 52,
   "id": "aff323c1",
   "metadata": {
    "scrolled": true
   },
   "outputs": [
    {
     "name": "stdout",
     "output_type": "stream",
     "text": [
      "Epoch 1/20\n",
      "2344/2344 [==============================] - 17s 7ms/step - loss: 0.3566 - accuracy: 0.8436\n",
      "Epoch 2/20\n",
      "2344/2344 [==============================] - 16s 7ms/step - loss: 0.2118 - accuracy: 0.9188\n",
      "Epoch 3/20\n",
      "2344/2344 [==============================] - 16s 7ms/step - loss: 0.1259 - accuracy: 0.9560\n",
      "Epoch 4/20\n",
      "2344/2344 [==============================] - 16s 7ms/step - loss: 0.0762 - accuracy: 0.9758\n",
      "Epoch 5/20\n",
      "2344/2344 [==============================] - 17s 7ms/step - loss: 0.0500 - accuracy: 0.9844\n",
      "Epoch 6/20\n",
      "2344/2344 [==============================] - 17s 7ms/step - loss: 0.0354 - accuracy: 0.9893\n",
      "Epoch 7/20\n",
      "2344/2344 [==============================] - 16s 7ms/step - loss: 0.0269 - accuracy: 0.9918\n",
      "Epoch 8/20\n",
      "2344/2344 [==============================] - 17s 7ms/step - loss: 0.0217 - accuracy: 0.9936\n",
      "Epoch 9/20\n",
      "2344/2344 [==============================] - 17s 7ms/step - loss: 0.0182 - accuracy: 0.9943\n",
      "Epoch 10/20\n",
      "2344/2344 [==============================] - 17s 7ms/step - loss: 0.0155 - accuracy: 0.9954\n",
      "Epoch 11/20\n",
      "2344/2344 [==============================] - 17s 7ms/step - loss: 0.0138 - accuracy: 0.9957\n",
      "Epoch 12/20\n",
      "2344/2344 [==============================] - 17s 7ms/step - loss: 0.0124 - accuracy: 0.9962\n",
      "Epoch 13/20\n",
      "2344/2344 [==============================] - 17s 7ms/step - loss: 0.0112 - accuracy: 0.9966\n",
      "Epoch 14/20\n",
      "2344/2344 [==============================] - 17s 7ms/step - loss: 0.0105 - accuracy: 0.9969\n",
      "Epoch 15/20\n",
      "2344/2344 [==============================] - 17s 7ms/step - loss: 0.0098 - accuracy: 0.9971\n",
      "Epoch 16/20\n",
      "2344/2344 [==============================] - 17s 7ms/step - loss: 0.0093 - accuracy: 0.9971\n",
      "Epoch 17/20\n",
      "2344/2344 [==============================] - 17s 7ms/step - loss: 0.0088 - accuracy: 0.9972\n",
      "Epoch 18/20\n",
      "2344/2344 [==============================] - 17s 7ms/step - loss: 0.0085 - accuracy: 0.9975\n",
      "Epoch 19/20\n",
      "2344/2344 [==============================] - 17s 7ms/step - loss: 0.0081 - accuracy: 0.9975\n",
      "Epoch 20/20\n",
      "2344/2344 [==============================] - 17s 7ms/step - loss: 0.0080 - accuracy: 0.9975\n",
      "2344/2344 [==============================] - 7s 3ms/step - loss: 0.0067 - accuracy: 0.9979\n",
      "Accuracy:  0.9978933334350586\n"
     ]
    }
   ],
   "source": [
    "model.compile(loss = 'binary_crossentropy', optimizer = 'adam', metrics=['accuracy'])\n",
    "history = model.fit(padded_x, classes, epochs=20)\n",
    "print('Accuracy: ', model.evaluate(padded_x, classes)[1])"
   ]
  },
  {
   "cell_type": "code",
   "execution_count": 54,
   "id": "ddbd5a8e",
   "metadata": {},
   "outputs": [],
   "source": [
    "from sklearn.model_selection import train_test_split\n",
    "X_train, X_test, y_train, y_test = train_test_split(padded_x, classes, test_size=0.4,random_state=7)\n",
    "X_valid, X_test, y_valid, y_test = train_test_split(X_test, y_test, test_size=0.5,random_state=7)"
   ]
  },
  {
   "cell_type": "code",
   "execution_count": 55,
   "id": "8ba40d74",
   "metadata": {},
   "outputs": [
    {
     "data": {
      "text/plain": [
       "261894"
      ]
     },
     "execution_count": 55,
     "metadata": {},
     "output_type": "execute_result"
    }
   ],
   "source": [
    "word_size"
   ]
  },
  {
   "cell_type": "code",
   "execution_count": 56,
   "id": "a687d2c5",
   "metadata": {},
   "outputs": [
    {
     "name": "stdout",
     "output_type": "stream",
     "text": [
      "Model: \"sequential_2\"\n",
      "_________________________________________________________________\n",
      " Layer (type)                Output Shape              Param #   \n",
      "=================================================================\n",
      " embedding_2 (Embedding)     (None, 377, 32)           8380608   \n",
      "                                                                 \n",
      " flatten_2 (Flatten)         (None, 12064)             0         \n",
      "                                                                 \n",
      " dense_2 (Dense)             (None, 1)                 12065     \n",
      "                                                                 \n",
      "=================================================================\n",
      "Total params: 8,392,673\n",
      "Trainable params: 8,392,673\n",
      "Non-trainable params: 0\n",
      "_________________________________________________________________\n"
     ]
    }
   ],
   "source": [
    "# 단어 임베딩을 포함해서 딥러닝 모델 생성\n",
    "model = Sequential()\n",
    "model.add(Embedding(word_size, 32, input_length=max_length))\n",
    "model.add(Flatten())\n",
    "model.add(Dense(1, activation='sigmoid'))\n",
    "model.summary()"
   ]
  },
  {
   "cell_type": "code",
   "execution_count": 59,
   "id": "579751f0",
   "metadata": {},
   "outputs": [],
   "source": [
    "modelpath='./model/{epoch:02d}-{val_accuracy:.4f}.hdf5'\n",
    "checkpointer = ModelCheckpoint(filepath=modelpath, monitor='val_loss', verbose=1, save_best_only=True)\n",
    "early_stopping_callback = EarlyStopping(monitor='val_loss', patience=2)"
   ]
  },
  {
   "cell_type": "code",
   "execution_count": 60,
   "id": "842c27a8",
   "metadata": {},
   "outputs": [
    {
     "name": "stdout",
     "output_type": "stream",
     "text": [
      "Epoch 1/5\n",
      "1407/1407 [==============================] - 25s 18ms/step - loss: 0.3628 - accuracy: 0.8418 - val_loss: 0.3171 - val_accuracy: 0.8615\n",
      "Epoch 2/5\n",
      "1407/1407 [==============================] - 25s 17ms/step - loss: 0.1801 - accuracy: 0.9337 - val_loss: 0.3370 - val_accuracy: 0.8647\n",
      "Epoch 3/5\n",
      "1407/1407 [==============================] - 25s 17ms/step - loss: 0.0805 - accuracy: 0.9750 - val_loss: 0.4042 - val_accuracy: 0.8519\n",
      "Epoch 4/5\n",
      "1407/1407 [==============================] - 24s 17ms/step - loss: 0.0413 - accuracy: 0.9884 - val_loss: 0.4665 - val_accuracy: 0.8451\n",
      "Epoch 5/5\n",
      "1407/1407 [==============================] - 24s 17ms/step - loss: 0.0249 - accuracy: 0.9930 - val_loss: 0.5261 - val_accuracy: 0.8422\n",
      "469/469 [==============================] - 1s 3ms/step - loss: 0.5304 - accuracy: 0.8380\n",
      "Accuracy:  0.8379999995231628\n"
     ]
    }
   ],
   "source": [
    "model.compile(loss = 'binary_crossentropy', optimizer = 'adam', metrics=['accuracy'])\n",
    "history = model.fit(X_train, y_train, epochs=5, validation_data=(X_valid, y_valid))\n",
    "print('Accuracy: ', model.evaluate(X_test, y_test)[1])"
   ]
  },
  {
   "cell_type": "code",
   "execution_count": null,
   "id": "724a8d56",
   "metadata": {},
   "outputs": [],
   "source": []
  },
  {
   "cell_type": "code",
   "execution_count": null,
   "id": "614ed558",
   "metadata": {},
   "outputs": [],
   "source": []
  },
  {
   "cell_type": "code",
   "execution_count": null,
   "id": "0633e7ea",
   "metadata": {},
   "outputs": [],
   "source": []
  },
  {
   "cell_type": "code",
   "execution_count": null,
   "id": "5d5e8bef",
   "metadata": {},
   "outputs": [],
   "source": []
  },
  {
   "cell_type": "code",
   "execution_count": 22,
   "id": "840230d1",
   "metadata": {},
   "outputs": [
    {
     "data": {
      "text/plain": [
       "0        직원들 서비스나 마인드 완벽합니다 다만 노후된 시설과 좁은 라운지가 호텔 이름에 비...\n",
       "1        웨스틴조선은 모든면에서 최고의 숙소라고 생각합니다 분위기 편의성 직원친절도까지 모두...\n",
       "2        서울시내에서 호캉스를 누릴 수 있는 곳아침 뷔페가 맛있는 곳룸서비스가 좋았음요구사항...\n",
       "3                                            가격에 맞게 만족했습니다\n",
       "4        처음 세명으로 셋팅 되어있지 않은점 빼고는 직원들의 친절도 및 서비스는 모두 맘에 ...\n",
       "                               ...                        \n",
       "74995    조식과 스탠더드 하프전망 신청해서  1박 했는데요ᆢ너무 좋아요ᆢ다만 가격이 좀 나가...\n",
       "74996    객실은 깔끔하고 에메니티도 딱 필요한만큼 있었습니다 5분거리에 중앙시장이 있어 쇼핑...\n",
       "74997    배드가 좋고 조용해서 좋았습니다찬바람이 좀 들어와서 난방기를 12시간 정도 돌려야 ...\n",
       "74998    우선 위치가 너무 좋았고 숙소에 짐을 놓고 걸어서 주변 가볼곳도 있고 먹거리도 맛있...\n",
       "74999    주차장이 부족해서 다른데에 주차했는데 아침에 이동해달라는 전화가 와서 다소 불쾌했슴...\n",
       "Name: description, Length: 75000, dtype: object"
      ]
     },
     "execution_count": 22,
     "metadata": {},
     "output_type": "execute_result"
    }
   ],
   "source": [
    "data[\"description\"]"
   ]
  },
  {
   "cell_type": "code",
   "execution_count": 62,
   "id": "b9c6a0cd",
   "metadata": {},
   "outputs": [
    {
     "data": {
      "image/png": "[encoded data removed]",
      "text/plain": [
       "<Figure size 640x480 with 1 Axes>"
      ]
     },
     "metadata": {},
     "output_type": "display_data"
    }
   ],
   "source": [
    "y_val_loss = history.history['val_loss']\n",
    "y_loss = history.history['loss']\n",
    "x_len = np.arange(len(y_loss))\n",
    "plt.plot(x_len, y_val_loss, marker='.', c='red', label='Testset_loss')\n",
    "plt.plot(x_len, y_loss, marker='.', c='blue', label='trainset_loss')\n",
    "plt.legend(loc='upper right')\n",
    "plt.grid()\n",
    "plt.xlabel('epoch')\n",
    "plt.ylabel('loss')\n",
    "plt.show()"
   ]
  },
  {
   "cell_type": "code",
   "execution_count": null,
   "id": "033c8c7a",
   "metadata": {},
   "outputs": [],
   "source": []
  },
  {
   "cell_type": "code",
   "execution_count": null,
   "id": "3d5507cd",
   "metadata": {},
   "outputs": [],
   "source": []
  },
  {
   "cell_type": "code",
   "execution_count": null,
   "id": "160dd1f9",
   "metadata": {},
   "outputs": [],
   "source": []
  },
  {
   "cell_type": "code",
   "execution_count": null,
   "id": "8a1e6e6a",
   "metadata": {},
   "outputs": [],
   "source": []
  },
  {
   "cell_type": "code",
   "execution_count": null,
   "id": "e952ff73",
   "metadata": {},
   "outputs": [],
   "source": [
    "text = '해보지 않으면 해낼 수 없다.'"
   ]
  },
  {
   "cell_type": "code",
   "execution_count": null,
   "id": "6d6b2d20",
   "metadata": {},
   "outputs": [],
   "source": [
    "result = text_to_word_sequence(text)\n",
    "print(\"원문: \", text)\n",
    "print(\"토큰화: \", result) # 토큰, 코퍼스(corpus)"
   ]
  },
  {
   "cell_type": "code",
   "execution_count": null,
   "id": "83bb2e1d",
   "metadata": {},
   "outputs": [],
   "source": [
    "# 단어 빈도수 세기\n",
    "docs = ['먼저 텍스트의 각 단어를 나누어 토큰화 합니다.',\n",
    "       '텍스트의 단어로 토큰화해야 딥러닝에서 인식됩니다.',\n",
    "        '토큰화한 결과는 딥러닝에서 사용할 수 있습니다.']"
   ]
  },
  {
   "cell_type": "markdown",
   "id": "4c22f8c8",
   "metadata": {},
   "source": [
    "# 토크나이즈 사용법"
   ]
  },
  {
   "cell_type": "code",
   "execution_count": null,
   "id": "0cbce8fb",
   "metadata": {},
   "outputs": [],
   "source": [
    "# 문장 토큰화 하기\n",
    "token = Tokenizer(lower=False)\n",
    "token.fit_on_texts(docs)"
   ]
  },
  {
   "cell_type": "code",
   "execution_count": null,
   "id": "de1d9415",
   "metadata": {},
   "outputs": [],
   "source": [
    "print('단어 카운트: ', token.word_counts)"
   ]
  },
  {
   "cell_type": "code",
   "execution_count": null,
   "id": "e2777cb1",
   "metadata": {},
   "outputs": [],
   "source": [
    "print('문장 카운트: ', token.document_count)"
   ]
  },
  {
   "cell_type": "code",
   "execution_count": null,
   "id": "1de17a4c",
   "metadata": {},
   "outputs": [],
   "source": [
    "print('각 단어가 몇 개의 문장에 포함되어 있는가? ', token.word_docs)"
   ]
  },
  {
   "cell_type": "code",
   "execution_count": null,
   "id": "c40a98b0",
   "metadata": {},
   "outputs": [],
   "source": [
    "print('각 단어에 매겨진 인덱스: ', token.word_index)"
   ]
  },
  {
   "cell_type": "markdown",
   "id": "1b63f459",
   "metadata": {},
   "source": [
    "# 단어의 원-핫 인코딩"
   ]
  },
  {
   "cell_type": "code",
   "execution_count": null,
   "id": "e192d4cb",
   "metadata": {},
   "outputs": [],
   "source": [
    "text = '오랫동안 꿈꾸는 이는 그 꿈을 닮아간다'\n",
    "token = Tokenizer(lower=False)\n",
    "token.fit_on_texts([text])\n",
    "print(token.word_index)"
   ]
  },
  {
   "cell_type": "code",
   "execution_count": null,
   "id": "5bb354a2",
   "metadata": {},
   "outputs": [],
   "source": [
    "# 단어를 벡터로 변환\n",
    "x = token.texts_to_sequences([text])"
   ]
  },
  {
   "cell_type": "code",
   "execution_count": null,
   "id": "9f43e61d",
   "metadata": {},
   "outputs": [],
   "source": [
    "len(token.word_index)"
   ]
  },
  {
   "cell_type": "code",
   "execution_count": null,
   "id": "b1f71cb4",
   "metadata": {},
   "outputs": [],
   "source": [
    "# 인덱스에 1을 추가해서 원-핫 인코딩 배열 만들기\n",
    "word_size = len(token.word_index) + 1 # +1 해주는 이유는 결과 앞에 0 안들어가서 잘려서 들어감"
   ]
  },
  {
   "cell_type": "code",
   "execution_count": null,
   "id": "e31347d1",
   "metadata": {},
   "outputs": [],
   "source": [
    "x = to_categorical(x, num_classes=word_size)\n",
    "print(x)"
   ]
  },
  {
   "cell_type": "markdown",
   "id": "3be830e6",
   "metadata": {},
   "source": [
    "# 텍스트를 읽고 긍정, 부정 예측하기"
   ]
  },
  {
   "cell_type": "code",
   "execution_count": null,
   "id": "e0566c5a",
   "metadata": {},
   "outputs": [],
   "source": [
    "docs = ['너무 재밌네요', '최고에요', '참 잘 만든 영화예요', '추천하고 싶은 영화입니다.',\n",
    "       '한번 더 보고싶네요', '글쎄요', '별로에요', '생각보다 지루하네요', '연기가 어색해요', '재미없어요']\n",
    "\n",
    "# 긍정리뷰는 1, 부정리뷰는 0으로 클래스 지정\n",
    "classes = array([1,1,1,1,1,0,0,0,0,0])"
   ]
  },
  {
   "cell_type": "code",
   "execution_count": null,
   "id": "c3778790",
   "metadata": {},
   "outputs": [],
   "source": [
    "# 토큰화\n",
    "token = Tokenizer(lower=False)\n",
    "token.fit_on_texts(docs)\n",
    "print(token.word_index)"
   ]
  },
  {
   "cell_type": "code",
   "execution_count": null,
   "id": "acea2e5c",
   "metadata": {},
   "outputs": [],
   "source": [
    "# 원핫인코딩\n",
    "x = token.texts_to_sequences(docs)\n",
    "print(x)"
   ]
  },
  {
   "cell_type": "code",
   "execution_count": null,
   "id": "5a5309d0",
   "metadata": {},
   "outputs": [],
   "source": [
    "# 패딩 추가 pad_sequences(데이터, 가장 긴 문장의 길이)\n",
    "padded_x = pad_sequences(x, 4)\n",
    "print(\"패딩 결과\", padded_x)"
   ]
  },
  {
   "cell_type": "code",
   "execution_count": null,
   "id": "02fc6ccd",
   "metadata": {},
   "outputs": [],
   "source": [
    "# 임베딩에 입력된 단어의 수 지정\n",
    "word_size = len(token.word_index) + 1"
   ]
  },
  {
   "cell_type": "code",
   "execution_count": null,
   "id": "7d9b3d6e",
   "metadata": {},
   "outputs": [],
   "source": [
    "# 단어 임베딩을 포함해서 딥러닝 모델 생성\n",
    "model = Sequential()\n",
    "model.add(Embedding(word_size, 8, input_length=4))\n",
    "model.add(Flatten())\n",
    "model.add(Dense(1, activation='sigmoid'))\n",
    "model.summary()"
   ]
  },
  {
   "cell_type": "code",
   "execution_count": null,
   "id": "40fb7d3d",
   "metadata": {},
   "outputs": [],
   "source": [
    "model.compile(loss = 'binary_crossentropy', optimizer = 'adam', metrics=['accuracy'])\n",
    "history = model.fit(padded_x, classes, epochs=20)\n",
    "print('Accuracy: ', model.evaluate(padded_x, classes)[1])"
   ]
  },
  {
   "cell_type": "code",
   "execution_count": null,
   "id": "f4ed7477",
   "metadata": {},
   "outputs": [],
   "source": []
  },
  {
   "cell_type": "code",
   "execution_count": null,
   "id": "8227d669",
   "metadata": {},
   "outputs": [],
   "source": []
  }
 ],
 "metadata": {
  "kernelspec": {
   "display_name": "Python 3 (ipykernel)",
   "language": "python",
   "name": "python3"
  },
  "language_info": {
   "codemirror_mode": {
    "name": "ipython",
    "version": 3
   },
   "file_extension": ".py",
   "mimetype": "text/x-python",
   "name": "python",
   "nbconvert_exporter": "python",
   "pygments_lexer": "ipython3",
   "version": "3.9.18"
  }
 },
 "nbformat": 4,
 "nbformat_minor": 5
}
