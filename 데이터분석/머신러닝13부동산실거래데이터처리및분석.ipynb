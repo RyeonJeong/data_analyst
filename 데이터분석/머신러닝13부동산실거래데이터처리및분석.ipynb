{
 "cells": [
  {
   "cell_type": "code",
   "execution_count": 1,
   "id": "b6aa0cbe",
   "metadata": {},
   "outputs": [],
   "source": [
    "import os\n",
    "import pandas as pd\n",
    "import numpy as np\n",
    "import matplotlib.pyplot as plt\n",
    "import seaborn as sns\n",
    "import koreanize_matplotlib"
   ]
  },
  {
   "cell_type": "markdown",
   "id": "21843375",
   "metadata": {},
   "source": [
    "## 전국 부동산 실거래가 파일이 총 296개 있음.\n",
    "## 파일 목록을 불러와 1개의 데이터 프레임으로 합쳐보세요."
   ]
  },
  {
   "cell_type": "code",
   "execution_count": 7,
   "id": "1d82101c",
   "metadata": {},
   "outputs": [
    {
     "data": {
      "text/plain": [
       "296"
      ]
     },
     "execution_count": 7,
     "metadata": {},
     "output_type": "execute_result"
    }
   ],
   "source": [
    "# 파일 목록 불러오기\n",
    "file_list = os.listdir(\"C:/bigdata/data/전국부동산실거래가\")\n",
    "len(file_list)\n",
    "# (r\"C:\\bigdata\\data\\전국부동산실거래가\")도 가능 /"
   ]
  },
  {
   "cell_type": "code",
   "execution_count": 3,
   "id": "7669d770",
   "metadata": {},
   "outputs": [],
   "source": [
    "directory_path = r\"C:\\bigdata\\data\\전국부동산실거래가\""
   ]
  },
  {
   "cell_type": "markdown",
   "id": "2f79905c",
   "metadata": {},
   "source": [
    "* 부동산 실거래가 파일만 불러와서 1개의 데이터 프레임으로 만들기\n",
    "    * 반복문 사용해서 파일 1개씩 불러오기\n",
    "    * 빈 데이터 프레임을 만들어 합치기 concat\n",
    "    (merge는 데이터베이스 join 과같음 특정 컬럼 기준으로 합치는거)"
   ]
  },
  {
   "cell_type": "code",
   "execution_count": 9,
   "id": "e6b91cd6",
   "metadata": {},
   "outputs": [],
   "source": [
    "file_list = [os.path.join(directory_path, file) for file in os.listdir(directory_path) if file.endswith('.csv')]"
   ]
  },
  {
   "cell_type": "code",
   "execution_count": 10,
   "id": "ef98e4bb",
   "metadata": {},
   "outputs": [],
   "source": [
    "file_list = file_list[:288]"
   ]
  },
  {
   "cell_type": "code",
   "execution_count": 8,
   "id": "7746e70b",
   "metadata": {},
   "outputs": [
    {
     "data": {
      "text/html": [
       "<div>\n",
       "<style scoped>\n",
       "    .dataframe tbody tr th:only-of-type {\n",
       "        vertical-align: middle;\n",
       "    }\n",
       "\n",
       "    .dataframe tbody tr th {\n",
       "        vertical-align: top;\n",
       "    }\n",
       "\n",
       "    .dataframe thead th {\n",
       "        text-align: right;\n",
       "    }\n",
       "</style>\n",
       "<table border=\"1\" class=\"dataframe\">\n",
       "  <thead>\n",
       "    <tr style=\"text-align: right;\">\n",
       "      <th></th>\n",
       "      <th>시군구</th>\n",
       "      <th>번지</th>\n",
       "      <th>본번</th>\n",
       "      <th>부번</th>\n",
       "      <th>단지명</th>\n",
       "      <th>전용면적(㎡)</th>\n",
       "      <th>계약년월</th>\n",
       "      <th>계약일</th>\n",
       "      <th>거래금액(만원)</th>\n",
       "      <th>층</th>\n",
       "      <th>건축년도</th>\n",
       "      <th>도로명</th>\n",
       "      <th>해제사유발생일</th>\n",
       "      <th>등기신청일자</th>\n",
       "      <th>거래유형</th>\n",
       "      <th>중개사소재지</th>\n",
       "    </tr>\n",
       "  </thead>\n",
       "  <tbody>\n",
       "    <tr>\n",
       "      <th>0</th>\n",
       "      <td>강원특별자치도 강릉시 견소동</td>\n",
       "      <td>202</td>\n",
       "      <td>202</td>\n",
       "      <td>0</td>\n",
       "      <td>송정한신</td>\n",
       "      <td>84.945</td>\n",
       "      <td>200602</td>\n",
       "      <td>16</td>\n",
       "      <td>7,500</td>\n",
       "      <td>5</td>\n",
       "      <td>1997</td>\n",
       "      <td>경강로2539번길 8</td>\n",
       "      <td>NaN</td>\n",
       "      <td></td>\n",
       "      <td>-</td>\n",
       "      <td>-</td>\n",
       "    </tr>\n",
       "    <tr>\n",
       "      <th>1</th>\n",
       "      <td>강원특별자치도 강릉시 견소동</td>\n",
       "      <td>202</td>\n",
       "      <td>202</td>\n",
       "      <td>0</td>\n",
       "      <td>송정한신</td>\n",
       "      <td>59.800</td>\n",
       "      <td>200602</td>\n",
       "      <td>20</td>\n",
       "      <td>6,500</td>\n",
       "      <td>8</td>\n",
       "      <td>1997</td>\n",
       "      <td>경강로2539번길 8</td>\n",
       "      <td>NaN</td>\n",
       "      <td></td>\n",
       "      <td>-</td>\n",
       "      <td>-</td>\n",
       "    </tr>\n",
       "    <tr>\n",
       "      <th>2</th>\n",
       "      <td>강원특별자치도 강릉시 견소동</td>\n",
       "      <td>202</td>\n",
       "      <td>202</td>\n",
       "      <td>0</td>\n",
       "      <td>송정한신</td>\n",
       "      <td>39.080</td>\n",
       "      <td>200602</td>\n",
       "      <td>24</td>\n",
       "      <td>3,500</td>\n",
       "      <td>13</td>\n",
       "      <td>1997</td>\n",
       "      <td>경강로2539번길 8</td>\n",
       "      <td>NaN</td>\n",
       "      <td></td>\n",
       "      <td>-</td>\n",
       "      <td>-</td>\n",
       "    </tr>\n",
       "    <tr>\n",
       "      <th>3</th>\n",
       "      <td>강원특별자치도 강릉시 견소동</td>\n",
       "      <td>289</td>\n",
       "      <td>289</td>\n",
       "      <td>0</td>\n",
       "      <td>송정해변신도브래뉴아파트</td>\n",
       "      <td>59.990</td>\n",
       "      <td>200602</td>\n",
       "      <td>5</td>\n",
       "      <td>9,310</td>\n",
       "      <td>10</td>\n",
       "      <td>2005</td>\n",
       "      <td>경강로2539번길 22</td>\n",
       "      <td>NaN</td>\n",
       "      <td></td>\n",
       "      <td>-</td>\n",
       "      <td>-</td>\n",
       "    </tr>\n",
       "    <tr>\n",
       "      <th>4</th>\n",
       "      <td>강원특별자치도 강릉시 교동</td>\n",
       "      <td>1750</td>\n",
       "      <td>1750</td>\n",
       "      <td>0</td>\n",
       "      <td>교동1주공</td>\n",
       "      <td>84.840</td>\n",
       "      <td>200602</td>\n",
       "      <td>3</td>\n",
       "      <td>12,000</td>\n",
       "      <td>13</td>\n",
       "      <td>1999</td>\n",
       "      <td>가작로 78</td>\n",
       "      <td>NaN</td>\n",
       "      <td></td>\n",
       "      <td>-</td>\n",
       "      <td>-</td>\n",
       "    </tr>\n",
       "    <tr>\n",
       "      <th>...</th>\n",
       "      <td>...</td>\n",
       "      <td>...</td>\n",
       "      <td>...</td>\n",
       "      <td>...</td>\n",
       "      <td>...</td>\n",
       "      <td>...</td>\n",
       "      <td>...</td>\n",
       "      <td>...</td>\n",
       "      <td>...</td>\n",
       "      <td>...</td>\n",
       "      <td>...</td>\n",
       "      <td>...</td>\n",
       "      <td>...</td>\n",
       "      <td>...</td>\n",
       "      <td>...</td>\n",
       "      <td>...</td>\n",
       "    </tr>\n",
       "    <tr>\n",
       "      <th>44738</th>\n",
       "      <td>충청북도 충주시 호암동</td>\n",
       "      <td>547-6</td>\n",
       "      <td>547</td>\n",
       "      <td>6</td>\n",
       "      <td>호반현대</td>\n",
       "      <td>84.750</td>\n",
       "      <td>200602</td>\n",
       "      <td>8</td>\n",
       "      <td>8,500</td>\n",
       "      <td>3</td>\n",
       "      <td>1994</td>\n",
       "      <td>신촌2길 29</td>\n",
       "      <td>NaN</td>\n",
       "      <td></td>\n",
       "      <td>-</td>\n",
       "      <td>-</td>\n",
       "    </tr>\n",
       "    <tr>\n",
       "      <th>44739</th>\n",
       "      <td>충청북도 충주시 호암동</td>\n",
       "      <td>547-6</td>\n",
       "      <td>547</td>\n",
       "      <td>6</td>\n",
       "      <td>호반현대</td>\n",
       "      <td>84.960</td>\n",
       "      <td>200602</td>\n",
       "      <td>13</td>\n",
       "      <td>9,800</td>\n",
       "      <td>10</td>\n",
       "      <td>1994</td>\n",
       "      <td>신촌2길 29</td>\n",
       "      <td>NaN</td>\n",
       "      <td></td>\n",
       "      <td>-</td>\n",
       "      <td>-</td>\n",
       "    </tr>\n",
       "    <tr>\n",
       "      <th>44740</th>\n",
       "      <td>충청북도 충주시 호암동</td>\n",
       "      <td>547-6</td>\n",
       "      <td>547</td>\n",
       "      <td>6</td>\n",
       "      <td>호반현대</td>\n",
       "      <td>84.960</td>\n",
       "      <td>200602</td>\n",
       "      <td>16</td>\n",
       "      <td>9,750</td>\n",
       "      <td>9</td>\n",
       "      <td>1994</td>\n",
       "      <td>신촌2길 29</td>\n",
       "      <td>NaN</td>\n",
       "      <td></td>\n",
       "      <td>-</td>\n",
       "      <td>-</td>\n",
       "    </tr>\n",
       "    <tr>\n",
       "      <th>44741</th>\n",
       "      <td>충청북도 충주시 호암동</td>\n",
       "      <td>547-6</td>\n",
       "      <td>547</td>\n",
       "      <td>6</td>\n",
       "      <td>호반현대</td>\n",
       "      <td>84.960</td>\n",
       "      <td>200602</td>\n",
       "      <td>17</td>\n",
       "      <td>9,850</td>\n",
       "      <td>9</td>\n",
       "      <td>1994</td>\n",
       "      <td>신촌2길 29</td>\n",
       "      <td>NaN</td>\n",
       "      <td></td>\n",
       "      <td>-</td>\n",
       "      <td>-</td>\n",
       "    </tr>\n",
       "    <tr>\n",
       "      <th>44742</th>\n",
       "      <td>충청북도 충주시 호암동</td>\n",
       "      <td>547-6</td>\n",
       "      <td>547</td>\n",
       "      <td>6</td>\n",
       "      <td>호반현대</td>\n",
       "      <td>84.960</td>\n",
       "      <td>200602</td>\n",
       "      <td>20</td>\n",
       "      <td>11,000</td>\n",
       "      <td>10</td>\n",
       "      <td>1994</td>\n",
       "      <td>신촌2길 29</td>\n",
       "      <td>NaN</td>\n",
       "      <td></td>\n",
       "      <td>-</td>\n",
       "      <td>-</td>\n",
       "    </tr>\n",
       "  </tbody>\n",
       "</table>\n",
       "<p>44743 rows × 16 columns</p>\n",
       "</div>"
      ],
      "text/plain": [
       "                   시군구     번지    본번  부번           단지명  전용면적(㎡)    계약년월  계약일  \\\n",
       "0      강원특별자치도 강릉시 견소동    202   202   0          송정한신   84.945  200602   16   \n",
       "1      강원특별자치도 강릉시 견소동    202   202   0          송정한신   59.800  200602   20   \n",
       "2      강원특별자치도 강릉시 견소동    202   202   0          송정한신   39.080  200602   24   \n",
       "3      강원특별자치도 강릉시 견소동    289   289   0  송정해변신도브래뉴아파트   59.990  200602    5   \n",
       "4       강원특별자치도 강릉시 교동   1750  1750   0         교동1주공   84.840  200602    3   \n",
       "...                ...    ...   ...  ..           ...      ...     ...  ...   \n",
       "44738     충청북도 충주시 호암동  547-6   547   6          호반현대   84.750  200602    8   \n",
       "44739     충청북도 충주시 호암동  547-6   547   6          호반현대   84.960  200602   13   \n",
       "44740     충청북도 충주시 호암동  547-6   547   6          호반현대   84.960  200602   16   \n",
       "44741     충청북도 충주시 호암동  547-6   547   6          호반현대   84.960  200602   17   \n",
       "44742     충청북도 충주시 호암동  547-6   547   6          호반현대   84.960  200602   20   \n",
       "\n",
       "      거래금액(만원)   층  건축년도           도로명  해제사유발생일 등기신청일자 거래유형 중개사소재지  \n",
       "0        7,500   5  1997   경강로2539번길 8      NaN           -      -  \n",
       "1        6,500   8  1997   경강로2539번길 8      NaN           -      -  \n",
       "2        3,500  13  1997   경강로2539번길 8      NaN           -      -  \n",
       "3        9,310  10  2005  경강로2539번길 22      NaN           -      -  \n",
       "4       12,000  13  1999        가작로 78      NaN           -      -  \n",
       "...        ...  ..   ...           ...      ...    ...  ...    ...  \n",
       "44738    8,500   3  1994       신촌2길 29      NaN           -      -  \n",
       "44739    9,800  10  1994       신촌2길 29      NaN           -      -  \n",
       "44740    9,750   9  1994       신촌2길 29      NaN           -      -  \n",
       "44741    9,850   9  1994       신촌2길 29      NaN           -      -  \n",
       "44742   11,000  10  1994       신촌2길 29      NaN           -      -  \n",
       "\n",
       "[44743 rows x 16 columns]"
      ]
     },
     "execution_count": 8,
     "metadata": {},
     "output_type": "execute_result"
    }
   ],
   "source": [
    "pd.read_csv(f'C:/bigdata/data/전국부동산실거래가/{file_list[85]}', encoding='cp949', skiprows=15, sep=\",\")"
   ]
  },
  {
   "cell_type": "code",
   "execution_count": 11,
   "id": "7de2414b",
   "metadata": {},
   "outputs": [
    {
     "data": {
      "text/plain": [
       "'C:\\\\bigdata\\\\data\\\\전국부동산실거래가\\\\1999_01.csv'"
      ]
     },
     "execution_count": 11,
     "metadata": {},
     "output_type": "execute_result"
    }
   ],
   "source": [
    "file_list[0]"
   ]
  },
  {
   "cell_type": "code",
   "execution_count": 12,
   "id": "0482b1a3",
   "metadata": {
    "scrolled": true
   },
   "outputs": [
    {
     "name": "stdout",
     "output_type": "stream",
     "text": [
      "데이터가 없는 파일들 C:\\bigdata\\data\\전국부동산실거래가\\1999_01.csv\n",
      "데이터가 없는 파일들 C:\\bigdata\\data\\전국부동산실거래가\\1999_02.csv\n",
      "데이터가 없는 파일들 C:\\bigdata\\data\\전국부동산실거래가\\1999_03.csv\n",
      "데이터가 없는 파일들 C:\\bigdata\\data\\전국부동산실거래가\\1999_04.csv\n",
      "데이터가 없는 파일들 C:\\bigdata\\data\\전국부동산실거래가\\1999_05.csv\n",
      "데이터가 없는 파일들 C:\\bigdata\\data\\전국부동산실거래가\\1999_06.csv\n",
      "데이터가 없는 파일들 C:\\bigdata\\data\\전국부동산실거래가\\1999_07.csv\n",
      "데이터가 없는 파일들 C:\\bigdata\\data\\전국부동산실거래가\\1999_08.csv\n",
      "데이터가 없는 파일들 C:\\bigdata\\data\\전국부동산실거래가\\1999_09.csv\n",
      "데이터가 없는 파일들 C:\\bigdata\\data\\전국부동산실거래가\\1999_10.csv\n",
      "데이터가 없는 파일들 C:\\bigdata\\data\\전국부동산실거래가\\1999_11.csv\n",
      "데이터가 없는 파일들 C:\\bigdata\\data\\전국부동산실거래가\\1999_12.csv\n",
      "데이터가 없는 파일들 C:\\bigdata\\data\\전국부동산실거래가\\2000_01.csv\n",
      "데이터가 없는 파일들 C:\\bigdata\\data\\전국부동산실거래가\\2000_02.csv\n",
      "데이터가 없는 파일들 C:\\bigdata\\data\\전국부동산실거래가\\2000_03.csv\n",
      "데이터가 없는 파일들 C:\\bigdata\\data\\전국부동산실거래가\\2000_04.csv\n",
      "데이터가 없는 파일들 C:\\bigdata\\data\\전국부동산실거래가\\2000_05.csv\n",
      "데이터가 없는 파일들 C:\\bigdata\\data\\전국부동산실거래가\\2000_06.csv\n",
      "데이터가 없는 파일들 C:\\bigdata\\data\\전국부동산실거래가\\2000_07.csv\n",
      "데이터가 없는 파일들 C:\\bigdata\\data\\전국부동산실거래가\\2000_08.csv\n",
      "데이터가 없는 파일들 C:\\bigdata\\data\\전국부동산실거래가\\2000_09.csv\n",
      "데이터가 없는 파일들 C:\\bigdata\\data\\전국부동산실거래가\\2000_10.csv\n",
      "데이터가 없는 파일들 C:\\bigdata\\data\\전국부동산실거래가\\2000_11.csv\n",
      "데이터가 없는 파일들 C:\\bigdata\\data\\전국부동산실거래가\\2000_12.csv\n",
      "데이터가 없는 파일들 C:\\bigdata\\data\\전국부동산실거래가\\2001_01.csv\n",
      "데이터가 없는 파일들 C:\\bigdata\\data\\전국부동산실거래가\\2001_02.csv\n",
      "데이터가 없는 파일들 C:\\bigdata\\data\\전국부동산실거래가\\2001_03.csv\n",
      "데이터가 없는 파일들 C:\\bigdata\\data\\전국부동산실거래가\\2001_04.csv\n",
      "데이터가 없는 파일들 C:\\bigdata\\data\\전국부동산실거래가\\2001_05.csv\n",
      "데이터가 없는 파일들 C:\\bigdata\\data\\전국부동산실거래가\\2001_06.csv\n",
      "데이터가 없는 파일들 C:\\bigdata\\data\\전국부동산실거래가\\2001_07.csv\n",
      "데이터가 없는 파일들 C:\\bigdata\\data\\전국부동산실거래가\\2001_08.csv\n",
      "데이터가 없는 파일들 C:\\bigdata\\data\\전국부동산실거래가\\2001_09.csv\n",
      "데이터가 없는 파일들 C:\\bigdata\\data\\전국부동산실거래가\\2001_10.csv\n",
      "데이터가 없는 파일들 C:\\bigdata\\data\\전국부동산실거래가\\2001_11.csv\n",
      "데이터가 없는 파일들 C:\\bigdata\\data\\전국부동산실거래가\\2001_12.csv\n",
      "데이터가 없는 파일들 C:\\bigdata\\data\\전국부동산실거래가\\2002_01.csv\n",
      "데이터가 없는 파일들 C:\\bigdata\\data\\전국부동산실거래가\\2002_02.csv\n",
      "데이터가 없는 파일들 C:\\bigdata\\data\\전국부동산실거래가\\2002_03.csv\n",
      "데이터가 없는 파일들 C:\\bigdata\\data\\전국부동산실거래가\\2002_04.csv\n",
      "데이터가 없는 파일들 C:\\bigdata\\data\\전국부동산실거래가\\2002_05.csv\n",
      "데이터가 없는 파일들 C:\\bigdata\\data\\전국부동산실거래가\\2002_06.csv\n",
      "데이터가 없는 파일들 C:\\bigdata\\data\\전국부동산실거래가\\2002_07.csv\n",
      "데이터가 없는 파일들 C:\\bigdata\\data\\전국부동산실거래가\\2002_08.csv\n",
      "데이터가 없는 파일들 C:\\bigdata\\data\\전국부동산실거래가\\2002_09.csv\n",
      "데이터가 없는 파일들 C:\\bigdata\\data\\전국부동산실거래가\\2002_10.csv\n",
      "데이터가 없는 파일들 C:\\bigdata\\data\\전국부동산실거래가\\2002_11.csv\n",
      "데이터가 없는 파일들 C:\\bigdata\\data\\전국부동산실거래가\\2002_12.csv\n",
      "데이터가 없는 파일들 C:\\bigdata\\data\\전국부동산실거래가\\2003_01.csv\n",
      "데이터가 없는 파일들 C:\\bigdata\\data\\전국부동산실거래가\\2003_02.csv\n",
      "데이터가 없는 파일들 C:\\bigdata\\data\\전국부동산실거래가\\2003_03.csv\n",
      "데이터가 없는 파일들 C:\\bigdata\\data\\전국부동산실거래가\\2003_04.csv\n",
      "데이터가 없는 파일들 C:\\bigdata\\data\\전국부동산실거래가\\2003_05.csv\n",
      "데이터가 없는 파일들 C:\\bigdata\\data\\전국부동산실거래가\\2003_06.csv\n",
      "데이터가 없는 파일들 C:\\bigdata\\data\\전국부동산실거래가\\2003_07.csv\n",
      "데이터가 없는 파일들 C:\\bigdata\\data\\전국부동산실거래가\\2003_08.csv\n",
      "데이터가 없는 파일들 C:\\bigdata\\data\\전국부동산실거래가\\2003_09.csv\n",
      "데이터가 없는 파일들 C:\\bigdata\\data\\전국부동산실거래가\\2003_10.csv\n",
      "데이터가 없는 파일들 C:\\bigdata\\data\\전국부동산실거래가\\2003_11.csv\n",
      "데이터가 없는 파일들 C:\\bigdata\\data\\전국부동산실거래가\\2003_12.csv\n",
      "데이터가 없는 파일들 C:\\bigdata\\data\\전국부동산실거래가\\2004_01.csv\n",
      "데이터가 없는 파일들 C:\\bigdata\\data\\전국부동산실거래가\\2004_02.csv\n",
      "데이터가 없는 파일들 C:\\bigdata\\data\\전국부동산실거래가\\2004_03.csv\n",
      "데이터가 없는 파일들 C:\\bigdata\\data\\전국부동산실거래가\\2004_04.csv\n",
      "데이터가 없는 파일들 C:\\bigdata\\data\\전국부동산실거래가\\2004_05.csv\n",
      "데이터가 없는 파일들 C:\\bigdata\\data\\전국부동산실거래가\\2004_06.csv\n",
      "데이터가 없는 파일들 C:\\bigdata\\data\\전국부동산실거래가\\2004_07.csv\n",
      "데이터가 없는 파일들 C:\\bigdata\\data\\전국부동산실거래가\\2004_08.csv\n",
      "데이터가 없는 파일들 C:\\bigdata\\data\\전국부동산실거래가\\2004_09.csv\n",
      "데이터가 없는 파일들 C:\\bigdata\\data\\전국부동산실거래가\\2004_10.csv\n",
      "데이터가 없는 파일들 C:\\bigdata\\data\\전국부동산실거래가\\2004_11.csv\n",
      "데이터가 없는 파일들 C:\\bigdata\\data\\전국부동산실거래가\\2004_12.csv\n",
      "데이터가 없는 파일들 C:\\bigdata\\data\\전국부동산실거래가\\2005_01.csv\n",
      "데이터가 없는 파일들 C:\\bigdata\\data\\전국부동산실거래가\\2005_02.csv\n",
      "데이터가 없는 파일들 C:\\bigdata\\data\\전국부동산실거래가\\2005_03.csv\n",
      "데이터가 없는 파일들 C:\\bigdata\\data\\전국부동산실거래가\\2005_04.csv\n",
      "데이터가 없는 파일들 C:\\bigdata\\data\\전국부동산실거래가\\2005_05.csv\n",
      "데이터가 없는 파일들 C:\\bigdata\\data\\전국부동산실거래가\\2005_06.csv\n",
      "데이터가 없는 파일들 C:\\bigdata\\data\\전국부동산실거래가\\2005_07.csv\n",
      "데이터가 없는 파일들 C:\\bigdata\\data\\전국부동산실거래가\\2005_08.csv\n",
      "데이터가 없는 파일들 C:\\bigdata\\data\\전국부동산실거래가\\2005_12.csv\n"
     ]
    },
    {
     "name": "stderr",
     "output_type": "stream",
     "text": [
      "C:\\Users\\hi\\AppData\\Local\\Temp\\ipykernel_5308\\2872301920.py:5: DtypeWarning: Columns (2) have mixed types. Specify dtype option on import or set low_memory=False.\n",
      "  data = pd.read_csv(file,encoding=\"cp949\",sep=\",\",skiprows=15)\n",
      "C:\\Users\\hi\\AppData\\Local\\Temp\\ipykernel_5308\\2872301920.py:5: DtypeWarning: Columns (2) have mixed types. Specify dtype option on import or set low_memory=False.\n",
      "  data = pd.read_csv(file,encoding=\"cp949\",sep=\",\",skiprows=15)\n",
      "C:\\Users\\hi\\AppData\\Local\\Temp\\ipykernel_5308\\2872301920.py:5: DtypeWarning: Columns (2) have mixed types. Specify dtype option on import or set low_memory=False.\n",
      "  data = pd.read_csv(file,encoding=\"cp949\",sep=\",\",skiprows=15)\n",
      "C:\\Users\\hi\\AppData\\Local\\Temp\\ipykernel_5308\\2872301920.py:5: DtypeWarning: Columns (2) have mixed types. Specify dtype option on import or set low_memory=False.\n",
      "  data = pd.read_csv(file,encoding=\"cp949\",sep=\",\",skiprows=15)\n",
      "C:\\Users\\hi\\AppData\\Local\\Temp\\ipykernel_5308\\2872301920.py:5: DtypeWarning: Columns (2) have mixed types. Specify dtype option on import or set low_memory=False.\n",
      "  data = pd.read_csv(file,encoding=\"cp949\",sep=\",\",skiprows=15)\n",
      "C:\\Users\\hi\\AppData\\Local\\Temp\\ipykernel_5308\\2872301920.py:5: DtypeWarning: Columns (2) have mixed types. Specify dtype option on import or set low_memory=False.\n",
      "  data = pd.read_csv(file,encoding=\"cp949\",sep=\",\",skiprows=15)\n",
      "C:\\Users\\hi\\AppData\\Local\\Temp\\ipykernel_5308\\2872301920.py:5: DtypeWarning: Columns (2) have mixed types. Specify dtype option on import or set low_memory=False.\n",
      "  data = pd.read_csv(file,encoding=\"cp949\",sep=\",\",skiprows=15)\n",
      "C:\\Users\\hi\\AppData\\Local\\Temp\\ipykernel_5308\\2872301920.py:5: DtypeWarning: Columns (2) have mixed types. Specify dtype option on import or set low_memory=False.\n",
      "  data = pd.read_csv(file,encoding=\"cp949\",sep=\",\",skiprows=15)\n",
      "C:\\Users\\hi\\AppData\\Local\\Temp\\ipykernel_5308\\2872301920.py:5: DtypeWarning: Columns (2) have mixed types. Specify dtype option on import or set low_memory=False.\n",
      "  data = pd.read_csv(file,encoding=\"cp949\",sep=\",\",skiprows=15)\n",
      "C:\\Users\\hi\\AppData\\Local\\Temp\\ipykernel_5308\\2872301920.py:5: DtypeWarning: Columns (2) have mixed types. Specify dtype option on import or set low_memory=False.\n",
      "  data = pd.read_csv(file,encoding=\"cp949\",sep=\",\",skiprows=15)\n",
      "C:\\Users\\hi\\AppData\\Local\\Temp\\ipykernel_5308\\2872301920.py:5: DtypeWarning: Columns (2) have mixed types. Specify dtype option on import or set low_memory=False.\n",
      "  data = pd.read_csv(file,encoding=\"cp949\",sep=\",\",skiprows=15)\n",
      "C:\\Users\\hi\\AppData\\Local\\Temp\\ipykernel_5308\\2872301920.py:5: DtypeWarning: Columns (2) have mixed types. Specify dtype option on import or set low_memory=False.\n",
      "  data = pd.read_csv(file,encoding=\"cp949\",sep=\",\",skiprows=15)\n",
      "C:\\Users\\hi\\AppData\\Local\\Temp\\ipykernel_5308\\2872301920.py:5: DtypeWarning: Columns (2) have mixed types. Specify dtype option on import or set low_memory=False.\n",
      "  data = pd.read_csv(file,encoding=\"cp949\",sep=\",\",skiprows=15)\n",
      "C:\\Users\\hi\\AppData\\Local\\Temp\\ipykernel_5308\\2872301920.py:5: DtypeWarning: Columns (2) have mixed types. Specify dtype option on import or set low_memory=False.\n",
      "  data = pd.read_csv(file,encoding=\"cp949\",sep=\",\",skiprows=15)\n",
      "C:\\Users\\hi\\AppData\\Local\\Temp\\ipykernel_5308\\2872301920.py:5: DtypeWarning: Columns (2) have mixed types. Specify dtype option on import or set low_memory=False.\n",
      "  data = pd.read_csv(file,encoding=\"cp949\",sep=\",\",skiprows=15)\n",
      "C:\\Users\\hi\\AppData\\Local\\Temp\\ipykernel_5308\\2872301920.py:5: DtypeWarning: Columns (2) have mixed types. Specify dtype option on import or set low_memory=False.\n",
      "  data = pd.read_csv(file,encoding=\"cp949\",sep=\",\",skiprows=15)\n",
      "C:\\Users\\hi\\AppData\\Local\\Temp\\ipykernel_5308\\2872301920.py:5: DtypeWarning: Columns (2) have mixed types. Specify dtype option on import or set low_memory=False.\n",
      "  data = pd.read_csv(file,encoding=\"cp949\",sep=\",\",skiprows=15)\n",
      "C:\\Users\\hi\\AppData\\Local\\Temp\\ipykernel_5308\\2872301920.py:5: DtypeWarning: Columns (2) have mixed types. Specify dtype option on import or set low_memory=False.\n",
      "  data = pd.read_csv(file,encoding=\"cp949\",sep=\",\",skiprows=15)\n",
      "C:\\Users\\hi\\AppData\\Local\\Temp\\ipykernel_5308\\2872301920.py:5: DtypeWarning: Columns (2) have mixed types. Specify dtype option on import or set low_memory=False.\n",
      "  data = pd.read_csv(file,encoding=\"cp949\",sep=\",\",skiprows=15)\n",
      "C:\\Users\\hi\\AppData\\Local\\Temp\\ipykernel_5308\\2872301920.py:5: DtypeWarning: Columns (2) have mixed types. Specify dtype option on import or set low_memory=False.\n",
      "  data = pd.read_csv(file,encoding=\"cp949\",sep=\",\",skiprows=15)\n",
      "C:\\Users\\hi\\AppData\\Local\\Temp\\ipykernel_5308\\2872301920.py:5: DtypeWarning: Columns (2) have mixed types. Specify dtype option on import or set low_memory=False.\n",
      "  data = pd.read_csv(file,encoding=\"cp949\",sep=\",\",skiprows=15)\n",
      "C:\\Users\\hi\\AppData\\Local\\Temp\\ipykernel_5308\\2872301920.py:5: DtypeWarning: Columns (2) have mixed types. Specify dtype option on import or set low_memory=False.\n",
      "  data = pd.read_csv(file,encoding=\"cp949\",sep=\",\",skiprows=15)\n",
      "C:\\Users\\hi\\AppData\\Local\\Temp\\ipykernel_5308\\2872301920.py:5: DtypeWarning: Columns (2) have mixed types. Specify dtype option on import or set low_memory=False.\n",
      "  data = pd.read_csv(file,encoding=\"cp949\",sep=\",\",skiprows=15)\n",
      "C:\\Users\\hi\\AppData\\Local\\Temp\\ipykernel_5308\\2872301920.py:5: DtypeWarning: Columns (2) have mixed types. Specify dtype option on import or set low_memory=False.\n",
      "  data = pd.read_csv(file,encoding=\"cp949\",sep=\",\",skiprows=15)\n",
      "C:\\Users\\hi\\AppData\\Local\\Temp\\ipykernel_5308\\2872301920.py:5: DtypeWarning: Columns (2) have mixed types. Specify dtype option on import or set low_memory=False.\n",
      "  data = pd.read_csv(file,encoding=\"cp949\",sep=\",\",skiprows=15)\n",
      "C:\\Users\\hi\\AppData\\Local\\Temp\\ipykernel_5308\\2872301920.py:5: DtypeWarning: Columns (2) have mixed types. Specify dtype option on import or set low_memory=False.\n",
      "  data = pd.read_csv(file,encoding=\"cp949\",sep=\",\",skiprows=15)\n",
      "C:\\Users\\hi\\AppData\\Local\\Temp\\ipykernel_5308\\2872301920.py:5: DtypeWarning: Columns (2) have mixed types. Specify dtype option on import or set low_memory=False.\n",
      "  data = pd.read_csv(file,encoding=\"cp949\",sep=\",\",skiprows=15)\n",
      "C:\\Users\\hi\\AppData\\Local\\Temp\\ipykernel_5308\\2872301920.py:5: DtypeWarning: Columns (2) have mixed types. Specify dtype option on import or set low_memory=False.\n",
      "  data = pd.read_csv(file,encoding=\"cp949\",sep=\",\",skiprows=15)\n",
      "C:\\Users\\hi\\AppData\\Local\\Temp\\ipykernel_5308\\2872301920.py:5: DtypeWarning: Columns (2) have mixed types. Specify dtype option on import or set low_memory=False.\n",
      "  data = pd.read_csv(file,encoding=\"cp949\",sep=\",\",skiprows=15)\n",
      "C:\\Users\\hi\\AppData\\Local\\Temp\\ipykernel_5308\\2872301920.py:5: DtypeWarning: Columns (2) have mixed types. Specify dtype option on import or set low_memory=False.\n",
      "  data = pd.read_csv(file,encoding=\"cp949\",sep=\",\",skiprows=15)\n",
      "C:\\Users\\hi\\AppData\\Local\\Temp\\ipykernel_5308\\2872301920.py:5: DtypeWarning: Columns (2) have mixed types. Specify dtype option on import or set low_memory=False.\n",
      "  data = pd.read_csv(file,encoding=\"cp949\",sep=\",\",skiprows=15)\n",
      "C:\\Users\\hi\\AppData\\Local\\Temp\\ipykernel_5308\\2872301920.py:5: DtypeWarning: Columns (2) have mixed types. Specify dtype option on import or set low_memory=False.\n",
      "  data = pd.read_csv(file,encoding=\"cp949\",sep=\",\",skiprows=15)\n",
      "C:\\Users\\hi\\AppData\\Local\\Temp\\ipykernel_5308\\2872301920.py:5: DtypeWarning: Columns (2) have mixed types. Specify dtype option on import or set low_memory=False.\n",
      "  data = pd.read_csv(file,encoding=\"cp949\",sep=\",\",skiprows=15)\n",
      "C:\\Users\\hi\\AppData\\Local\\Temp\\ipykernel_5308\\2872301920.py:5: DtypeWarning: Columns (2) have mixed types. Specify dtype option on import or set low_memory=False.\n",
      "  data = pd.read_csv(file,encoding=\"cp949\",sep=\",\",skiprows=15)\n",
      "C:\\Users\\hi\\AppData\\Local\\Temp\\ipykernel_5308\\2872301920.py:5: DtypeWarning: Columns (2) have mixed types. Specify dtype option on import or set low_memory=False.\n",
      "  data = pd.read_csv(file,encoding=\"cp949\",sep=\",\",skiprows=15)\n",
      "C:\\Users\\hi\\AppData\\Local\\Temp\\ipykernel_5308\\2872301920.py:5: DtypeWarning: Columns (2) have mixed types. Specify dtype option on import or set low_memory=False.\n",
      "  data = pd.read_csv(file,encoding=\"cp949\",sep=\",\",skiprows=15)\n",
      "C:\\Users\\hi\\AppData\\Local\\Temp\\ipykernel_5308\\2872301920.py:5: DtypeWarning: Columns (2) have mixed types. Specify dtype option on import or set low_memory=False.\n",
      "  data = pd.read_csv(file,encoding=\"cp949\",sep=\",\",skiprows=15)\n"
     ]
    },
    {
     "name": "stderr",
     "output_type": "stream",
     "text": [
      "C:\\Users\\hi\\AppData\\Local\\Temp\\ipykernel_5308\\2872301920.py:5: DtypeWarning: Columns (2) have mixed types. Specify dtype option on import or set low_memory=False.\n",
      "  data = pd.read_csv(file,encoding=\"cp949\",sep=\",\",skiprows=15)\n",
      "C:\\Users\\hi\\AppData\\Local\\Temp\\ipykernel_5308\\2872301920.py:5: DtypeWarning: Columns (2) have mixed types. Specify dtype option on import or set low_memory=False.\n",
      "  data = pd.read_csv(file,encoding=\"cp949\",sep=\",\",skiprows=15)\n",
      "C:\\Users\\hi\\AppData\\Local\\Temp\\ipykernel_5308\\2872301920.py:5: DtypeWarning: Columns (2) have mixed types. Specify dtype option on import or set low_memory=False.\n",
      "  data = pd.read_csv(file,encoding=\"cp949\",sep=\",\",skiprows=15)\n",
      "C:\\Users\\hi\\AppData\\Local\\Temp\\ipykernel_5308\\2872301920.py:5: DtypeWarning: Columns (2) have mixed types. Specify dtype option on import or set low_memory=False.\n",
      "  data = pd.read_csv(file,encoding=\"cp949\",sep=\",\",skiprows=15)\n",
      "C:\\Users\\hi\\AppData\\Local\\Temp\\ipykernel_5308\\2872301920.py:5: DtypeWarning: Columns (2) have mixed types. Specify dtype option on import or set low_memory=False.\n",
      "  data = pd.read_csv(file,encoding=\"cp949\",sep=\",\",skiprows=15)\n",
      "C:\\Users\\hi\\AppData\\Local\\Temp\\ipykernel_5308\\2872301920.py:5: DtypeWarning: Columns (2) have mixed types. Specify dtype option on import or set low_memory=False.\n",
      "  data = pd.read_csv(file,encoding=\"cp949\",sep=\",\",skiprows=15)\n",
      "C:\\Users\\hi\\AppData\\Local\\Temp\\ipykernel_5308\\2872301920.py:5: DtypeWarning: Columns (2) have mixed types. Specify dtype option on import or set low_memory=False.\n",
      "  data = pd.read_csv(file,encoding=\"cp949\",sep=\",\",skiprows=15)\n",
      "C:\\Users\\hi\\AppData\\Local\\Temp\\ipykernel_5308\\2872301920.py:5: DtypeWarning: Columns (2) have mixed types. Specify dtype option on import or set low_memory=False.\n",
      "  data = pd.read_csv(file,encoding=\"cp949\",sep=\",\",skiprows=15)\n",
      "C:\\Users\\hi\\AppData\\Local\\Temp\\ipykernel_5308\\2872301920.py:5: DtypeWarning: Columns (2) have mixed types. Specify dtype option on import or set low_memory=False.\n",
      "  data = pd.read_csv(file,encoding=\"cp949\",sep=\",\",skiprows=15)\n",
      "C:\\Users\\hi\\AppData\\Local\\Temp\\ipykernel_5308\\2872301920.py:5: DtypeWarning: Columns (2) have mixed types. Specify dtype option on import or set low_memory=False.\n",
      "  data = pd.read_csv(file,encoding=\"cp949\",sep=\",\",skiprows=15)\n",
      "C:\\Users\\hi\\AppData\\Local\\Temp\\ipykernel_5308\\2872301920.py:5: DtypeWarning: Columns (2) have mixed types. Specify dtype option on import or set low_memory=False.\n",
      "  data = pd.read_csv(file,encoding=\"cp949\",sep=\",\",skiprows=15)\n",
      "C:\\Users\\hi\\AppData\\Local\\Temp\\ipykernel_5308\\2872301920.py:5: DtypeWarning: Columns (2) have mixed types. Specify dtype option on import or set low_memory=False.\n",
      "  data = pd.read_csv(file,encoding=\"cp949\",sep=\",\",skiprows=15)\n",
      "C:\\Users\\hi\\AppData\\Local\\Temp\\ipykernel_5308\\2872301920.py:5: DtypeWarning: Columns (2) have mixed types. Specify dtype option on import or set low_memory=False.\n",
      "  data = pd.read_csv(file,encoding=\"cp949\",sep=\",\",skiprows=15)\n"
     ]
    }
   ],
   "source": [
    "dataframe = []\n",
    "\n",
    "for file in file_list:\n",
    "    try:\n",
    "        data = pd.read_csv(file,encoding=\"cp949\",sep=\",\",skiprows=15)\n",
    "        \n",
    "        if not data.empty:\n",
    "            dataframe.append(data)\n",
    "        else:\n",
    "            print(f\"데이터가 없는 파일들 {file}\")\n",
    "    \n",
    "    except Exception as e :\n",
    "        print(f\"불러올 수 없는 파일 {e}\")\n",
    "    \n",
    "merged_data = pd.concat(dataframe,ignore_index=True)\n",
    "    \n",
    "        "
   ]
  },
  {
   "cell_type": "code",
   "execution_count": null,
   "id": "de023fcd",
   "metadata": {},
   "outputs": [],
   "source": [
    "merged_data"
   ]
  },
  {
   "cell_type": "code",
   "execution_count": 13,
   "id": "4fc8f672",
   "metadata": {},
   "outputs": [
    {
     "name": "stdout",
     "output_type": "stream",
     "text": [
      "<class 'pandas.core.frame.DataFrame'>\n",
      "RangeIndex: 9591343 entries, 0 to 9591342\n",
      "Data columns (total 16 columns):\n",
      " #   Column    Dtype  \n",
      "---  ------    -----  \n",
      " 0   시군구       object \n",
      " 1   번지        object \n",
      " 2   본번        object \n",
      " 3   부번        float64\n",
      " 4   단지명       object \n",
      " 5   전용면적(㎡)   float64\n",
      " 6   계약년월      int64  \n",
      " 7   계약일       int64  \n",
      " 8   거래금액(만원)  object \n",
      " 9   층         int64  \n",
      " 10  건축년도      float64\n",
      " 11  도로명       object \n",
      " 12  해제사유발생일   float64\n",
      " 13  등기신청일자    object \n",
      " 14  거래유형      object \n",
      " 15  중개사소재지    object \n",
      "dtypes: float64(4), int64(3), object(9)\n",
      "memory usage: 1.1+ GB\n"
     ]
    }
   ],
   "source": [
    "merged_data.info()"
   ]
  },
  {
   "cell_type": "code",
   "execution_count": 14,
   "id": "0d5a6205",
   "metadata": {},
   "outputs": [],
   "source": [
    "data = merged_data"
   ]
  },
  {
   "cell_type": "code",
   "execution_count": 15,
   "id": "e0e1285a",
   "metadata": {},
   "outputs": [
    {
     "data": {
      "text/html": [
       "<div>\n",
       "<style scoped>\n",
       "    .dataframe tbody tr th:only-of-type {\n",
       "        vertical-align: middle;\n",
       "    }\n",
       "\n",
       "    .dataframe tbody tr th {\n",
       "        vertical-align: top;\n",
       "    }\n",
       "\n",
       "    .dataframe thead th {\n",
       "        text-align: right;\n",
       "    }\n",
       "</style>\n",
       "<table border=\"1\" class=\"dataframe\">\n",
       "  <thead>\n",
       "    <tr style=\"text-align: right;\">\n",
       "      <th></th>\n",
       "      <th>index</th>\n",
       "      <th>시군구</th>\n",
       "      <th>번지</th>\n",
       "      <th>본번</th>\n",
       "      <th>부번</th>\n",
       "      <th>단지명</th>\n",
       "      <th>전용면적(㎡)</th>\n",
       "      <th>계약년월</th>\n",
       "      <th>계약일</th>\n",
       "      <th>거래금액(만원)</th>\n",
       "      <th>층</th>\n",
       "      <th>건축년도</th>\n",
       "      <th>도로명</th>\n",
       "      <th>해제사유발생일</th>\n",
       "      <th>등기신청일자</th>\n",
       "      <th>거래유형</th>\n",
       "      <th>중개사소재지</th>\n",
       "    </tr>\n",
       "  </thead>\n",
       "  <tbody>\n",
       "    <tr>\n",
       "      <th>0</th>\n",
       "      <td>0</td>\n",
       "      <td>강원특별자치도 양구군 양구읍 상리</td>\n",
       "      <td>510</td>\n",
       "      <td>510</td>\n",
       "      <td>0.0</td>\n",
       "      <td>경림</td>\n",
       "      <td>59.400</td>\n",
       "      <td>200509</td>\n",
       "      <td>23</td>\n",
       "      <td>5,000</td>\n",
       "      <td>11</td>\n",
       "      <td>1998.0</td>\n",
       "      <td>양록길23번길 11</td>\n",
       "      <td>NaN</td>\n",
       "      <td></td>\n",
       "      <td>-</td>\n",
       "      <td>-</td>\n",
       "    </tr>\n",
       "    <tr>\n",
       "      <th>1</th>\n",
       "      <td>1</td>\n",
       "      <td>경기도 의정부시 민락동</td>\n",
       "      <td>756-7</td>\n",
       "      <td>756</td>\n",
       "      <td>7.0</td>\n",
       "      <td>한라비발디</td>\n",
       "      <td>84.990</td>\n",
       "      <td>200510</td>\n",
       "      <td>30</td>\n",
       "      <td>12,750</td>\n",
       "      <td>19</td>\n",
       "      <td>2003.0</td>\n",
       "      <td>오목로 73</td>\n",
       "      <td>NaN</td>\n",
       "      <td></td>\n",
       "      <td>-</td>\n",
       "      <td>-</td>\n",
       "    </tr>\n",
       "    <tr>\n",
       "      <th>2</th>\n",
       "      <td>2</td>\n",
       "      <td>경기도 의정부시 신곡동</td>\n",
       "      <td>456</td>\n",
       "      <td>456</td>\n",
       "      <td>0.0</td>\n",
       "      <td>신일1</td>\n",
       "      <td>59.878</td>\n",
       "      <td>200510</td>\n",
       "      <td>20</td>\n",
       "      <td>5,750</td>\n",
       "      <td>3</td>\n",
       "      <td>1997.0</td>\n",
       "      <td>시민로245번길 10</td>\n",
       "      <td>NaN</td>\n",
       "      <td></td>\n",
       "      <td>-</td>\n",
       "      <td>-</td>\n",
       "    </tr>\n",
       "    <tr>\n",
       "      <th>3</th>\n",
       "      <td>3</td>\n",
       "      <td>경기도 의정부시 신곡동</td>\n",
       "      <td>727-1</td>\n",
       "      <td>727</td>\n",
       "      <td>1.0</td>\n",
       "      <td>풍림</td>\n",
       "      <td>49.830</td>\n",
       "      <td>200510</td>\n",
       "      <td>20</td>\n",
       "      <td>5,500</td>\n",
       "      <td>8</td>\n",
       "      <td>1998.0</td>\n",
       "      <td>회룡로 245</td>\n",
       "      <td>NaN</td>\n",
       "      <td></td>\n",
       "      <td>-</td>\n",
       "      <td>-</td>\n",
       "    </tr>\n",
       "    <tr>\n",
       "      <th>4</th>\n",
       "      <td>4</td>\n",
       "      <td>경기도 의정부시 용현동</td>\n",
       "      <td>46</td>\n",
       "      <td>46</td>\n",
       "      <td>0.0</td>\n",
       "      <td>용현현대1차</td>\n",
       "      <td>129.730</td>\n",
       "      <td>200511</td>\n",
       "      <td>21</td>\n",
       "      <td>12,200</td>\n",
       "      <td>11</td>\n",
       "      <td>1992.0</td>\n",
       "      <td>오목로 36</td>\n",
       "      <td>NaN</td>\n",
       "      <td></td>\n",
       "      <td>-</td>\n",
       "      <td>-</td>\n",
       "    </tr>\n",
       "    <tr>\n",
       "      <th>...</th>\n",
       "      <td>...</td>\n",
       "      <td>...</td>\n",
       "      <td>...</td>\n",
       "      <td>...</td>\n",
       "      <td>...</td>\n",
       "      <td>...</td>\n",
       "      <td>...</td>\n",
       "      <td>...</td>\n",
       "      <td>...</td>\n",
       "      <td>...</td>\n",
       "      <td>...</td>\n",
       "      <td>...</td>\n",
       "      <td>...</td>\n",
       "      <td>...</td>\n",
       "      <td>...</td>\n",
       "      <td>...</td>\n",
       "      <td>...</td>\n",
       "    </tr>\n",
       "    <tr>\n",
       "      <th>9591338</th>\n",
       "      <td>9591338</td>\n",
       "      <td>충청북도 충주시 호암동</td>\n",
       "      <td>547-6</td>\n",
       "      <td>0547</td>\n",
       "      <td>6.0</td>\n",
       "      <td>호반현대</td>\n",
       "      <td>84.960</td>\n",
       "      <td>202308</td>\n",
       "      <td>12</td>\n",
       "      <td>15,700</td>\n",
       "      <td>2</td>\n",
       "      <td>1994.0</td>\n",
       "      <td>신촌2길 29</td>\n",
       "      <td>NaN</td>\n",
       "      <td></td>\n",
       "      <td>중개거래</td>\n",
       "      <td>충북 충주시</td>\n",
       "    </tr>\n",
       "    <tr>\n",
       "      <th>9591339</th>\n",
       "      <td>9591339</td>\n",
       "      <td>충청북도 충주시 호암동</td>\n",
       "      <td>221-1</td>\n",
       "      <td>0221</td>\n",
       "      <td>1.0</td>\n",
       "      <td>호암리버빌(2단지)</td>\n",
       "      <td>84.680</td>\n",
       "      <td>202308</td>\n",
       "      <td>10</td>\n",
       "      <td>20,700</td>\n",
       "      <td>3</td>\n",
       "      <td>2002.0</td>\n",
       "      <td>호암중앙2로 5</td>\n",
       "      <td>NaN</td>\n",
       "      <td></td>\n",
       "      <td>중개거래</td>\n",
       "      <td>충북 충주시</td>\n",
       "    </tr>\n",
       "    <tr>\n",
       "      <th>9591340</th>\n",
       "      <td>9591340</td>\n",
       "      <td>충청북도 충주시 호암동</td>\n",
       "      <td>1191</td>\n",
       "      <td>1191</td>\n",
       "      <td>0.0</td>\n",
       "      <td>호암힐데스하임</td>\n",
       "      <td>84.950</td>\n",
       "      <td>202308</td>\n",
       "      <td>21</td>\n",
       "      <td>40,200</td>\n",
       "      <td>11</td>\n",
       "      <td>2019.0</td>\n",
       "      <td>호암토성2로 1</td>\n",
       "      <td>NaN</td>\n",
       "      <td></td>\n",
       "      <td>중개거래</td>\n",
       "      <td>충북 충주시</td>\n",
       "    </tr>\n",
       "    <tr>\n",
       "      <th>9591341</th>\n",
       "      <td>9591341</td>\n",
       "      <td>충청북도 충주시 호암동</td>\n",
       "      <td>1191</td>\n",
       "      <td>1191</td>\n",
       "      <td>0.0</td>\n",
       "      <td>호암힐데스하임</td>\n",
       "      <td>99.870</td>\n",
       "      <td>202308</td>\n",
       "      <td>26</td>\n",
       "      <td>50,000</td>\n",
       "      <td>13</td>\n",
       "      <td>2019.0</td>\n",
       "      <td>호암토성2로 1</td>\n",
       "      <td>NaN</td>\n",
       "      <td></td>\n",
       "      <td>중개거래</td>\n",
       "      <td>충북 충주시</td>\n",
       "    </tr>\n",
       "    <tr>\n",
       "      <th>9591342</th>\n",
       "      <td>9591342</td>\n",
       "      <td>충청북도 충주시 호암동</td>\n",
       "      <td>1191</td>\n",
       "      <td>1191</td>\n",
       "      <td>0.0</td>\n",
       "      <td>호암힐데스하임</td>\n",
       "      <td>99.800</td>\n",
       "      <td>202308</td>\n",
       "      <td>31</td>\n",
       "      <td>46,000</td>\n",
       "      <td>3</td>\n",
       "      <td>2019.0</td>\n",
       "      <td>호암토성2로 1</td>\n",
       "      <td>NaN</td>\n",
       "      <td></td>\n",
       "      <td>중개거래</td>\n",
       "      <td>충북 충주시</td>\n",
       "    </tr>\n",
       "  </tbody>\n",
       "</table>\n",
       "<p>9591343 rows × 17 columns</p>\n",
       "</div>"
      ],
      "text/plain": [
       "           index                 시군구     번지    본번   부번         단지명  전용면적(㎡)  \\\n",
       "0              0  강원특별자치도 양구군 양구읍 상리    510   510  0.0          경림   59.400   \n",
       "1              1        경기도 의정부시 민락동  756-7   756  7.0       한라비발디   84.990   \n",
       "2              2        경기도 의정부시 신곡동    456   456  0.0         신일1   59.878   \n",
       "3              3        경기도 의정부시 신곡동  727-1   727  1.0          풍림   49.830   \n",
       "4              4        경기도 의정부시 용현동     46    46  0.0      용현현대1차  129.730   \n",
       "...          ...                 ...    ...   ...  ...         ...      ...   \n",
       "9591338  9591338        충청북도 충주시 호암동  547-6  0547  6.0        호반현대   84.960   \n",
       "9591339  9591339        충청북도 충주시 호암동  221-1  0221  1.0  호암리버빌(2단지)   84.680   \n",
       "9591340  9591340        충청북도 충주시 호암동   1191  1191  0.0     호암힐데스하임   84.950   \n",
       "9591341  9591341        충청북도 충주시 호암동   1191  1191  0.0     호암힐데스하임   99.870   \n",
       "9591342  9591342        충청북도 충주시 호암동   1191  1191  0.0     호암힐데스하임   99.800   \n",
       "\n",
       "           계약년월  계약일 거래금액(만원)   층    건축년도          도로명  해제사유발생일 등기신청일자  거래유형  \\\n",
       "0        200509   23    5,000  11  1998.0   양록길23번길 11      NaN            -   \n",
       "1        200510   30   12,750  19  2003.0       오목로 73      NaN            -   \n",
       "2        200510   20    5,750   3  1997.0  시민로245번길 10      NaN            -   \n",
       "3        200510   20    5,500   8  1998.0      회룡로 245      NaN            -   \n",
       "4        200511   21   12,200  11  1992.0       오목로 36      NaN            -   \n",
       "...         ...  ...      ...  ..     ...          ...      ...    ...   ...   \n",
       "9591338  202308   12   15,700   2  1994.0      신촌2길 29      NaN         중개거래   \n",
       "9591339  202308   10   20,700   3  2002.0     호암중앙2로 5      NaN         중개거래   \n",
       "9591340  202308   21   40,200  11  2019.0     호암토성2로 1      NaN         중개거래   \n",
       "9591341  202308   26   50,000  13  2019.0     호암토성2로 1      NaN         중개거래   \n",
       "9591342  202308   31   46,000   3  2019.0     호암토성2로 1      NaN         중개거래   \n",
       "\n",
       "         중개사소재지  \n",
       "0             -  \n",
       "1             -  \n",
       "2             -  \n",
       "3             -  \n",
       "4             -  \n",
       "...         ...  \n",
       "9591338  충북 충주시  \n",
       "9591339  충북 충주시  \n",
       "9591340  충북 충주시  \n",
       "9591341  충북 충주시  \n",
       "9591342  충북 충주시  \n",
       "\n",
       "[9591343 rows x 17 columns]"
      ]
     },
     "execution_count": 15,
     "metadata": {},
     "output_type": "execute_result"
    }
   ],
   "source": [
    "data.reset_index()"
   ]
  },
  {
   "cell_type": "markdown",
   "id": "193dd86f",
   "metadata": {},
   "source": [
    "## 데이터 타입 맞추기, 결측값 처리하기, 삭제할 컬럼 선정하기\n",
    "* astype(int, float, str)\n",
    "* dropna(), fillna(), isna(), sum()\n",
    "* dropw('컬럼명', axis=1)"
   ]
  },
  {
   "cell_type": "code",
   "execution_count": 16,
   "id": "272460f5",
   "metadata": {
    "scrolled": true
   },
   "outputs": [
    {
     "name": "stdout",
     "output_type": "stream",
     "text": [
      "<class 'pandas.core.frame.DataFrame'>\n",
      "RangeIndex: 9591343 entries, 0 to 9591342\n",
      "Data columns (total 16 columns):\n",
      " #   Column    Dtype  \n",
      "---  ------    -----  \n",
      " 0   시군구       object \n",
      " 1   번지        object \n",
      " 2   본번        object \n",
      " 3   부번        float64\n",
      " 4   단지명       object \n",
      " 5   전용면적(㎡)   float64\n",
      " 6   계약년월      int64  \n",
      " 7   계약일       int64  \n",
      " 8   거래금액(만원)  object \n",
      " 9   층         int64  \n",
      " 10  건축년도      float64\n",
      " 11  도로명       object \n",
      " 12  해제사유발생일   float64\n",
      " 13  등기신청일자    object \n",
      " 14  거래유형      object \n",
      " 15  중개사소재지    object \n",
      "dtypes: float64(4), int64(3), object(9)\n",
      "memory usage: 1.1+ GB\n"
     ]
    }
   ],
   "source": [
    "data.info()"
   ]
  },
  {
   "cell_type": "code",
   "execution_count": 17,
   "id": "88cd5588",
   "metadata": {},
   "outputs": [
    {
     "data": {
      "text/html": [
       "<div>\n",
       "<style scoped>\n",
       "    .dataframe tbody tr th:only-of-type {\n",
       "        vertical-align: middle;\n",
       "    }\n",
       "\n",
       "    .dataframe tbody tr th {\n",
       "        vertical-align: top;\n",
       "    }\n",
       "\n",
       "    .dataframe thead th {\n",
       "        text-align: right;\n",
       "    }\n",
       "</style>\n",
       "<table border=\"1\" class=\"dataframe\">\n",
       "  <thead>\n",
       "    <tr style=\"text-align: right;\">\n",
       "      <th></th>\n",
       "      <th>시군구</th>\n",
       "      <th>단지명</th>\n",
       "      <th>전용면적(㎡)</th>\n",
       "      <th>계약년월</th>\n",
       "      <th>계약일</th>\n",
       "      <th>거래금액(만원)</th>\n",
       "      <th>층</th>\n",
       "      <th>건축년도</th>\n",
       "      <th>도로명</th>\n",
       "      <th>해제사유발생일</th>\n",
       "      <th>등기신청일자</th>\n",
       "      <th>거래유형</th>\n",
       "      <th>중개사소재지</th>\n",
       "    </tr>\n",
       "  </thead>\n",
       "  <tbody>\n",
       "    <tr>\n",
       "      <th>0</th>\n",
       "      <td>강원특별자치도 양구군 양구읍 상리</td>\n",
       "      <td>경림</td>\n",
       "      <td>59.400</td>\n",
       "      <td>200509</td>\n",
       "      <td>23</td>\n",
       "      <td>5,000</td>\n",
       "      <td>11</td>\n",
       "      <td>1998.0</td>\n",
       "      <td>양록길23번길 11</td>\n",
       "      <td>NaN</td>\n",
       "      <td></td>\n",
       "      <td>-</td>\n",
       "      <td>-</td>\n",
       "    </tr>\n",
       "    <tr>\n",
       "      <th>1</th>\n",
       "      <td>경기도 의정부시 민락동</td>\n",
       "      <td>한라비발디</td>\n",
       "      <td>84.990</td>\n",
       "      <td>200510</td>\n",
       "      <td>30</td>\n",
       "      <td>12,750</td>\n",
       "      <td>19</td>\n",
       "      <td>2003.0</td>\n",
       "      <td>오목로 73</td>\n",
       "      <td>NaN</td>\n",
       "      <td></td>\n",
       "      <td>-</td>\n",
       "      <td>-</td>\n",
       "    </tr>\n",
       "    <tr>\n",
       "      <th>2</th>\n",
       "      <td>경기도 의정부시 신곡동</td>\n",
       "      <td>신일1</td>\n",
       "      <td>59.878</td>\n",
       "      <td>200510</td>\n",
       "      <td>20</td>\n",
       "      <td>5,750</td>\n",
       "      <td>3</td>\n",
       "      <td>1997.0</td>\n",
       "      <td>시민로245번길 10</td>\n",
       "      <td>NaN</td>\n",
       "      <td></td>\n",
       "      <td>-</td>\n",
       "      <td>-</td>\n",
       "    </tr>\n",
       "    <tr>\n",
       "      <th>3</th>\n",
       "      <td>경기도 의정부시 신곡동</td>\n",
       "      <td>풍림</td>\n",
       "      <td>49.830</td>\n",
       "      <td>200510</td>\n",
       "      <td>20</td>\n",
       "      <td>5,500</td>\n",
       "      <td>8</td>\n",
       "      <td>1998.0</td>\n",
       "      <td>회룡로 245</td>\n",
       "      <td>NaN</td>\n",
       "      <td></td>\n",
       "      <td>-</td>\n",
       "      <td>-</td>\n",
       "    </tr>\n",
       "    <tr>\n",
       "      <th>4</th>\n",
       "      <td>경기도 의정부시 용현동</td>\n",
       "      <td>용현현대1차</td>\n",
       "      <td>129.730</td>\n",
       "      <td>200511</td>\n",
       "      <td>21</td>\n",
       "      <td>12,200</td>\n",
       "      <td>11</td>\n",
       "      <td>1992.0</td>\n",
       "      <td>오목로 36</td>\n",
       "      <td>NaN</td>\n",
       "      <td></td>\n",
       "      <td>-</td>\n",
       "      <td>-</td>\n",
       "    </tr>\n",
       "    <tr>\n",
       "      <th>...</th>\n",
       "      <td>...</td>\n",
       "      <td>...</td>\n",
       "      <td>...</td>\n",
       "      <td>...</td>\n",
       "      <td>...</td>\n",
       "      <td>...</td>\n",
       "      <td>...</td>\n",
       "      <td>...</td>\n",
       "      <td>...</td>\n",
       "      <td>...</td>\n",
       "      <td>...</td>\n",
       "      <td>...</td>\n",
       "      <td>...</td>\n",
       "    </tr>\n",
       "    <tr>\n",
       "      <th>9591338</th>\n",
       "      <td>충청북도 충주시 호암동</td>\n",
       "      <td>호반현대</td>\n",
       "      <td>84.960</td>\n",
       "      <td>202308</td>\n",
       "      <td>12</td>\n",
       "      <td>15,700</td>\n",
       "      <td>2</td>\n",
       "      <td>1994.0</td>\n",
       "      <td>신촌2길 29</td>\n",
       "      <td>NaN</td>\n",
       "      <td></td>\n",
       "      <td>중개거래</td>\n",
       "      <td>충북 충주시</td>\n",
       "    </tr>\n",
       "    <tr>\n",
       "      <th>9591339</th>\n",
       "      <td>충청북도 충주시 호암동</td>\n",
       "      <td>호암리버빌(2단지)</td>\n",
       "      <td>84.680</td>\n",
       "      <td>202308</td>\n",
       "      <td>10</td>\n",
       "      <td>20,700</td>\n",
       "      <td>3</td>\n",
       "      <td>2002.0</td>\n",
       "      <td>호암중앙2로 5</td>\n",
       "      <td>NaN</td>\n",
       "      <td></td>\n",
       "      <td>중개거래</td>\n",
       "      <td>충북 충주시</td>\n",
       "    </tr>\n",
       "    <tr>\n",
       "      <th>9591340</th>\n",
       "      <td>충청북도 충주시 호암동</td>\n",
       "      <td>호암힐데스하임</td>\n",
       "      <td>84.950</td>\n",
       "      <td>202308</td>\n",
       "      <td>21</td>\n",
       "      <td>40,200</td>\n",
       "      <td>11</td>\n",
       "      <td>2019.0</td>\n",
       "      <td>호암토성2로 1</td>\n",
       "      <td>NaN</td>\n",
       "      <td></td>\n",
       "      <td>중개거래</td>\n",
       "      <td>충북 충주시</td>\n",
       "    </tr>\n",
       "    <tr>\n",
       "      <th>9591341</th>\n",
       "      <td>충청북도 충주시 호암동</td>\n",
       "      <td>호암힐데스하임</td>\n",
       "      <td>99.870</td>\n",
       "      <td>202308</td>\n",
       "      <td>26</td>\n",
       "      <td>50,000</td>\n",
       "      <td>13</td>\n",
       "      <td>2019.0</td>\n",
       "      <td>호암토성2로 1</td>\n",
       "      <td>NaN</td>\n",
       "      <td></td>\n",
       "      <td>중개거래</td>\n",
       "      <td>충북 충주시</td>\n",
       "    </tr>\n",
       "    <tr>\n",
       "      <th>9591342</th>\n",
       "      <td>충청북도 충주시 호암동</td>\n",
       "      <td>호암힐데스하임</td>\n",
       "      <td>99.800</td>\n",
       "      <td>202308</td>\n",
       "      <td>31</td>\n",
       "      <td>46,000</td>\n",
       "      <td>3</td>\n",
       "      <td>2019.0</td>\n",
       "      <td>호암토성2로 1</td>\n",
       "      <td>NaN</td>\n",
       "      <td></td>\n",
       "      <td>중개거래</td>\n",
       "      <td>충북 충주시</td>\n",
       "    </tr>\n",
       "  </tbody>\n",
       "</table>\n",
       "<p>9591343 rows × 13 columns</p>\n",
       "</div>"
      ],
      "text/plain": [
       "                        시군구         단지명  전용면적(㎡)    계약년월  계약일 거래금액(만원)   층  \\\n",
       "0        강원특별자치도 양구군 양구읍 상리          경림   59.400  200509   23    5,000  11   \n",
       "1              경기도 의정부시 민락동       한라비발디   84.990  200510   30   12,750  19   \n",
       "2              경기도 의정부시 신곡동         신일1   59.878  200510   20    5,750   3   \n",
       "3              경기도 의정부시 신곡동          풍림   49.830  200510   20    5,500   8   \n",
       "4              경기도 의정부시 용현동      용현현대1차  129.730  200511   21   12,200  11   \n",
       "...                     ...         ...      ...     ...  ...      ...  ..   \n",
       "9591338        충청북도 충주시 호암동        호반현대   84.960  202308   12   15,700   2   \n",
       "9591339        충청북도 충주시 호암동  호암리버빌(2단지)   84.680  202308   10   20,700   3   \n",
       "9591340        충청북도 충주시 호암동     호암힐데스하임   84.950  202308   21   40,200  11   \n",
       "9591341        충청북도 충주시 호암동     호암힐데스하임   99.870  202308   26   50,000  13   \n",
       "9591342        충청북도 충주시 호암동     호암힐데스하임   99.800  202308   31   46,000   3   \n",
       "\n",
       "           건축년도          도로명  해제사유발생일 등기신청일자  거래유형  중개사소재지  \n",
       "0        1998.0   양록길23번길 11      NaN            -       -  \n",
       "1        2003.0       오목로 73      NaN            -       -  \n",
       "2        1997.0  시민로245번길 10      NaN            -       -  \n",
       "3        1998.0      회룡로 245      NaN            -       -  \n",
       "4        1992.0       오목로 36      NaN            -       -  \n",
       "...         ...          ...      ...    ...   ...     ...  \n",
       "9591338  1994.0      신촌2길 29      NaN         중개거래  충북 충주시  \n",
       "9591339  2002.0     호암중앙2로 5      NaN         중개거래  충북 충주시  \n",
       "9591340  2019.0     호암토성2로 1      NaN         중개거래  충북 충주시  \n",
       "9591341  2019.0     호암토성2로 1      NaN         중개거래  충북 충주시  \n",
       "9591342  2019.0     호암토성2로 1      NaN         중개거래  충북 충주시  \n",
       "\n",
       "[9591343 rows x 13 columns]"
      ]
     },
     "execution_count": 17,
     "metadata": {},
     "output_type": "execute_result"
    }
   ],
   "source": [
    "data.drop(['번지','본번','부번'], axis=1)"
   ]
  },
  {
   "cell_type": "code",
   "execution_count": null,
   "id": "12c177cd",
   "metadata": {},
   "outputs": [],
   "source": [
    "data.info()"
   ]
  },
  {
   "cell_type": "code",
   "execution_count": null,
   "id": "85093b3b",
   "metadata": {},
   "outputs": [],
   "source": [
    "data.head(1)"
   ]
  },
  {
   "cell_type": "code",
   "execution_count": 18,
   "id": "30b0288a",
   "metadata": {
    "scrolled": true
   },
   "outputs": [
    {
     "ename": "ValueError",
     "evalue": "invalid literal for int() with base 10: '5,000'",
     "output_type": "error",
     "traceback": [
      "\u001b[1;31m---------------------------------------------------------------------------\u001b[0m",
      "\u001b[1;31mValueError\u001b[0m                                Traceback (most recent call last)",
      "Cell \u001b[1;32mIn[18], line 1\u001b[0m\n\u001b[1;32m----> 1\u001b[0m \u001b[43mdata\u001b[49m\u001b[43m[\u001b[49m\u001b[38;5;124;43m'\u001b[39;49m\u001b[38;5;124;43m거래금액(만원)\u001b[39;49m\u001b[38;5;124;43m'\u001b[39;49m\u001b[43m]\u001b[49m\u001b[38;5;241;43m.\u001b[39;49m\u001b[43mastype\u001b[49m\u001b[43m(\u001b[49m\u001b[38;5;28;43mint\u001b[39;49m\u001b[43m)\u001b[49m\n",
      "File \u001b[1;32m~\\anaconda3\\envs\\testenv\\lib\\site-packages\\pandas\\core\\generic.py:6324\u001b[0m, in \u001b[0;36mNDFrame.astype\u001b[1;34m(self, dtype, copy, errors)\u001b[0m\n\u001b[0;32m   6317\u001b[0m     results \u001b[38;5;241m=\u001b[39m [\n\u001b[0;32m   6318\u001b[0m         \u001b[38;5;28mself\u001b[39m\u001b[38;5;241m.\u001b[39miloc[:, i]\u001b[38;5;241m.\u001b[39mastype(dtype, copy\u001b[38;5;241m=\u001b[39mcopy)\n\u001b[0;32m   6319\u001b[0m         \u001b[38;5;28;01mfor\u001b[39;00m i \u001b[38;5;129;01min\u001b[39;00m \u001b[38;5;28mrange\u001b[39m(\u001b[38;5;28mlen\u001b[39m(\u001b[38;5;28mself\u001b[39m\u001b[38;5;241m.\u001b[39mcolumns))\n\u001b[0;32m   6320\u001b[0m     ]\n\u001b[0;32m   6322\u001b[0m \u001b[38;5;28;01melse\u001b[39;00m:\n\u001b[0;32m   6323\u001b[0m     \u001b[38;5;66;03m# else, only a single dtype is given\u001b[39;00m\n\u001b[1;32m-> 6324\u001b[0m     new_data \u001b[38;5;241m=\u001b[39m \u001b[38;5;28;43mself\u001b[39;49m\u001b[38;5;241;43m.\u001b[39;49m\u001b[43m_mgr\u001b[49m\u001b[38;5;241;43m.\u001b[39;49m\u001b[43mastype\u001b[49m\u001b[43m(\u001b[49m\u001b[43mdtype\u001b[49m\u001b[38;5;241;43m=\u001b[39;49m\u001b[43mdtype\u001b[49m\u001b[43m,\u001b[49m\u001b[43m \u001b[49m\u001b[43mcopy\u001b[49m\u001b[38;5;241;43m=\u001b[39;49m\u001b[43mcopy\u001b[49m\u001b[43m,\u001b[49m\u001b[43m \u001b[49m\u001b[43merrors\u001b[49m\u001b[38;5;241;43m=\u001b[39;49m\u001b[43merrors\u001b[49m\u001b[43m)\u001b[49m\n\u001b[0;32m   6325\u001b[0m     \u001b[38;5;28;01mreturn\u001b[39;00m \u001b[38;5;28mself\u001b[39m\u001b[38;5;241m.\u001b[39m_constructor(new_data)\u001b[38;5;241m.\u001b[39m__finalize__(\u001b[38;5;28mself\u001b[39m, method\u001b[38;5;241m=\u001b[39m\u001b[38;5;124m\"\u001b[39m\u001b[38;5;124mastype\u001b[39m\u001b[38;5;124m\"\u001b[39m)\n\u001b[0;32m   6327\u001b[0m \u001b[38;5;66;03m# GH 33113: handle empty frame or series\u001b[39;00m\n",
      "File \u001b[1;32m~\\anaconda3\\envs\\testenv\\lib\\site-packages\\pandas\\core\\internals\\managers.py:451\u001b[0m, in \u001b[0;36mBaseBlockManager.astype\u001b[1;34m(self, dtype, copy, errors)\u001b[0m\n\u001b[0;32m    448\u001b[0m \u001b[38;5;28;01melif\u001b[39;00m using_copy_on_write():\n\u001b[0;32m    449\u001b[0m     copy \u001b[38;5;241m=\u001b[39m \u001b[38;5;28;01mFalse\u001b[39;00m\n\u001b[1;32m--> 451\u001b[0m \u001b[38;5;28;01mreturn\u001b[39;00m \u001b[38;5;28;43mself\u001b[39;49m\u001b[38;5;241;43m.\u001b[39;49m\u001b[43mapply\u001b[49m\u001b[43m(\u001b[49m\n\u001b[0;32m    452\u001b[0m \u001b[43m    \u001b[49m\u001b[38;5;124;43m\"\u001b[39;49m\u001b[38;5;124;43mastype\u001b[39;49m\u001b[38;5;124;43m\"\u001b[39;49m\u001b[43m,\u001b[49m\n\u001b[0;32m    453\u001b[0m \u001b[43m    \u001b[49m\u001b[43mdtype\u001b[49m\u001b[38;5;241;43m=\u001b[39;49m\u001b[43mdtype\u001b[49m\u001b[43m,\u001b[49m\n\u001b[0;32m    454\u001b[0m \u001b[43m    \u001b[49m\u001b[43mcopy\u001b[49m\u001b[38;5;241;43m=\u001b[39;49m\u001b[43mcopy\u001b[49m\u001b[43m,\u001b[49m\n\u001b[0;32m    455\u001b[0m \u001b[43m    \u001b[49m\u001b[43merrors\u001b[49m\u001b[38;5;241;43m=\u001b[39;49m\u001b[43merrors\u001b[49m\u001b[43m,\u001b[49m\n\u001b[0;32m    456\u001b[0m \u001b[43m    \u001b[49m\u001b[43musing_cow\u001b[49m\u001b[38;5;241;43m=\u001b[39;49m\u001b[43musing_copy_on_write\u001b[49m\u001b[43m(\u001b[49m\u001b[43m)\u001b[49m\u001b[43m,\u001b[49m\n\u001b[0;32m    457\u001b[0m \u001b[43m\u001b[49m\u001b[43m)\u001b[49m\n",
      "File \u001b[1;32m~\\anaconda3\\envs\\testenv\\lib\\site-packages\\pandas\\core\\internals\\managers.py:352\u001b[0m, in \u001b[0;36mBaseBlockManager.apply\u001b[1;34m(self, f, align_keys, **kwargs)\u001b[0m\n\u001b[0;32m    350\u001b[0m         applied \u001b[38;5;241m=\u001b[39m b\u001b[38;5;241m.\u001b[39mapply(f, \u001b[38;5;241m*\u001b[39m\u001b[38;5;241m*\u001b[39mkwargs)\n\u001b[0;32m    351\u001b[0m     \u001b[38;5;28;01melse\u001b[39;00m:\n\u001b[1;32m--> 352\u001b[0m         applied \u001b[38;5;241m=\u001b[39m \u001b[38;5;28;43mgetattr\u001b[39;49m\u001b[43m(\u001b[49m\u001b[43mb\u001b[49m\u001b[43m,\u001b[49m\u001b[43m \u001b[49m\u001b[43mf\u001b[49m\u001b[43m)\u001b[49m\u001b[43m(\u001b[49m\u001b[38;5;241;43m*\u001b[39;49m\u001b[38;5;241;43m*\u001b[39;49m\u001b[43mkwargs\u001b[49m\u001b[43m)\u001b[49m\n\u001b[0;32m    353\u001b[0m     result_blocks \u001b[38;5;241m=\u001b[39m extend_blocks(applied, result_blocks)\n\u001b[0;32m    355\u001b[0m out \u001b[38;5;241m=\u001b[39m \u001b[38;5;28mtype\u001b[39m(\u001b[38;5;28mself\u001b[39m)\u001b[38;5;241m.\u001b[39mfrom_blocks(result_blocks, \u001b[38;5;28mself\u001b[39m\u001b[38;5;241m.\u001b[39maxes)\n",
      "File \u001b[1;32m~\\anaconda3\\envs\\testenv\\lib\\site-packages\\pandas\\core\\internals\\blocks.py:511\u001b[0m, in \u001b[0;36mBlock.astype\u001b[1;34m(self, dtype, copy, errors, using_cow)\u001b[0m\n\u001b[0;32m    491\u001b[0m \u001b[38;5;250m\u001b[39m\u001b[38;5;124;03m\"\"\"\u001b[39;00m\n\u001b[0;32m    492\u001b[0m \u001b[38;5;124;03mCoerce to the new dtype.\u001b[39;00m\n\u001b[0;32m    493\u001b[0m \n\u001b[1;32m   (...)\u001b[0m\n\u001b[0;32m    507\u001b[0m \u001b[38;5;124;03mBlock\u001b[39;00m\n\u001b[0;32m    508\u001b[0m \u001b[38;5;124;03m\"\"\"\u001b[39;00m\n\u001b[0;32m    509\u001b[0m values \u001b[38;5;241m=\u001b[39m \u001b[38;5;28mself\u001b[39m\u001b[38;5;241m.\u001b[39mvalues\n\u001b[1;32m--> 511\u001b[0m new_values \u001b[38;5;241m=\u001b[39m \u001b[43mastype_array_safe\u001b[49m\u001b[43m(\u001b[49m\u001b[43mvalues\u001b[49m\u001b[43m,\u001b[49m\u001b[43m \u001b[49m\u001b[43mdtype\u001b[49m\u001b[43m,\u001b[49m\u001b[43m \u001b[49m\u001b[43mcopy\u001b[49m\u001b[38;5;241;43m=\u001b[39;49m\u001b[43mcopy\u001b[49m\u001b[43m,\u001b[49m\u001b[43m \u001b[49m\u001b[43merrors\u001b[49m\u001b[38;5;241;43m=\u001b[39;49m\u001b[43merrors\u001b[49m\u001b[43m)\u001b[49m\n\u001b[0;32m    513\u001b[0m new_values \u001b[38;5;241m=\u001b[39m maybe_coerce_values(new_values)\n\u001b[0;32m    515\u001b[0m refs \u001b[38;5;241m=\u001b[39m \u001b[38;5;28;01mNone\u001b[39;00m\n",
      "File \u001b[1;32m~\\anaconda3\\envs\\testenv\\lib\\site-packages\\pandas\\core\\dtypes\\astype.py:242\u001b[0m, in \u001b[0;36mastype_array_safe\u001b[1;34m(values, dtype, copy, errors)\u001b[0m\n\u001b[0;32m    239\u001b[0m     dtype \u001b[38;5;241m=\u001b[39m dtype\u001b[38;5;241m.\u001b[39mnumpy_dtype\n\u001b[0;32m    241\u001b[0m \u001b[38;5;28;01mtry\u001b[39;00m:\n\u001b[1;32m--> 242\u001b[0m     new_values \u001b[38;5;241m=\u001b[39m \u001b[43mastype_array\u001b[49m\u001b[43m(\u001b[49m\u001b[43mvalues\u001b[49m\u001b[43m,\u001b[49m\u001b[43m \u001b[49m\u001b[43mdtype\u001b[49m\u001b[43m,\u001b[49m\u001b[43m \u001b[49m\u001b[43mcopy\u001b[49m\u001b[38;5;241;43m=\u001b[39;49m\u001b[43mcopy\u001b[49m\u001b[43m)\u001b[49m\n\u001b[0;32m    243\u001b[0m \u001b[38;5;28;01mexcept\u001b[39;00m (\u001b[38;5;167;01mValueError\u001b[39;00m, \u001b[38;5;167;01mTypeError\u001b[39;00m):\n\u001b[0;32m    244\u001b[0m     \u001b[38;5;66;03m# e.g. _astype_nansafe can fail on object-dtype of strings\u001b[39;00m\n\u001b[0;32m    245\u001b[0m     \u001b[38;5;66;03m#  trying to convert to float\u001b[39;00m\n\u001b[0;32m    246\u001b[0m     \u001b[38;5;28;01mif\u001b[39;00m errors \u001b[38;5;241m==\u001b[39m \u001b[38;5;124m\"\u001b[39m\u001b[38;5;124mignore\u001b[39m\u001b[38;5;124m\"\u001b[39m:\n",
      "File \u001b[1;32m~\\anaconda3\\envs\\testenv\\lib\\site-packages\\pandas\\core\\dtypes\\astype.py:187\u001b[0m, in \u001b[0;36mastype_array\u001b[1;34m(values, dtype, copy)\u001b[0m\n\u001b[0;32m    184\u001b[0m     values \u001b[38;5;241m=\u001b[39m values\u001b[38;5;241m.\u001b[39mastype(dtype, copy\u001b[38;5;241m=\u001b[39mcopy)\n\u001b[0;32m    186\u001b[0m \u001b[38;5;28;01melse\u001b[39;00m:\n\u001b[1;32m--> 187\u001b[0m     values \u001b[38;5;241m=\u001b[39m \u001b[43m_astype_nansafe\u001b[49m\u001b[43m(\u001b[49m\u001b[43mvalues\u001b[49m\u001b[43m,\u001b[49m\u001b[43m \u001b[49m\u001b[43mdtype\u001b[49m\u001b[43m,\u001b[49m\u001b[43m \u001b[49m\u001b[43mcopy\u001b[49m\u001b[38;5;241;43m=\u001b[39;49m\u001b[43mcopy\u001b[49m\u001b[43m)\u001b[49m\n\u001b[0;32m    189\u001b[0m \u001b[38;5;66;03m# in pandas we don't store numpy str dtypes, so convert to object\u001b[39;00m\n\u001b[0;32m    190\u001b[0m \u001b[38;5;28;01mif\u001b[39;00m \u001b[38;5;28misinstance\u001b[39m(dtype, np\u001b[38;5;241m.\u001b[39mdtype) \u001b[38;5;129;01mand\u001b[39;00m \u001b[38;5;28missubclass\u001b[39m(values\u001b[38;5;241m.\u001b[39mdtype\u001b[38;5;241m.\u001b[39mtype, \u001b[38;5;28mstr\u001b[39m):\n",
      "File \u001b[1;32m~\\anaconda3\\envs\\testenv\\lib\\site-packages\\pandas\\core\\dtypes\\astype.py:138\u001b[0m, in \u001b[0;36m_astype_nansafe\u001b[1;34m(arr, dtype, copy, skipna)\u001b[0m\n\u001b[0;32m    134\u001b[0m     \u001b[38;5;28;01mraise\u001b[39;00m \u001b[38;5;167;01mValueError\u001b[39;00m(msg)\n\u001b[0;32m    136\u001b[0m \u001b[38;5;28;01mif\u001b[39;00m copy \u001b[38;5;129;01mor\u001b[39;00m is_object_dtype(arr\u001b[38;5;241m.\u001b[39mdtype) \u001b[38;5;129;01mor\u001b[39;00m is_object_dtype(dtype):\n\u001b[0;32m    137\u001b[0m     \u001b[38;5;66;03m# Explicit copy, or required since NumPy can't view from / to object.\u001b[39;00m\n\u001b[1;32m--> 138\u001b[0m     \u001b[38;5;28;01mreturn\u001b[39;00m \u001b[43marr\u001b[49m\u001b[38;5;241;43m.\u001b[39;49m\u001b[43mastype\u001b[49m\u001b[43m(\u001b[49m\u001b[43mdtype\u001b[49m\u001b[43m,\u001b[49m\u001b[43m \u001b[49m\u001b[43mcopy\u001b[49m\u001b[38;5;241;43m=\u001b[39;49m\u001b[38;5;28;43;01mTrue\u001b[39;49;00m\u001b[43m)\u001b[49m\n\u001b[0;32m    140\u001b[0m \u001b[38;5;28;01mreturn\u001b[39;00m arr\u001b[38;5;241m.\u001b[39mastype(dtype, copy\u001b[38;5;241m=\u001b[39mcopy)\n",
      "\u001b[1;31mValueError\u001b[0m: invalid literal for int() with base 10: '5,000'"
     ]
    }
   ],
   "source": [
    "data['거래금액(만원)'].astype(int) # 컴마 있어서 에러남(문자여서 문자제거해줘야함)"
   ]
  },
  {
   "cell_type": "code",
   "execution_count": 19,
   "id": "b686afcf",
   "metadata": {},
   "outputs": [
    {
     "data": {
      "text/plain": [
       "0           5000\n",
       "1          12750\n",
       "2           5750\n",
       "3           5500\n",
       "4          12200\n",
       "           ...  \n",
       "9591338    15700\n",
       "9591339    20700\n",
       "9591340    40200\n",
       "9591341    50000\n",
       "9591342    46000\n",
       "Name: 거래금액(만원), Length: 9591343, dtype: object"
      ]
     },
     "execution_count": 19,
     "metadata": {},
     "output_type": "execute_result"
    }
   ],
   "source": [
    "data['거래금액(만원)'].str.replace(\",\",\"\")\n",
    "# .str 하면 자동 반복문 돌려줘서 데이터프레임, 시리즈에서 사용가능"
   ]
  },
  {
   "cell_type": "code",
   "execution_count": 20,
   "id": "02799ed3",
   "metadata": {},
   "outputs": [],
   "source": [
    "data['거래금액(만원)'] = data['거래금액(만원)'].str.replace(\",\",\"\")"
   ]
  },
  {
   "cell_type": "code",
   "execution_count": 21,
   "id": "cfb57b61",
   "metadata": {},
   "outputs": [],
   "source": [
    "data['거래금액(만원)'] = data['거래금액(만원)'].astype(int)"
   ]
  },
  {
   "cell_type": "code",
   "execution_count": 22,
   "id": "da3c7ff4",
   "metadata": {},
   "outputs": [
    {
     "name": "stdout",
     "output_type": "stream",
     "text": [
      "<class 'pandas.core.frame.DataFrame'>\n",
      "RangeIndex: 9591343 entries, 0 to 9591342\n",
      "Data columns (total 16 columns):\n",
      " #   Column    Dtype  \n",
      "---  ------    -----  \n",
      " 0   시군구       object \n",
      " 1   번지        object \n",
      " 2   본번        object \n",
      " 3   부번        float64\n",
      " 4   단지명       object \n",
      " 5   전용면적(㎡)   float64\n",
      " 6   계약년월      int64  \n",
      " 7   계약일       int64  \n",
      " 8   거래금액(만원)  int32  \n",
      " 9   층         int64  \n",
      " 10  건축년도      float64\n",
      " 11  도로명       object \n",
      " 12  해제사유발생일   float64\n",
      " 13  등기신청일자    object \n",
      " 14  거래유형      object \n",
      " 15  중개사소재지    object \n",
      "dtypes: float64(4), int32(1), int64(3), object(8)\n",
      "memory usage: 1.1+ GB\n"
     ]
    }
   ],
   "source": [
    "data.info()"
   ]
  },
  {
   "cell_type": "code",
   "execution_count": 23,
   "id": "47519d94",
   "metadata": {},
   "outputs": [
    {
     "data": {
      "text/plain": [
       "시군구               0\n",
       "번지              258\n",
       "본번               76\n",
       "부번               76\n",
       "단지명               0\n",
       "전용면적(㎡)           0\n",
       "계약년월              0\n",
       "계약일               0\n",
       "거래금액(만원)          0\n",
       "층                 0\n",
       "건축년도            115\n",
       "도로명               0\n",
       "해제사유발생일     9497436\n",
       "등기신청일자            0\n",
       "거래유형              0\n",
       "중개사소재지            0\n",
       "dtype: int64"
      ]
     },
     "execution_count": 23,
     "metadata": {},
     "output_type": "execute_result"
    }
   ],
   "source": [
    "# null 값 있는지 확인 isna\n",
    "data.isna().sum()"
   ]
  },
  {
   "cell_type": "code",
   "execution_count": 24,
   "id": "b86496e1",
   "metadata": {},
   "outputs": [
    {
     "data": {
      "text/plain": [
       "Index(['시군구', '번지', '본번', '부번', '단지명', '전용면적(㎡)', '계약년월', '계약일', '거래금액(만원)',\n",
       "       '층', '건축년도', '도로명', '해제사유발생일', '등기신청일자', '거래유형', '중개사소재지'],\n",
       "      dtype='object')"
      ]
     },
     "execution_count": 24,
     "metadata": {},
     "output_type": "execute_result"
    }
   ],
   "source": [
    "data.columns"
   ]
  },
  {
   "cell_type": "code",
   "execution_count": 25,
   "id": "f23a3e59",
   "metadata": {},
   "outputs": [],
   "source": [
    "# 컬럼 삭제할거 리스트로 싹 없애기\n",
    "data = data.drop(['번지','본번','부번','계약일','도로명', '해제사유발생일', '등기신청일자', '거래유형', '중개사소재지'], axis=1)"
   ]
  },
  {
   "cell_type": "code",
   "execution_count": 26,
   "id": "11d07bc7",
   "metadata": {},
   "outputs": [
    {
     "data": {
      "text/html": [
       "<div>\n",
       "<style scoped>\n",
       "    .dataframe tbody tr th:only-of-type {\n",
       "        vertical-align: middle;\n",
       "    }\n",
       "\n",
       "    .dataframe tbody tr th {\n",
       "        vertical-align: top;\n",
       "    }\n",
       "\n",
       "    .dataframe thead th {\n",
       "        text-align: right;\n",
       "    }\n",
       "</style>\n",
       "<table border=\"1\" class=\"dataframe\">\n",
       "  <thead>\n",
       "    <tr style=\"text-align: right;\">\n",
       "      <th></th>\n",
       "      <th>시군구</th>\n",
       "      <th>단지명</th>\n",
       "      <th>전용면적(㎡)</th>\n",
       "      <th>계약년월</th>\n",
       "      <th>거래금액(만원)</th>\n",
       "      <th>층</th>\n",
       "      <th>건축년도</th>\n",
       "    </tr>\n",
       "  </thead>\n",
       "  <tbody>\n",
       "    <tr>\n",
       "      <th>0</th>\n",
       "      <td>강원특별자치도 양구군 양구읍 상리</td>\n",
       "      <td>경림</td>\n",
       "      <td>59.400</td>\n",
       "      <td>200509</td>\n",
       "      <td>5000</td>\n",
       "      <td>11</td>\n",
       "      <td>1998.0</td>\n",
       "    </tr>\n",
       "    <tr>\n",
       "      <th>1</th>\n",
       "      <td>경기도 의정부시 민락동</td>\n",
       "      <td>한라비발디</td>\n",
       "      <td>84.990</td>\n",
       "      <td>200510</td>\n",
       "      <td>12750</td>\n",
       "      <td>19</td>\n",
       "      <td>2003.0</td>\n",
       "    </tr>\n",
       "    <tr>\n",
       "      <th>2</th>\n",
       "      <td>경기도 의정부시 신곡동</td>\n",
       "      <td>신일1</td>\n",
       "      <td>59.878</td>\n",
       "      <td>200510</td>\n",
       "      <td>5750</td>\n",
       "      <td>3</td>\n",
       "      <td>1997.0</td>\n",
       "    </tr>\n",
       "    <tr>\n",
       "      <th>3</th>\n",
       "      <td>경기도 의정부시 신곡동</td>\n",
       "      <td>풍림</td>\n",
       "      <td>49.830</td>\n",
       "      <td>200510</td>\n",
       "      <td>5500</td>\n",
       "      <td>8</td>\n",
       "      <td>1998.0</td>\n",
       "    </tr>\n",
       "    <tr>\n",
       "      <th>4</th>\n",
       "      <td>경기도 의정부시 용현동</td>\n",
       "      <td>용현현대1차</td>\n",
       "      <td>129.730</td>\n",
       "      <td>200511</td>\n",
       "      <td>12200</td>\n",
       "      <td>11</td>\n",
       "      <td>1992.0</td>\n",
       "    </tr>\n",
       "  </tbody>\n",
       "</table>\n",
       "</div>"
      ],
      "text/plain": [
       "                  시군구     단지명  전용면적(㎡)    계약년월  거래금액(만원)   층    건축년도\n",
       "0  강원특별자치도 양구군 양구읍 상리      경림   59.400  200509      5000  11  1998.0\n",
       "1        경기도 의정부시 민락동   한라비발디   84.990  200510     12750  19  2003.0\n",
       "2        경기도 의정부시 신곡동     신일1   59.878  200510      5750   3  1997.0\n",
       "3        경기도 의정부시 신곡동      풍림   49.830  200510      5500   8  1998.0\n",
       "4        경기도 의정부시 용현동  용현현대1차  129.730  200511     12200  11  1992.0"
      ]
     },
     "execution_count": 26,
     "metadata": {},
     "output_type": "execute_result"
    }
   ],
   "source": [
    "data.head()"
   ]
  },
  {
   "cell_type": "code",
   "execution_count": 27,
   "id": "d13de24c",
   "metadata": {},
   "outputs": [
    {
     "name": "stdout",
     "output_type": "stream",
     "text": [
      "<class 'pandas.core.frame.DataFrame'>\n",
      "RangeIndex: 9591343 entries, 0 to 9591342\n",
      "Data columns (total 7 columns):\n",
      " #   Column    Dtype  \n",
      "---  ------    -----  \n",
      " 0   시군구       object \n",
      " 1   단지명       object \n",
      " 2   전용면적(㎡)   float64\n",
      " 3   계약년월      int64  \n",
      " 4   거래금액(만원)  int32  \n",
      " 5   층         int64  \n",
      " 6   건축년도      float64\n",
      "dtypes: float64(2), int32(1), int64(2), object(2)\n",
      "memory usage: 475.6+ MB\n"
     ]
    }
   ],
   "source": [
    "data.info()"
   ]
  },
  {
   "cell_type": "code",
   "execution_count": 28,
   "id": "255f00fb",
   "metadata": {},
   "outputs": [
    {
     "data": {
      "text/plain": [
       "시군구           0\n",
       "단지명           0\n",
       "전용면적(㎡)       0\n",
       "계약년월          0\n",
       "거래금액(만원)      0\n",
       "층             0\n",
       "건축년도        115\n",
       "dtype: int64"
      ]
     },
     "execution_count": 28,
     "metadata": {},
     "output_type": "execute_result"
    }
   ],
   "source": [
    "data.isna().sum()"
   ]
  },
  {
   "cell_type": "code",
   "execution_count": 29,
   "id": "284f3d5e",
   "metadata": {},
   "outputs": [],
   "source": [
    "data = data.dropna()"
   ]
  },
  {
   "cell_type": "code",
   "execution_count": 30,
   "id": "fc677f63",
   "metadata": {},
   "outputs": [
    {
     "data": {
      "text/plain": [
       "시군구         0\n",
       "단지명         0\n",
       "전용면적(㎡)     0\n",
       "계약년월        0\n",
       "거래금액(만원)    0\n",
       "층           0\n",
       "건축년도        0\n",
       "dtype: int64"
      ]
     },
     "execution_count": 30,
     "metadata": {},
     "output_type": "execute_result"
    }
   ],
   "source": [
    "data.isna().sum()"
   ]
  },
  {
   "cell_type": "code",
   "execution_count": 31,
   "id": "9b40d003",
   "metadata": {},
   "outputs": [
    {
     "name": "stdout",
     "output_type": "stream",
     "text": [
      "<class 'pandas.core.frame.DataFrame'>\n",
      "Index: 9591228 entries, 0 to 9591342\n",
      "Data columns (total 7 columns):\n",
      " #   Column    Dtype  \n",
      "---  ------    -----  \n",
      " 0   시군구       object \n",
      " 1   단지명       object \n",
      " 2   전용면적(㎡)   float64\n",
      " 3   계약년월      int64  \n",
      " 4   거래금액(만원)  int32  \n",
      " 5   층         int64  \n",
      " 6   건축년도      float64\n",
      "dtypes: float64(2), int32(1), int64(2), object(2)\n",
      "memory usage: 548.8+ MB\n"
     ]
    }
   ],
   "source": [
    "data.info()"
   ]
  },
  {
   "cell_type": "code",
   "execution_count": 32,
   "id": "59d6bd3f",
   "metadata": {},
   "outputs": [],
   "source": [
    "data = data.reset_index(drop=True)"
   ]
  },
  {
   "cell_type": "code",
   "execution_count": 33,
   "id": "1ed0facf",
   "metadata": {},
   "outputs": [],
   "source": [
    "data['건축년도'] = data['건축년도'].astype(int)"
   ]
  },
  {
   "cell_type": "code",
   "execution_count": 34,
   "id": "784e6a69",
   "metadata": {},
   "outputs": [
    {
     "data": {
      "text/plain": [
       "88"
      ]
     },
     "execution_count": 34,
     "metadata": {},
     "output_type": "execute_result"
    }
   ],
   "source": [
    "data['층'].nunique()"
   ]
  },
  {
   "cell_type": "code",
   "execution_count": 35,
   "id": "d93519a8",
   "metadata": {},
   "outputs": [
    {
     "data": {
      "text/plain": [
       "층\n",
       "4     733104\n",
       "5     731375\n",
       "3     713991\n",
       "2     695874\n",
       "1     657190\n",
       "       ...  \n",
       "78         4\n",
       "0          4\n",
       "83         2\n",
       "81         2\n",
       "82         1\n",
       "Name: count, Length: 88, dtype: int64"
      ]
     },
     "execution_count": 35,
     "metadata": {},
     "output_type": "execute_result"
    }
   ],
   "source": [
    "data['층'].value_counts()"
   ]
  },
  {
   "cell_type": "code",
   "execution_count": 36,
   "id": "f92aab31",
   "metadata": {
    "scrolled": true
   },
   "outputs": [
    {
     "data": {
      "text/html": [
       "<div>\n",
       "<style scoped>\n",
       "    .dataframe tbody tr th:only-of-type {\n",
       "        vertical-align: middle;\n",
       "    }\n",
       "\n",
       "    .dataframe tbody tr th {\n",
       "        vertical-align: top;\n",
       "    }\n",
       "\n",
       "    .dataframe thead th {\n",
       "        text-align: right;\n",
       "    }\n",
       "</style>\n",
       "<table border=\"1\" class=\"dataframe\">\n",
       "  <thead>\n",
       "    <tr style=\"text-align: right;\">\n",
       "      <th></th>\n",
       "      <th>시군구</th>\n",
       "      <th>단지명</th>\n",
       "      <th>전용면적(㎡)</th>\n",
       "      <th>계약년월</th>\n",
       "      <th>거래금액(만원)</th>\n",
       "      <th>층</th>\n",
       "      <th>건축년도</th>\n",
       "    </tr>\n",
       "  </thead>\n",
       "  <tbody>\n",
       "    <tr>\n",
       "      <th>9185792</th>\n",
       "      <td>부산광역시 해운대구 중동</td>\n",
       "      <td>엘시티</td>\n",
       "      <td>144.2584</td>\n",
       "      <td>202205</td>\n",
       "      <td>380000</td>\n",
       "      <td>82</td>\n",
       "      <td>2019</td>\n",
       "    </tr>\n",
       "  </tbody>\n",
       "</table>\n",
       "</div>"
      ],
      "text/plain": [
       "                   시군구  단지명   전용면적(㎡)    계약년월  거래금액(만원)   층  건축년도\n",
       "9185792  부산광역시 해운대구 중동  엘시티  144.2584  202205    380000  82  2019"
      ]
     },
     "execution_count": 36,
     "metadata": {},
     "output_type": "execute_result"
    }
   ],
   "source": [
    "data[data['층']==82]"
   ]
  },
  {
   "cell_type": "code",
   "execution_count": 37,
   "id": "371221f1",
   "metadata": {},
   "outputs": [
    {
     "name": "stdout",
     "output_type": "stream",
     "text": [
      "<class 'pandas.core.frame.DataFrame'>\n",
      "RangeIndex: 9591228 entries, 0 to 9591227\n",
      "Data columns (total 7 columns):\n",
      " #   Column    Dtype  \n",
      "---  ------    -----  \n",
      " 0   시군구       object \n",
      " 1   단지명       object \n",
      " 2   전용면적(㎡)   float64\n",
      " 3   계약년월      int64  \n",
      " 4   거래금액(만원)  int32  \n",
      " 5   층         int64  \n",
      " 6   건축년도      int32  \n",
      "dtypes: float64(1), int32(2), int64(2), object(2)\n",
      "memory usage: 439.1+ MB\n"
     ]
    }
   ],
   "source": [
    "data.info()"
   ]
  },
  {
   "cell_type": "code",
   "execution_count": 38,
   "id": "5975bafc",
   "metadata": {},
   "outputs": [
    {
     "data": {
      "text/html": [
       "<div>\n",
       "<style scoped>\n",
       "    .dataframe tbody tr th:only-of-type {\n",
       "        vertical-align: middle;\n",
       "    }\n",
       "\n",
       "    .dataframe tbody tr th {\n",
       "        vertical-align: top;\n",
       "    }\n",
       "\n",
       "    .dataframe thead th {\n",
       "        text-align: right;\n",
       "    }\n",
       "</style>\n",
       "<table border=\"1\" class=\"dataframe\">\n",
       "  <thead>\n",
       "    <tr style=\"text-align: right;\">\n",
       "      <th></th>\n",
       "      <th>시군구</th>\n",
       "      <th>단지명</th>\n",
       "      <th>전용면적(㎡)</th>\n",
       "      <th>계약년월</th>\n",
       "      <th>거래금액(만원)</th>\n",
       "      <th>층</th>\n",
       "      <th>건축년도</th>\n",
       "    </tr>\n",
       "  </thead>\n",
       "  <tbody>\n",
       "    <tr>\n",
       "      <th>0</th>\n",
       "      <td>강원특별자치도 양구군 양구읍 상리</td>\n",
       "      <td>경림</td>\n",
       "      <td>59.400</td>\n",
       "      <td>200509</td>\n",
       "      <td>5000</td>\n",
       "      <td>11</td>\n",
       "      <td>1998</td>\n",
       "    </tr>\n",
       "    <tr>\n",
       "      <th>1</th>\n",
       "      <td>경기도 의정부시 민락동</td>\n",
       "      <td>한라비발디</td>\n",
       "      <td>84.990</td>\n",
       "      <td>200510</td>\n",
       "      <td>12750</td>\n",
       "      <td>19</td>\n",
       "      <td>2003</td>\n",
       "    </tr>\n",
       "    <tr>\n",
       "      <th>2</th>\n",
       "      <td>경기도 의정부시 신곡동</td>\n",
       "      <td>신일1</td>\n",
       "      <td>59.878</td>\n",
       "      <td>200510</td>\n",
       "      <td>5750</td>\n",
       "      <td>3</td>\n",
       "      <td>1997</td>\n",
       "    </tr>\n",
       "    <tr>\n",
       "      <th>3</th>\n",
       "      <td>경기도 의정부시 신곡동</td>\n",
       "      <td>풍림</td>\n",
       "      <td>49.830</td>\n",
       "      <td>200510</td>\n",
       "      <td>5500</td>\n",
       "      <td>8</td>\n",
       "      <td>1998</td>\n",
       "    </tr>\n",
       "    <tr>\n",
       "      <th>4</th>\n",
       "      <td>경기도 의정부시 용현동</td>\n",
       "      <td>용현현대1차</td>\n",
       "      <td>129.730</td>\n",
       "      <td>200511</td>\n",
       "      <td>12200</td>\n",
       "      <td>11</td>\n",
       "      <td>1992</td>\n",
       "    </tr>\n",
       "  </tbody>\n",
       "</table>\n",
       "</div>"
      ],
      "text/plain": [
       "                  시군구     단지명  전용면적(㎡)    계약년월  거래금액(만원)   층  건축년도\n",
       "0  강원특별자치도 양구군 양구읍 상리      경림   59.400  200509      5000  11  1998\n",
       "1        경기도 의정부시 민락동   한라비발디   84.990  200510     12750  19  2003\n",
       "2        경기도 의정부시 신곡동     신일1   59.878  200510      5750   3  1997\n",
       "3        경기도 의정부시 신곡동      풍림   49.830  200510      5500   8  1998\n",
       "4        경기도 의정부시 용현동  용현현대1차  129.730  200511     12200  11  1992"
      ]
     },
     "execution_count": 38,
     "metadata": {},
     "output_type": "execute_result"
    }
   ],
   "source": [
    "data.head()"
   ]
  },
  {
   "cell_type": "code",
   "execution_count": 39,
   "id": "c5e8720c",
   "metadata": {},
   "outputs": [
    {
     "data": {
      "text/plain": [
       "3654"
      ]
     },
     "execution_count": 39,
     "metadata": {},
     "output_type": "execute_result"
    }
   ],
   "source": [
    "data['시군구'].nunique()"
   ]
  },
  {
   "cell_type": "code",
   "execution_count": 40,
   "id": "560b457c",
   "metadata": {},
   "outputs": [],
   "source": [
    "from sklearn.preprocessing import LabelEncoder"
   ]
  },
  {
   "cell_type": "code",
   "execution_count": 45,
   "id": "1f8e4d55",
   "metadata": {},
   "outputs": [
    {
     "name": "stdout",
     "output_type": "stream",
     "text": [
      "['강원특별자치도 강릉시 강동면 안인리' '강원특별자치도 강릉시 견소동' '강원특별자치도 강릉시 교동' ...\n",
      " '충청북도 충주시 칠금동' '충청북도 충주시 풍동' '충청북도 충주시 호암동']\n"
     ]
    }
   ],
   "source": [
    "le = LabelEncoder()\n",
    "data['시군구'] = le.fit_transform(data['시군구'])\n",
    "print(le.classes_)"
   ]
  },
  {
   "cell_type": "code",
   "execution_count": 46,
   "id": "f8015aa6",
   "metadata": {},
   "outputs": [
    {
     "data": {
      "text/plain": [
       "0            75\n",
       "1           666\n",
       "2           668\n",
       "3           668\n",
       "4           669\n",
       "           ... \n",
       "9591223    3653\n",
       "9591224    3653\n",
       "9591225    3653\n",
       "9591226    3653\n",
       "9591227    3653\n",
       "Name: 시군구, Length: 9591228, dtype: int32"
      ]
     },
     "execution_count": 46,
     "metadata": {},
     "output_type": "execute_result"
    }
   ],
   "source": [
    "data['시군구']"
   ]
  },
  {
   "cell_type": "code",
   "execution_count": 48,
   "id": "b75a0ac0",
   "metadata": {},
   "outputs": [
    {
     "data": {
      "text/plain": [
       "array(['강원특별자치도 양구군 양구읍 상리', '경기도 의정부시 민락동', '경기도 의정부시 신곡동', ...,\n",
       "       '충청북도 충주시 호암동', '충청북도 충주시 호암동', '충청북도 충주시 호암동'], dtype=object)"
      ]
     },
     "execution_count": 48,
     "metadata": {},
     "output_type": "execute_result"
    }
   ],
   "source": [
    "le.inverse_transform(data['시군구'])\n"
   ]
  },
  {
   "cell_type": "code",
   "execution_count": 49,
   "id": "9894eeca",
   "metadata": {},
   "outputs": [
    {
     "data": {
      "text/plain": [
       "array(['강원특별자치도 강릉시 강동면 안인리', '강원특별자치도 강릉시 견소동', '강원특별자치도 강릉시 교동', ...,\n",
       "       '충청북도 충주시 칠금동', '충청북도 충주시 풍동', '충청북도 충주시 호암동'], dtype=object)"
      ]
     },
     "execution_count": 49,
     "metadata": {},
     "output_type": "execute_result"
    }
   ],
   "source": [
    "le.classes_"
   ]
  },
  {
   "cell_type": "code",
   "execution_count": 43,
   "id": "219bcfb9",
   "metadata": {},
   "outputs": [
    {
     "data": {
      "text/plain": [
       "array([  75,  666,  668, ..., 3653, 3653, 3653])"
      ]
     },
     "execution_count": 43,
     "metadata": {},
     "output_type": "execute_result"
    }
   ],
   "source": [
    "temp"
   ]
  },
  {
   "cell_type": "code",
   "execution_count": 54,
   "id": "72c95518",
   "metadata": {},
   "outputs": [
    {
     "data": {
      "text/plain": [
       "array(['경기도 의정부시 신곡동'], dtype=object)"
      ]
     },
     "execution_count": 54,
     "metadata": {},
     "output_type": "execute_result"
    }
   ],
   "source": [
    "le.inverse_transform(data['시군구'][3:4]) # 인덱싱으로 하나 x , 슬라이싱으로 2개 "
   ]
  },
  {
   "cell_type": "code",
   "execution_count": 53,
   "id": "fa9348f2",
   "metadata": {},
   "outputs": [
    {
     "data": {
      "text/plain": [
       "668"
      ]
     },
     "execution_count": 53,
     "metadata": {},
     "output_type": "execute_result"
    }
   ],
   "source": [
    "data['시군구'][3]"
   ]
  },
  {
   "cell_type": "code",
   "execution_count": null,
   "id": "7e5b9b8d",
   "metadata": {},
   "outputs": [],
   "source": []
  },
  {
   "cell_type": "code",
   "execution_count": null,
   "id": "f31b04db",
   "metadata": {},
   "outputs": [],
   "source": [
    "LabelEncoder()\n",
    "le.classes_\n",
    "array([1, 2, 6])\n",
    "le.transform([1, 1, 2, 6])\n",
    "array([0, 0, 1, 2]...)\n",
    "le.inverse_transform([0, 0, 1, 2])\n",
    "array([1, 1, 2, 6])"
   ]
  },
  {
   "cell_type": "code",
   "execution_count": 55,
   "id": "5aedce5c",
   "metadata": {},
   "outputs": [
    {
     "name": "stdout",
     "output_type": "stream",
     "text": [
      "['(1-10)' '(1-102)' '(1028-0)' ... '힐하우스' '힐하우스(577-79)' '힐하우스(802-3)']\n"
     ]
    }
   ],
   "source": [
    "le2 = LabelEncoder()\n",
    "data['단지명'] = le2.fit_transform(data['단지명'])\n",
    "print(le2.classes_)"
   ]
  },
  {
   "cell_type": "code",
   "execution_count": 56,
   "id": "66fd1194",
   "metadata": {},
   "outputs": [
    {
     "data": {
      "text/html": [
       "<div>\n",
       "<style scoped>\n",
       "    .dataframe tbody tr th:only-of-type {\n",
       "        vertical-align: middle;\n",
       "    }\n",
       "\n",
       "    .dataframe tbody tr th {\n",
       "        vertical-align: top;\n",
       "    }\n",
       "\n",
       "    .dataframe thead th {\n",
       "        text-align: right;\n",
       "    }\n",
       "</style>\n",
       "<table border=\"1\" class=\"dataframe\">\n",
       "  <thead>\n",
       "    <tr style=\"text-align: right;\">\n",
       "      <th></th>\n",
       "      <th>시군구</th>\n",
       "      <th>단지명</th>\n",
       "      <th>전용면적(㎡)</th>\n",
       "      <th>계약년월</th>\n",
       "      <th>거래금액(만원)</th>\n",
       "      <th>층</th>\n",
       "      <th>건축년도</th>\n",
       "    </tr>\n",
       "  </thead>\n",
       "  <tbody>\n",
       "    <tr>\n",
       "      <th>0</th>\n",
       "      <td>75</td>\n",
       "      <td>2104</td>\n",
       "      <td>59.400</td>\n",
       "      <td>200509</td>\n",
       "      <td>5000</td>\n",
       "      <td>11</td>\n",
       "      <td>1998</td>\n",
       "    </tr>\n",
       "    <tr>\n",
       "      <th>1</th>\n",
       "      <td>666</td>\n",
       "      <td>30939</td>\n",
       "      <td>84.990</td>\n",
       "      <td>200510</td>\n",
       "      <td>12750</td>\n",
       "      <td>19</td>\n",
       "      <td>2003</td>\n",
       "    </tr>\n",
       "    <tr>\n",
       "      <th>2</th>\n",
       "      <td>668</td>\n",
       "      <td>19400</td>\n",
       "      <td>59.878</td>\n",
       "      <td>200510</td>\n",
       "      <td>5750</td>\n",
       "      <td>3</td>\n",
       "      <td>1997</td>\n",
       "    </tr>\n",
       "    <tr>\n",
       "      <th>3</th>\n",
       "      <td>668</td>\n",
       "      <td>30208</td>\n",
       "      <td>49.830</td>\n",
       "      <td>200510</td>\n",
       "      <td>5500</td>\n",
       "      <td>8</td>\n",
       "      <td>1998</td>\n",
       "    </tr>\n",
       "    <tr>\n",
       "      <th>4</th>\n",
       "      <td>669</td>\n",
       "      <td>22739</td>\n",
       "      <td>129.730</td>\n",
       "      <td>200511</td>\n",
       "      <td>12200</td>\n",
       "      <td>11</td>\n",
       "      <td>1992</td>\n",
       "    </tr>\n",
       "  </tbody>\n",
       "</table>\n",
       "</div>"
      ],
      "text/plain": [
       "   시군구    단지명  전용면적(㎡)    계약년월  거래금액(만원)   층  건축년도\n",
       "0   75   2104   59.400  200509      5000  11  1998\n",
       "1  666  30939   84.990  200510     12750  19  2003\n",
       "2  668  19400   59.878  200510      5750   3  1997\n",
       "3  668  30208   49.830  200510      5500   8  1998\n",
       "4  669  22739  129.730  200511     12200  11  1992"
      ]
     },
     "execution_count": 56,
     "metadata": {},
     "output_type": "execute_result"
    }
   ],
   "source": [
    "data.head()"
   ]
  },
  {
   "cell_type": "code",
   "execution_count": 61,
   "id": "a2d268cd",
   "metadata": {},
   "outputs": [],
   "source": [
    "data = data.rename(columns={'전용면적(㎡)':'전용면적'})"
   ]
  },
  {
   "cell_type": "code",
   "execution_count": 62,
   "id": "6d286b4d",
   "metadata": {},
   "outputs": [
    {
     "data": {
      "text/html": [
       "<div>\n",
       "<style scoped>\n",
       "    .dataframe tbody tr th:only-of-type {\n",
       "        vertical-align: middle;\n",
       "    }\n",
       "\n",
       "    .dataframe tbody tr th {\n",
       "        vertical-align: top;\n",
       "    }\n",
       "\n",
       "    .dataframe thead th {\n",
       "        text-align: right;\n",
       "    }\n",
       "</style>\n",
       "<table border=\"1\" class=\"dataframe\">\n",
       "  <thead>\n",
       "    <tr style=\"text-align: right;\">\n",
       "      <th></th>\n",
       "      <th>시군구</th>\n",
       "      <th>단지명</th>\n",
       "      <th>전용면적</th>\n",
       "      <th>계약년월</th>\n",
       "      <th>거래금액(만원)</th>\n",
       "      <th>층</th>\n",
       "      <th>건축년도</th>\n",
       "    </tr>\n",
       "  </thead>\n",
       "  <tbody>\n",
       "    <tr>\n",
       "      <th>0</th>\n",
       "      <td>75</td>\n",
       "      <td>2104</td>\n",
       "      <td>59.400</td>\n",
       "      <td>200509</td>\n",
       "      <td>5000</td>\n",
       "      <td>11</td>\n",
       "      <td>1998</td>\n",
       "    </tr>\n",
       "    <tr>\n",
       "      <th>1</th>\n",
       "      <td>666</td>\n",
       "      <td>30939</td>\n",
       "      <td>84.990</td>\n",
       "      <td>200510</td>\n",
       "      <td>12750</td>\n",
       "      <td>19</td>\n",
       "      <td>2003</td>\n",
       "    </tr>\n",
       "    <tr>\n",
       "      <th>2</th>\n",
       "      <td>668</td>\n",
       "      <td>19400</td>\n",
       "      <td>59.878</td>\n",
       "      <td>200510</td>\n",
       "      <td>5750</td>\n",
       "      <td>3</td>\n",
       "      <td>1997</td>\n",
       "    </tr>\n",
       "    <tr>\n",
       "      <th>3</th>\n",
       "      <td>668</td>\n",
       "      <td>30208</td>\n",
       "      <td>49.830</td>\n",
       "      <td>200510</td>\n",
       "      <td>5500</td>\n",
       "      <td>8</td>\n",
       "      <td>1998</td>\n",
       "    </tr>\n",
       "    <tr>\n",
       "      <th>4</th>\n",
       "      <td>669</td>\n",
       "      <td>22739</td>\n",
       "      <td>129.730</td>\n",
       "      <td>200511</td>\n",
       "      <td>12200</td>\n",
       "      <td>11</td>\n",
       "      <td>1992</td>\n",
       "    </tr>\n",
       "  </tbody>\n",
       "</table>\n",
       "</div>"
      ],
      "text/plain": [
       "   시군구    단지명     전용면적    계약년월  거래금액(만원)   층  건축년도\n",
       "0   75   2104   59.400  200509      5000  11  1998\n",
       "1  666  30939   84.990  200510     12750  19  2003\n",
       "2  668  19400   59.878  200510      5750   3  1997\n",
       "3  668  30208   49.830  200510      5500   8  1998\n",
       "4  669  22739  129.730  200511     12200  11  1992"
      ]
     },
     "execution_count": 62,
     "metadata": {},
     "output_type": "execute_result"
    }
   ],
   "source": [
    "data.head()"
   ]
  },
  {
   "cell_type": "code",
   "execution_count": 78,
   "id": "1d2f0848",
   "metadata": {},
   "outputs": [],
   "source": [
    "X = data.drop('거래금액(만원)',axis =1)\n",
    "y = data['거래금액(만원)']"
   ]
  },
  {
   "cell_type": "code",
   "execution_count": 68,
   "id": "d19d0d7c",
   "metadata": {},
   "outputs": [
    {
     "data": {
      "text/plain": [
       "<Axes: >"
      ]
     },
     "execution_count": 68,
     "metadata": {},
     "output_type": "execute_result"
    },
    {
     "data": {
      "image/png": "[encoded data removed]",
      "text/plain": [
       "<Figure size 640x480 with 1 Axes>"
      ]
     },
     "metadata": {},
     "output_type": "display_data"
    }
   ],
   "source": [
    "data['거래금액(만원)'].plot(kind='box')"
   ]
  },
  {
   "cell_type": "code",
   "execution_count": 67,
   "id": "004ee380",
   "metadata": {},
   "outputs": [
    {
     "ename": "ValueError",
     "evalue": "The number of FixedLocator locations (2), usually from a call to set_ticks, does not match the number of labels (1).",
     "output_type": "error",
     "traceback": [
      "\u001b[1;31m---------------------------------------------------------------------------\u001b[0m",
      "\u001b[1;31mValueError\u001b[0m                                Traceback (most recent call last)",
      "Cell \u001b[1;32mIn[67], line 2\u001b[0m\n\u001b[0;32m      1\u001b[0m \u001b[38;5;28;01mfor\u001b[39;00m i \u001b[38;5;129;01min\u001b[39;00m data\u001b[38;5;241m.\u001b[39mcolumns:\n\u001b[1;32m----> 2\u001b[0m     \u001b[43mdata\u001b[49m\u001b[43m[\u001b[49m\u001b[43mi\u001b[49m\u001b[43m]\u001b[49m\u001b[38;5;241;43m.\u001b[39;49m\u001b[43mplot\u001b[49m\u001b[43m(\u001b[49m\u001b[43mkind\u001b[49m\u001b[38;5;241;43m=\u001b[39;49m\u001b[38;5;124;43m'\u001b[39;49m\u001b[38;5;124;43mbox\u001b[39;49m\u001b[38;5;124;43m'\u001b[39;49m\u001b[43m)\u001b[49m\n",
      "File \u001b[1;32m~\\anaconda3\\envs\\testenv\\lib\\site-packages\\pandas\\plotting\\_core.py:975\u001b[0m, in \u001b[0;36mPlotAccessor.__call__\u001b[1;34m(self, *args, **kwargs)\u001b[0m\n\u001b[0;32m    972\u001b[0m             label_name \u001b[38;5;241m=\u001b[39m label_kw \u001b[38;5;129;01mor\u001b[39;00m data\u001b[38;5;241m.\u001b[39mcolumns\n\u001b[0;32m    973\u001b[0m             data\u001b[38;5;241m.\u001b[39mcolumns \u001b[38;5;241m=\u001b[39m label_name\n\u001b[1;32m--> 975\u001b[0m \u001b[38;5;28;01mreturn\u001b[39;00m \u001b[43mplot_backend\u001b[49m\u001b[38;5;241;43m.\u001b[39;49m\u001b[43mplot\u001b[49m\u001b[43m(\u001b[49m\u001b[43mdata\u001b[49m\u001b[43m,\u001b[49m\u001b[43m \u001b[49m\u001b[43mkind\u001b[49m\u001b[38;5;241;43m=\u001b[39;49m\u001b[43mkind\u001b[49m\u001b[43m,\u001b[49m\u001b[43m \u001b[49m\u001b[38;5;241;43m*\u001b[39;49m\u001b[38;5;241;43m*\u001b[39;49m\u001b[43mkwargs\u001b[49m\u001b[43m)\u001b[49m\n",
      "File \u001b[1;32m~\\anaconda3\\envs\\testenv\\lib\\site-packages\\pandas\\plotting\\_matplotlib\\__init__.py:71\u001b[0m, in \u001b[0;36mplot\u001b[1;34m(data, kind, **kwargs)\u001b[0m\n\u001b[0;32m     69\u001b[0m         kwargs[\u001b[38;5;124m\"\u001b[39m\u001b[38;5;124max\u001b[39m\u001b[38;5;124m\"\u001b[39m] \u001b[38;5;241m=\u001b[39m \u001b[38;5;28mgetattr\u001b[39m(ax, \u001b[38;5;124m\"\u001b[39m\u001b[38;5;124mleft_ax\u001b[39m\u001b[38;5;124m\"\u001b[39m, ax)\n\u001b[0;32m     70\u001b[0m plot_obj \u001b[38;5;241m=\u001b[39m PLOT_CLASSES[kind](data, \u001b[38;5;241m*\u001b[39m\u001b[38;5;241m*\u001b[39mkwargs)\n\u001b[1;32m---> 71\u001b[0m \u001b[43mplot_obj\u001b[49m\u001b[38;5;241;43m.\u001b[39;49m\u001b[43mgenerate\u001b[49m\u001b[43m(\u001b[49m\u001b[43m)\u001b[49m\n\u001b[0;32m     72\u001b[0m plot_obj\u001b[38;5;241m.\u001b[39mdraw()\n\u001b[0;32m     73\u001b[0m \u001b[38;5;28;01mreturn\u001b[39;00m plot_obj\u001b[38;5;241m.\u001b[39mresult\n",
      "File \u001b[1;32m~\\anaconda3\\envs\\testenv\\lib\\site-packages\\pandas\\plotting\\_matplotlib\\core.py:448\u001b[0m, in \u001b[0;36mMPLPlot.generate\u001b[1;34m(self)\u001b[0m\n\u001b[0;32m    446\u001b[0m \u001b[38;5;28mself\u001b[39m\u001b[38;5;241m.\u001b[39m_compute_plot_data()\n\u001b[0;32m    447\u001b[0m \u001b[38;5;28mself\u001b[39m\u001b[38;5;241m.\u001b[39m_setup_subplots()\n\u001b[1;32m--> 448\u001b[0m \u001b[38;5;28;43mself\u001b[39;49m\u001b[38;5;241;43m.\u001b[39;49m\u001b[43m_make_plot\u001b[49m\u001b[43m(\u001b[49m\u001b[43m)\u001b[49m\n\u001b[0;32m    449\u001b[0m \u001b[38;5;28mself\u001b[39m\u001b[38;5;241m.\u001b[39m_add_table()\n\u001b[0;32m    450\u001b[0m \u001b[38;5;28mself\u001b[39m\u001b[38;5;241m.\u001b[39m_make_legend()\n",
      "File \u001b[1;32m~\\anaconda3\\envs\\testenv\\lib\\site-packages\\pandas\\plotting\\_matplotlib\\boxplot.py:210\u001b[0m, in \u001b[0;36mBoxPlot._make_plot\u001b[1;34m(self)\u001b[0m\n\u001b[0;32m    208\u001b[0m \u001b[38;5;28;01mif\u001b[39;00m \u001b[38;5;129;01mnot\u001b[39;00m \u001b[38;5;28mself\u001b[39m\u001b[38;5;241m.\u001b[39muse_index:\n\u001b[0;32m    209\u001b[0m     labels \u001b[38;5;241m=\u001b[39m [pprint_thing(key) \u001b[38;5;28;01mfor\u001b[39;00m key \u001b[38;5;129;01min\u001b[39;00m \u001b[38;5;28mrange\u001b[39m(\u001b[38;5;28mlen\u001b[39m(labels))]\n\u001b[1;32m--> 210\u001b[0m \u001b[38;5;28;43mself\u001b[39;49m\u001b[38;5;241;43m.\u001b[39;49m\u001b[43m_set_ticklabels\u001b[49m\u001b[43m(\u001b[49m\u001b[43max\u001b[49m\u001b[43m,\u001b[49m\u001b[43m \u001b[49m\u001b[43mlabels\u001b[49m\u001b[43m)\u001b[49m\n",
      "File \u001b[1;32m~\\anaconda3\\envs\\testenv\\lib\\site-packages\\pandas\\plotting\\_matplotlib\\boxplot.py:214\u001b[0m, in \u001b[0;36mBoxPlot._set_ticklabels\u001b[1;34m(self, ax, labels)\u001b[0m\n\u001b[0;32m    212\u001b[0m \u001b[38;5;28;01mdef\u001b[39;00m \u001b[38;5;21m_set_ticklabels\u001b[39m(\u001b[38;5;28mself\u001b[39m, ax: Axes, labels) \u001b[38;5;241m-\u001b[39m\u001b[38;5;241m>\u001b[39m \u001b[38;5;28;01mNone\u001b[39;00m:\n\u001b[0;32m    213\u001b[0m     \u001b[38;5;28;01mif\u001b[39;00m \u001b[38;5;28mself\u001b[39m\u001b[38;5;241m.\u001b[39morientation \u001b[38;5;241m==\u001b[39m \u001b[38;5;124m\"\u001b[39m\u001b[38;5;124mvertical\u001b[39m\u001b[38;5;124m\"\u001b[39m:\n\u001b[1;32m--> 214\u001b[0m         \u001b[43max\u001b[49m\u001b[38;5;241;43m.\u001b[39;49m\u001b[43mset_xticklabels\u001b[49m\u001b[43m(\u001b[49m\u001b[43mlabels\u001b[49m\u001b[43m)\u001b[49m\n\u001b[0;32m    215\u001b[0m     \u001b[38;5;28;01melse\u001b[39;00m:\n\u001b[0;32m    216\u001b[0m         ax\u001b[38;5;241m.\u001b[39mset_yticklabels(labels)\n",
      "File \u001b[1;32m~\\anaconda3\\envs\\testenv\\lib\\site-packages\\matplotlib\\axes\\_base.py:74\u001b[0m, in \u001b[0;36m_axis_method_wrapper.__set_name__.<locals>.wrapper\u001b[1;34m(self, *args, **kwargs)\u001b[0m\n\u001b[0;32m     73\u001b[0m \u001b[38;5;28;01mdef\u001b[39;00m \u001b[38;5;21mwrapper\u001b[39m(\u001b[38;5;28mself\u001b[39m, \u001b[38;5;241m*\u001b[39margs, \u001b[38;5;241m*\u001b[39m\u001b[38;5;241m*\u001b[39mkwargs):\n\u001b[1;32m---> 74\u001b[0m     \u001b[38;5;28;01mreturn\u001b[39;00m \u001b[43mget_method\u001b[49m\u001b[43m(\u001b[49m\u001b[38;5;28;43mself\u001b[39;49m\u001b[43m)\u001b[49m\u001b[43m(\u001b[49m\u001b[38;5;241;43m*\u001b[39;49m\u001b[43margs\u001b[49m\u001b[43m,\u001b[49m\u001b[43m \u001b[49m\u001b[38;5;241;43m*\u001b[39;49m\u001b[38;5;241;43m*\u001b[39;49m\u001b[43mkwargs\u001b[49m\u001b[43m)\u001b[49m\n",
      "File \u001b[1;32m~\\anaconda3\\envs\\testenv\\lib\\site-packages\\matplotlib\\_api\\deprecation.py:297\u001b[0m, in \u001b[0;36mrename_parameter.<locals>.wrapper\u001b[1;34m(*args, **kwargs)\u001b[0m\n\u001b[0;32m    292\u001b[0m     warn_deprecated(\n\u001b[0;32m    293\u001b[0m         since, message\u001b[38;5;241m=\u001b[39m\u001b[38;5;124mf\u001b[39m\u001b[38;5;124m\"\u001b[39m\u001b[38;5;124mThe \u001b[39m\u001b[38;5;132;01m{\u001b[39;00mold\u001b[38;5;132;01m!r}\u001b[39;00m\u001b[38;5;124m parameter of \u001b[39m\u001b[38;5;132;01m{\u001b[39;00mfunc\u001b[38;5;241m.\u001b[39m\u001b[38;5;18m__name__\u001b[39m\u001b[38;5;132;01m}\u001b[39;00m\u001b[38;5;124m() \u001b[39m\u001b[38;5;124m\"\u001b[39m\n\u001b[0;32m    294\u001b[0m         \u001b[38;5;124mf\u001b[39m\u001b[38;5;124m\"\u001b[39m\u001b[38;5;124mhas been renamed \u001b[39m\u001b[38;5;132;01m{\u001b[39;00mnew\u001b[38;5;132;01m!r}\u001b[39;00m\u001b[38;5;124m since Matplotlib \u001b[39m\u001b[38;5;132;01m{\u001b[39;00msince\u001b[38;5;132;01m}\u001b[39;00m\u001b[38;5;124m; support \u001b[39m\u001b[38;5;124m\"\u001b[39m\n\u001b[0;32m    295\u001b[0m         \u001b[38;5;124mf\u001b[39m\u001b[38;5;124m\"\u001b[39m\u001b[38;5;124mfor the old name will be dropped %(removal)s.\u001b[39m\u001b[38;5;124m\"\u001b[39m)\n\u001b[0;32m    296\u001b[0m     kwargs[new] \u001b[38;5;241m=\u001b[39m kwargs\u001b[38;5;241m.\u001b[39mpop(old)\n\u001b[1;32m--> 297\u001b[0m \u001b[38;5;28;01mreturn\u001b[39;00m \u001b[43mfunc\u001b[49m\u001b[43m(\u001b[49m\u001b[38;5;241;43m*\u001b[39;49m\u001b[43margs\u001b[49m\u001b[43m,\u001b[49m\u001b[43m \u001b[49m\u001b[38;5;241;43m*\u001b[39;49m\u001b[38;5;241;43m*\u001b[39;49m\u001b[43mkwargs\u001b[49m\u001b[43m)\u001b[49m\n",
      "File \u001b[1;32m~\\anaconda3\\envs\\testenv\\lib\\site-packages\\matplotlib\\axis.py:1969\u001b[0m, in \u001b[0;36mAxis.set_ticklabels\u001b[1;34m(self, labels, minor, fontdict, **kwargs)\u001b[0m\n\u001b[0;32m   1965\u001b[0m \u001b[38;5;28;01mif\u001b[39;00m \u001b[38;5;28misinstance\u001b[39m(locator, mticker\u001b[38;5;241m.\u001b[39mFixedLocator):\n\u001b[0;32m   1966\u001b[0m     \u001b[38;5;66;03m# Passing [] as a list of labels is often used as a way to\u001b[39;00m\n\u001b[0;32m   1967\u001b[0m     \u001b[38;5;66;03m# remove all tick labels, so only error for > 0 labels\u001b[39;00m\n\u001b[0;32m   1968\u001b[0m     \u001b[38;5;28;01mif\u001b[39;00m \u001b[38;5;28mlen\u001b[39m(locator\u001b[38;5;241m.\u001b[39mlocs) \u001b[38;5;241m!=\u001b[39m \u001b[38;5;28mlen\u001b[39m(labels) \u001b[38;5;129;01mand\u001b[39;00m \u001b[38;5;28mlen\u001b[39m(labels) \u001b[38;5;241m!=\u001b[39m \u001b[38;5;241m0\u001b[39m:\n\u001b[1;32m-> 1969\u001b[0m         \u001b[38;5;28;01mraise\u001b[39;00m \u001b[38;5;167;01mValueError\u001b[39;00m(\n\u001b[0;32m   1970\u001b[0m             \u001b[38;5;124m\"\u001b[39m\u001b[38;5;124mThe number of FixedLocator locations\u001b[39m\u001b[38;5;124m\"\u001b[39m\n\u001b[0;32m   1971\u001b[0m             \u001b[38;5;124mf\u001b[39m\u001b[38;5;124m\"\u001b[39m\u001b[38;5;124m (\u001b[39m\u001b[38;5;132;01m{\u001b[39;00m\u001b[38;5;28mlen\u001b[39m(locator\u001b[38;5;241m.\u001b[39mlocs)\u001b[38;5;132;01m}\u001b[39;00m\u001b[38;5;124m), usually from a call to\u001b[39m\u001b[38;5;124m\"\u001b[39m\n\u001b[0;32m   1972\u001b[0m             \u001b[38;5;124m\"\u001b[39m\u001b[38;5;124m set_ticks, does not match\u001b[39m\u001b[38;5;124m\"\u001b[39m\n\u001b[0;32m   1973\u001b[0m             \u001b[38;5;124mf\u001b[39m\u001b[38;5;124m\"\u001b[39m\u001b[38;5;124m the number of labels (\u001b[39m\u001b[38;5;132;01m{\u001b[39;00m\u001b[38;5;28mlen\u001b[39m(labels)\u001b[38;5;132;01m}\u001b[39;00m\u001b[38;5;124m).\u001b[39m\u001b[38;5;124m\"\u001b[39m)\n\u001b[0;32m   1974\u001b[0m     tickd \u001b[38;5;241m=\u001b[39m {loc: lab \u001b[38;5;28;01mfor\u001b[39;00m loc, lab \u001b[38;5;129;01min\u001b[39;00m \u001b[38;5;28mzip\u001b[39m(locator\u001b[38;5;241m.\u001b[39mlocs, labels)}\n\u001b[0;32m   1975\u001b[0m     func \u001b[38;5;241m=\u001b[39m functools\u001b[38;5;241m.\u001b[39mpartial(\u001b[38;5;28mself\u001b[39m\u001b[38;5;241m.\u001b[39m_format_with_dict, tickd)\n",
      "\u001b[1;31mValueError\u001b[0m: The number of FixedLocator locations (2), usually from a call to set_ticks, does not match the number of labels (1)."
     ]
    },
    {
     "data": {
      "image/png": "[encoded data removed]",
      "text/plain": [
       "<Figure size 640x480 with 1 Axes>"
      ]
     },
     "metadata": {},
     "output_type": "display_data"
    }
   ],
   "source": [
    "for i in data.columns:\n",
    "    data[i].plot(kind='box')"
   ]
  },
  {
   "cell_type": "code",
   "execution_count": 74,
   "id": "f10aa42b",
   "metadata": {},
   "outputs": [],
   "source": [
    "cols = X.columns"
   ]
  },
  {
   "cell_type": "code",
   "execution_count": 83,
   "id": "97ee3d89",
   "metadata": {
    "scrolled": true
   },
   "outputs": [],
   "source": [
    "from sklearn.preprocessing import RobustScaler\n",
    "rc = RobustScaler() \n",
    "X = rc.fit_transform(X)\n",
    "X = pd.DataFrame(X,columns=[\"시군구\",\"단지명\",\"전용면적\",\"계약년월\",\"층\",\"건축년도\"])"
   ]
  },
  {
   "cell_type": "code",
   "execution_count": 84,
   "id": "f1ef16f4",
   "metadata": {},
   "outputs": [
    {
     "data": {
      "text/html": [
       "<div>\n",
       "<style scoped>\n",
       "    .dataframe tbody tr th:only-of-type {\n",
       "        vertical-align: middle;\n",
       "    }\n",
       "\n",
       "    .dataframe tbody tr th {\n",
       "        vertical-align: top;\n",
       "    }\n",
       "\n",
       "    .dataframe thead th {\n",
       "        text-align: right;\n",
       "    }\n",
       "</style>\n",
       "<table border=\"1\" class=\"dataframe\">\n",
       "  <thead>\n",
       "    <tr style=\"text-align: right;\">\n",
       "      <th></th>\n",
       "      <th>시군구</th>\n",
       "      <th>단지명</th>\n",
       "      <th>전용면적</th>\n",
       "      <th>계약년월</th>\n",
       "      <th>층</th>\n",
       "      <th>건축년도</th>\n",
       "    </tr>\n",
       "  </thead>\n",
       "  <tbody>\n",
       "    <tr>\n",
       "      <th>0</th>\n",
       "      <td>-0.977248</td>\n",
       "      <td>-0.972467</td>\n",
       "      <td>-0.575108</td>\n",
       "      <td>-1.101996</td>\n",
       "      <td>0.333333</td>\n",
       "      <td>-0.166667</td>\n",
       "    </tr>\n",
       "    <tr>\n",
       "      <th>1</th>\n",
       "      <td>-0.649279</td>\n",
       "      <td>0.745948</td>\n",
       "      <td>0.431184</td>\n",
       "      <td>-1.100887</td>\n",
       "      <td>1.222222</td>\n",
       "      <td>0.250000</td>\n",
       "    </tr>\n",
       "    <tr>\n",
       "      <th>2</th>\n",
       "      <td>-0.648169</td>\n",
       "      <td>0.058284</td>\n",
       "      <td>-0.556311</td>\n",
       "      <td>-1.100887</td>\n",
       "      <td>-0.555556</td>\n",
       "      <td>-0.250000</td>\n",
       "    </tr>\n",
       "    <tr>\n",
       "      <th>3</th>\n",
       "      <td>-0.648169</td>\n",
       "      <td>0.702384</td>\n",
       "      <td>-0.951435</td>\n",
       "      <td>-1.100887</td>\n",
       "      <td>0.000000</td>\n",
       "      <td>-0.166667</td>\n",
       "    </tr>\n",
       "    <tr>\n",
       "      <th>4</th>\n",
       "      <td>-0.647614</td>\n",
       "      <td>0.257271</td>\n",
       "      <td>2.190523</td>\n",
       "      <td>-1.099778</td>\n",
       "      <td>0.333333</td>\n",
       "      <td>-0.666667</td>\n",
       "    </tr>\n",
       "  </tbody>\n",
       "</table>\n",
       "</div>"
      ],
      "text/plain": [
       "        시군구       단지명      전용면적      계약년월         층      건축년도\n",
       "0 -0.977248 -0.972467 -0.575108 -1.101996  0.333333 -0.166667\n",
       "1 -0.649279  0.745948  0.431184 -1.100887  1.222222  0.250000\n",
       "2 -0.648169  0.058284 -0.556311 -1.100887 -0.555556 -0.250000\n",
       "3 -0.648169  0.702384 -0.951435 -1.100887  0.000000 -0.166667\n",
       "4 -0.647614  0.257271  2.190523 -1.099778  0.333333 -0.666667"
      ]
     },
     "execution_count": 84,
     "metadata": {},
     "output_type": "execute_result"
    }
   ],
   "source": [
    "X.head()"
   ]
  },
  {
   "cell_type": "code",
   "execution_count": 64,
   "id": "93ca6833",
   "metadata": {},
   "outputs": [],
   "source": [
    "from sklearn.model_selection import train_test_split\n",
    "X_train, X_test, y_train, y_test = train_test_split(X,y)"
   ]
  },
  {
   "cell_type": "code",
   "execution_count": null,
   "id": "803ec5df",
   "metadata": {},
   "outputs": [],
   "source": []
  },
  {
   "cell_type": "code",
   "execution_count": null,
   "id": "70738681",
   "metadata": {},
   "outputs": [],
   "source": []
  },
  {
   "cell_type": "code",
   "execution_count": null,
   "id": "522783cf",
   "metadata": {},
   "outputs": [],
   "source": []
  },
  {
   "cell_type": "code",
   "execution_count": null,
   "id": "415bbba3",
   "metadata": {},
   "outputs": [],
   "source": []
  }
 ],
 "metadata": {
  "kernelspec": {
   "display_name": "testenv",
   "language": "python",
   "name": "testenv"
  },
  "language_info": {
   "codemirror_mode": {
    "name": "ipython",
    "version": 3
   },
   "file_extension": ".py",
   "mimetype": "text/x-python",
   "name": "python",
   "nbconvert_exporter": "python",
   "pygments_lexer": "ipython3",
   "version": "3.8.17"
  }
 },
 "nbformat": 4,
 "nbformat_minor": 5
}
