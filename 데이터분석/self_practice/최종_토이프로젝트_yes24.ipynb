{
 "cells": [
  {
   "cell_type": "code",
   "execution_count": 1,
   "id": "7fef18a0",
   "metadata": {},
   "outputs": [],
   "source": [
    "import requests  # 서버에 http 프로토콜로 요청\n",
    "from bs4 import BeautifulSoup as bs  # html 파싱\n",
    "import time  # 5초간 휴식 할 때 사용\n",
    "from datetime import datetime  # 오늘 연월일 추출\n",
    "import pandas as pd  # 데이터 프레임 만듬\n",
    "from tqdm import tqdm\n",
    "import sqlite3\n",
    "from sqlalchemy import create_engine\n",
    "from selenium import webdriver\n",
    "from selenium.webdriver.chrome.service import Service as ChromeService\n",
    "from webdriver_manager.chrome import ChromeDriverManager\n",
    "from selenium.webdriver.common.keys import Keys\n",
    "from selenium.webdriver.common.by import By\n",
    "# import yes24_module as ym"
   ]
  },
  {
   "cell_type": "code",
   "execution_count": 2,
   "id": "86860729",
   "metadata": {},
   "outputs": [],
   "source": [
    "# 웹 드라이버를 버전에 맞게 자동으로 다운받고 옵션을 추가해 줌\n",
    "driver = webdriver.Chrome(service=ChromeService(ChromeDriverManager().install()))\n",
    "driver.set_window_size(1920, 1080) # 웹 브라우저 해상도 조절\n",
    "driver.get('https://www.yes24.com/Product/Category/BestSeller') # 크롤링할 웹사이트 주소\n",
    "driver.find_element(By.CSS_SELECTOR, 'option[value=\\'120\\']').click() # 120개씩 보기"
   ]
  },
  {
   "cell_type": "code",
   "execution_count": null,
   "id": "0ab3b022",
   "metadata": {},
   "outputs": [],
   "source": [
    "year = list(range(2023, 2007, -1))\n",
    "month = list(range(1, 13))\n",
    "page = list(range(1, 10))\n",
    "print(year)\n",
    "print(month)\n",
    "print(page)"
   ]
  },
  {
   "cell_type": "code",
   "execution_count": 8,
   "id": "19e6ae64",
   "metadata": {
    "scrolled": true
   },
   "outputs": [
    {
     "name": "stderr",
     "output_type": "stream",
     "text": [
      "\r",
      "  0%|                                                                                           | 0/16 [00:00<?, ?it/s]"
     ]
    },
    {
     "name": "stdout",
     "output_type": "stream",
     "text": [
      "현재 2008년도 12월 9페이지 크롤링중\r"
     ]
    },
    {
     "name": "stderr",
     "output_type": "stream",
     "text": [
      "\r",
      "  6%|█████                                                                           | 1/16 [11:06<2:46:32, 666.16s/it]"
     ]
    },
    {
     "name": "stdout",
     "output_type": "stream",
     "text": [
      "현재 2009년도 12월 9페이지 크롤링중\r"
     ]
    },
    {
     "name": "stderr",
     "output_type": "stream",
     "text": [
      "\r",
      " 12%|██████████                                                                      | 2/16 [22:11<2:35:16, 665.49s/it]"
     ]
    },
    {
     "name": "stdout",
     "output_type": "stream",
     "text": [
      "현재 2010년도 12월 9페이지 크롤링중\r"
     ]
    },
    {
     "name": "stderr",
     "output_type": "stream",
     "text": [
      "\r",
      " 19%|███████████████                                                                 | 3/16 [33:15<2:24:07, 665.18s/it]"
     ]
    },
    {
     "name": "stdout",
     "output_type": "stream",
     "text": [
      "현재 2011년도 12월 9페이지 크롤링중\r"
     ]
    },
    {
     "name": "stderr",
     "output_type": "stream",
     "text": [
      "\r",
      " 25%|████████████████████                                                            | 4/16 [44:21<2:13:04, 665.35s/it]"
     ]
    },
    {
     "name": "stdout",
     "output_type": "stream",
     "text": [
      "현재 2012년도 12월 9페이지 크롤링중\r"
     ]
    },
    {
     "name": "stderr",
     "output_type": "stream",
     "text": [
      "\r",
      " 31%|█████████████████████████                                                       | 5/16 [56:01<2:04:14, 677.64s/it]"
     ]
    },
    {
     "name": "stdout",
     "output_type": "stream",
     "text": [
      "현재 2013년도 12월 9페이지 크롤링중\r"
     ]
    },
    {
     "name": "stderr",
     "output_type": "stream",
     "text": [
      "\r",
      " 38%|█████████████████████████████▎                                                | 6/16 [1:07:07<1:52:17, 673.78s/it]"
     ]
    },
    {
     "name": "stdout",
     "output_type": "stream",
     "text": [
      "현재 2014년도 12월 9페이지 크롤링중\r"
     ]
    },
    {
     "name": "stderr",
     "output_type": "stream",
     "text": [
      "\r",
      " 44%|██████████████████████████████████▏                                           | 7/16 [1:18:16<1:40:49, 672.20s/it]"
     ]
    },
    {
     "name": "stdout",
     "output_type": "stream",
     "text": [
      "현재 2015년도 12월 9페이지 크롤링중\r"
     ]
    },
    {
     "name": "stderr",
     "output_type": "stream",
     "text": [
      "\r",
      " 50%|███████████████████████████████████████                                       | 8/16 [1:29:21<1:29:19, 669.89s/it]"
     ]
    },
    {
     "name": "stdout",
     "output_type": "stream",
     "text": [
      "현재 2016년도 12월 9페이지 크롤링중\r"
     ]
    },
    {
     "name": "stderr",
     "output_type": "stream",
     "text": [
      "\r",
      " 56%|███████████████████████████████████████████▉                                  | 9/16 [1:40:32<1:18:13, 670.47s/it]"
     ]
    },
    {
     "name": "stdout",
     "output_type": "stream",
     "text": [
      "현재 2017년도 12월 9페이지 크롤링중\r"
     ]
    },
    {
     "name": "stderr",
     "output_type": "stream",
     "text": [
      "\r",
      " 62%|████████████████████████████████████████████████▏                            | 10/16 [1:51:40<1:06:57, 669.64s/it]"
     ]
    },
    {
     "name": "stdout",
     "output_type": "stream",
     "text": [
      "현재 2018년도 12월 9페이지 크롤링중\r"
     ]
    },
    {
     "name": "stderr",
     "output_type": "stream",
     "text": [
      "\r",
      " 69%|██████████████████████████████████████████████████████▎                        | 11/16 [2:03:13<56:23, 676.68s/it]"
     ]
    },
    {
     "name": "stdout",
     "output_type": "stream",
     "text": [
      "현재 2019년도 12월 9페이지 크롤링중\r"
     ]
    },
    {
     "name": "stderr",
     "output_type": "stream",
     "text": [
      "\r",
      " 75%|███████████████████████████████████████████████████████████▎                   | 12/16 [2:14:39<45:17, 679.44s/it]"
     ]
    },
    {
     "name": "stdout",
     "output_type": "stream",
     "text": [
      "현재 2020년도 12월 9페이지 크롤링중\r"
     ]
    },
    {
     "name": "stderr",
     "output_type": "stream",
     "text": [
      "\r",
      " 81%|████████████████████████████████████████████████████████████████▏              | 13/16 [2:26:16<34:14, 684.88s/it]"
     ]
    },
    {
     "name": "stdout",
     "output_type": "stream",
     "text": [
      "현재 2021년도 12월 9페이지 크롤링중\r"
     ]
    },
    {
     "name": "stderr",
     "output_type": "stream",
     "text": [
      "\r",
      " 88%|█████████████████████████████████████████████████████████████████████▏         | 14/16 [2:38:27<23:17, 698.94s/it]"
     ]
    },
    {
     "name": "stdout",
     "output_type": "stream",
     "text": [
      "현재 2022년도 12월 9페이지 크롤링중\r"
     ]
    },
    {
     "name": "stderr",
     "output_type": "stream",
     "text": [
      "\r",
      " 94%|██████████████████████████████████████████████████████████████████████████     | 15/16 [2:50:05<11:38, 698.66s/it]"
     ]
    },
    {
     "name": "stdout",
     "output_type": "stream",
     "text": [
      "현재 2023년도 12월 9페이지 크롤링중\r"
     ]
    },
    {
     "name": "stderr",
     "output_type": "stream",
     "text": [
      "100%|███████████████████████████████████████████████████████████████████████████████| 16/16 [3:02:14<00:00, 683.39s/it]\n"
     ]
    }
   ],
   "source": [
    "book_list = []\n",
    "for bestYear in tqdm(range(2008,2024)):\n",
    "    for bestMonth in range(1,13):\n",
    "        for pageNum in range(1,10):\n",
    "            url = f\"https://www.yes24.com/Product/Category/MonthWeekBestSeller?categoryNumber=001&pageNumber={pageNum}&pageSize=120&type=month&saleYear={bestYear}&saleMonth={bestMonth}\"\n",
    "            r = requests.get(url)\n",
    "            soup = bs(r.text,\"lxml\")\n",
    "            print(f\"현재 {bestYear}년도 {bestMonth}월 {pageNum}페이지 크롤링중\",end='\\r')\n",
    "            time.sleep(3)\n",
    "            for book in soup.select(\"#yesBestList > li\"):\n",
    "                year = bestYear\n",
    "                month = bestMonth\n",
    "                book_img = book.select_one(\".img_item>span>a>em>img\")[\"data-original\"] if book.select_one(\".img_item>span>a>em>img\") else \"\"\n",
    "                title_h = book.select_one(\".gd_res\").get_text()\n",
    "                title_f = book.select_one(\".gd_nameF\").get_text() if book.select_one(\".gd_nameF\") else \"\"\n",
    "                title_m = book.select_one(\".gd_name\").get_text() if book.select_one(\".gd_name\") else \"제목없음\"\n",
    "                title_e = book.select_one(\".gd_nameE\").get_text() if book.select_one(\".gd_nameE\") else \"\"\n",
    "                detail_link = \"https://www.yes24.com\" + book.select_one(\".gd_name\")[\"href\"] if book.select_one(\".gd_name\") else \"제목없음\"\n",
    "                author = [i.get_text() for i in book.select(\".authPub.info_auth > a\")] if book.select(\".authPub.info_auth > a\") else []\n",
    "                publisher = book.select_one(\".authPub.info_pub > a\").get_text() if book.select_one(\".authPub.info_pub > a\") else \"\"\n",
    "                pub_date = book.select_one(\".authPub.info_date\").get_text() if book.select_one(\".authPub.info_date\") else \"\"\n",
    "                price = book.select_one(\".yes_b\").get_text() if book.select_one(\".yes_b\") else 0\n",
    "                n_reviews = book.select_one(\".txC_blue\").get_text() if book.select_one(\".txC_blue\") else 0\n",
    "                review_link = book.select_one(\".rating_rvCount > a\")['href'] if book.select_one(\".rating_rvCount > a\") else \"\"\n",
    "                rating = book.select_one(\"span.rating_grade > .yes_b\").get_text() if book.select_one(\"span.rating_grade > .yes_b\") else 0\n",
    "                tags = [i.get_text() for i in book.select(\".info_row.info_tag > .tag > a\")] if book.select(\".info_row.info_tag > .tag > a\") else []\n",
    "\n",
    "                book_list.append([year,month,book_img, title_h, title_f, title_m, title_e, detail_link, author, publisher, pub_date, price, n_reviews,\n",
    "                     review_link, rating, tags])"
   ]
  },
  {
   "cell_type": "code",
   "execution_count": 25,
   "id": "f720d57b",
   "metadata": {},
   "outputs": [
    {
     "name": "stdout",
     "output_type": "stream",
     "text": [
      "<class 'list'>\n",
      "<class 'list'>\n"
     ]
    }
   ],
   "source": [
    "for i in book_list[:2]:\n",
    "    print(type(i))"
   ]
  },
  {
   "cell_type": "code",
   "execution_count": 23,
   "id": "6a235493",
   "metadata": {},
   "outputs": [
    {
     "data": {
      "text/plain": [
       "188964"
      ]
     },
     "execution_count": 23,
     "metadata": {},
     "output_type": "execute_result"
    }
   ],
   "source": [
    "len(book_list)"
   ]
  },
  {
   "cell_type": "code",
   "execution_count": null,
   "id": "3ef58722",
   "metadata": {},
   "outputs": [],
   "source": [
    "# 혹시 몰라서 백업 ㅠ"
   ]
  },
  {
   "cell_type": "code",
   "execution_count": 26,
   "id": "f8b2166d",
   "metadata": {},
   "outputs": [
    {
     "data": {
      "text/plain": [
       "['book_list.job']"
      ]
     },
     "execution_count": 26,
     "metadata": {},
     "output_type": "execute_result"
    }
   ],
   "source": [
    "import joblib\n",
    "\n",
    "joblib.dump(book_list, 'book_list.job')"
   ]
  },
  {
   "cell_type": "code",
   "execution_count": 28,
   "id": "eff5ac92",
   "metadata": {},
   "outputs": [],
   "source": [
    "\n",
    "df = pd.DataFrame(book_list, columns=[\"year\",\"month\",\"book_img\",\"title_h\",\"title_f\",\"title_m\",\"title_e\",\"detail_link\",\"author\",\"publisher\",\"pub_date\",\"price\", \"n_reviews\",\n",
    "                         \"review_link\",\"rating\",\"tags\"])"
   ]
  },
  {
   "cell_type": "code",
   "execution_count": 31,
   "id": "e0e526ff",
   "metadata": {
    "scrolled": true
   },
   "outputs": [
    {
     "data": {
      "text/html": [
       "<div>\n",
       "<style scoped>\n",
       "    .dataframe tbody tr th:only-of-type {\n",
       "        vertical-align: middle;\n",
       "    }\n",
       "\n",
       "    .dataframe tbody tr th {\n",
       "        vertical-align: top;\n",
       "    }\n",
       "\n",
       "    .dataframe thead th {\n",
       "        text-align: right;\n",
       "    }\n",
       "</style>\n",
       "<table border=\"1\" class=\"dataframe\">\n",
       "  <thead>\n",
       "    <tr style=\"text-align: right;\">\n",
       "      <th></th>\n",
       "      <th>year</th>\n",
       "      <th>month</th>\n",
       "      <th>book_img</th>\n",
       "      <th>title_h</th>\n",
       "      <th>title_f</th>\n",
       "      <th>title_m</th>\n",
       "      <th>title_e</th>\n",
       "      <th>detail_link</th>\n",
       "      <th>author</th>\n",
       "      <th>publisher</th>\n",
       "      <th>pub_date</th>\n",
       "      <th>price</th>\n",
       "      <th>n_reviews</th>\n",
       "      <th>review_link</th>\n",
       "      <th>rating</th>\n",
       "      <th>tags</th>\n",
       "    </tr>\n",
       "  </thead>\n",
       "  <tbody>\n",
       "    <tr>\n",
       "      <th>0</th>\n",
       "      <td>2008</td>\n",
       "      <td>1</td>\n",
       "      <td>https://image.yes24.com/goods/2599166/L</td>\n",
       "      <td>[도서]</td>\n",
       "      <td></td>\n",
       "      <td>The Secret 시크릿</td>\n",
       "      <td>수 세기 동안 단 1%만이 알았던 부와 성공의 비밀</td>\n",
       "      <td>https://www.yes24.com/Product/Goods/2599166</td>\n",
       "      <td>[론다 번, 김우열]</td>\n",
       "      <td>살림Biz</td>\n",
       "      <td>2007년 06월</td>\n",
       "      <td>15,120</td>\n",
       "      <td>630</td>\n",
       "      <td>https://www.yes24.com/Product/Goods/2599166?Re...</td>\n",
       "      <td>7.5</td>\n",
       "      <td>[#끌어당김, #Y2K책장소환, #크레마클럽에있어요, #탑골공원책벌레, #올해의책]</td>\n",
       "    </tr>\n",
       "    <tr>\n",
       "      <th>1</th>\n",
       "      <td>2008</td>\n",
       "      <td>1</td>\n",
       "      <td>https://image.yes24.com/goods/2776013/L</td>\n",
       "      <td>[도서]</td>\n",
       "      <td></td>\n",
       "      <td>마시멜로 두번째 이야기</td>\n",
       "      <td></td>\n",
       "      <td>https://www.yes24.com/Product/Goods/2776013</td>\n",
       "      <td>[호아킴 데 포사다, 엘런 싱어, 공경희]</td>\n",
       "      <td>한국경제신문사(한경비피)</td>\n",
       "      <td>2007년 12월</td>\n",
       "      <td>10,800</td>\n",
       "      <td>202</td>\n",
       "      <td>https://www.yes24.com/Product/Goods/2776013?Re...</td>\n",
       "      <td>8.8</td>\n",
       "      <td>[]</td>\n",
       "    </tr>\n",
       "    <tr>\n",
       "      <th>2</th>\n",
       "      <td>2008</td>\n",
       "      <td>1</td>\n",
       "      <td>https://image.yes24.com/goods/2721480/L</td>\n",
       "      <td>[도서]</td>\n",
       "      <td></td>\n",
       "      <td>리버보이</td>\n",
       "      <td></td>\n",
       "      <td>https://www.yes24.com/Product/Goods/2721480</td>\n",
       "      <td>[팀 보울러, 정해영]</td>\n",
       "      <td>놀</td>\n",
       "      <td>2007년 10월</td>\n",
       "      <td>8,100</td>\n",
       "      <td>234</td>\n",
       "      <td>https://www.yes24.com/Product/Goods/2721480?Re...</td>\n",
       "      <td>8.2</td>\n",
       "      <td>[#국립어린이청소년도서관사서추천, #올해의책]</td>\n",
       "    </tr>\n",
       "    <tr>\n",
       "      <th>3</th>\n",
       "      <td>2008</td>\n",
       "      <td>1</td>\n",
       "      <td>https://image.yes24.com/goods/2783642/L</td>\n",
       "      <td>[도서]</td>\n",
       "      <td></td>\n",
       "      <td>몰입 Think hard!</td>\n",
       "      <td>인생을 바꾸는 자기 혁명</td>\n",
       "      <td>https://www.yes24.com/Product/Goods/2783642</td>\n",
       "      <td>[황농문]</td>\n",
       "      <td>알에이치코리아(RHK)</td>\n",
       "      <td>2007년 12월</td>\n",
       "      <td>16,200</td>\n",
       "      <td>201</td>\n",
       "      <td>https://www.yes24.com/Product/Goods/2783642?Re...</td>\n",
       "      <td>8.0</td>\n",
       "      <td>[#올해의책, #생활습관]</td>\n",
       "    </tr>\n",
       "    <tr>\n",
       "      <th>4</th>\n",
       "      <td>2008</td>\n",
       "      <td>1</td>\n",
       "      <td>https://image.yes24.com/goods/2752350/L</td>\n",
       "      <td>[도서]</td>\n",
       "      <td></td>\n",
       "      <td>즐거운 나의 집</td>\n",
       "      <td></td>\n",
       "      <td>https://www.yes24.com/Product/Goods/2752350</td>\n",
       "      <td>[공지영]</td>\n",
       "      <td>푸른숲</td>\n",
       "      <td>2007년 11월</td>\n",
       "      <td>8,820</td>\n",
       "      <td>328</td>\n",
       "      <td>https://www.yes24.com/Product/Goods/2752350?Re...</td>\n",
       "      <td>8.9</td>\n",
       "      <td>[#올해의책]</td>\n",
       "    </tr>\n",
       "    <tr>\n",
       "      <th>...</th>\n",
       "      <td>...</td>\n",
       "      <td>...</td>\n",
       "      <td>...</td>\n",
       "      <td>...</td>\n",
       "      <td>...</td>\n",
       "      <td>...</td>\n",
       "      <td>...</td>\n",
       "      <td>...</td>\n",
       "      <td>...</td>\n",
       "      <td>...</td>\n",
       "      <td>...</td>\n",
       "      <td>...</td>\n",
       "      <td>...</td>\n",
       "      <td>...</td>\n",
       "      <td>...</td>\n",
       "      <td>...</td>\n",
       "    </tr>\n",
       "    <tr>\n",
       "      <th>188959</th>\n",
       "      <td>2023</td>\n",
       "      <td>12</td>\n",
       "      <td>https://image.yes24.com/goods/117650984/L</td>\n",
       "      <td>[도서]</td>\n",
       "      <td></td>\n",
       "      <td>초수익 성장주 투자</td>\n",
       "      <td>세계에서 가장 비밀스러운 주식 투자 시스템</td>\n",
       "      <td>https://www.yes24.com/Product/Goods/117650984</td>\n",
       "      <td>[마크 미너비니, 김태훈, 김대현]</td>\n",
       "      <td>이레미디어</td>\n",
       "      <td>2023년 03월</td>\n",
       "      <td>22,500</td>\n",
       "      <td>49</td>\n",
       "      <td>https://www.yes24.com/Product/Goods/117650984?...</td>\n",
       "      <td>9.6</td>\n",
       "      <td>[#크레마클럽에있어요]</td>\n",
       "    </tr>\n",
       "    <tr>\n",
       "      <th>188960</th>\n",
       "      <td>2023</td>\n",
       "      <td>12</td>\n",
       "      <td>https://image.yes24.com/goods/117585533/L</td>\n",
       "      <td>[도서]</td>\n",
       "      <td></td>\n",
       "      <td>상처 주는 말 하는 친구에게 똑똑하게 말하는 법</td>\n",
       "      <td>화내지 않고, 참지 않고, 울지 않는 마법의 표현 59</td>\n",
       "      <td>https://www.yes24.com/Product/Goods/117585533</td>\n",
       "      <td>[김윤나, 유영근]</td>\n",
       "      <td>북라이프</td>\n",
       "      <td>2023년 02월</td>\n",
       "      <td>11,700</td>\n",
       "      <td>52</td>\n",
       "      <td>https://www.yes24.com/Product/Goods/117585533?...</td>\n",
       "      <td>9.9</td>\n",
       "      <td>[#학교생활이야기, #슬기로운언어생활, #친구관계, #인간관계에대하여]</td>\n",
       "    </tr>\n",
       "    <tr>\n",
       "      <th>188961</th>\n",
       "      <td>2023</td>\n",
       "      <td>12</td>\n",
       "      <td>https://image.yes24.com/goods/115033554/L</td>\n",
       "      <td>[도서]</td>\n",
       "      <td></td>\n",
       "      <td>사람을 얻는 지혜</td>\n",
       "      <td>국내 최초 스페인어 완역본</td>\n",
       "      <td>https://www.yes24.com/Product/Goods/115033554</td>\n",
       "      <td>[그라시안 이 모랄레스 발타사르, 김유경]</td>\n",
       "      <td>현대지성</td>\n",
       "      <td>2022년 10월</td>\n",
       "      <td>10,800</td>\n",
       "      <td>103</td>\n",
       "      <td>https://www.yes24.com/Product/Goods/115033554?...</td>\n",
       "      <td>9.6</td>\n",
       "      <td>[#크레마클럽에있어요]</td>\n",
       "    </tr>\n",
       "    <tr>\n",
       "      <th>188962</th>\n",
       "      <td>2023</td>\n",
       "      <td>12</td>\n",
       "      <td>https://image.yes24.com/goods/114848694/L</td>\n",
       "      <td>[도서]</td>\n",
       "      <td></td>\n",
       "      <td>인생의 역사</td>\n",
       "      <td>‘공무도하가’에서 ‘사랑의 발명’까지</td>\n",
       "      <td>https://www.yes24.com/Product/Goods/114848694</td>\n",
       "      <td>[신형철]</td>\n",
       "      <td>난다</td>\n",
       "      <td>2022년 10월</td>\n",
       "      <td>16,200</td>\n",
       "      <td>111</td>\n",
       "      <td>https://www.yes24.com/Product/Goods/114848694?...</td>\n",
       "      <td>9.6</td>\n",
       "      <td>[#2023서울국제도서전, #YES24XEBS_대국민독서챌린지, #2022내맘대로올...</td>\n",
       "    </tr>\n",
       "    <tr>\n",
       "      <th>188963</th>\n",
       "      <td>2023</td>\n",
       "      <td>12</td>\n",
       "      <td>https://image.yes24.com/goods/113416787/L</td>\n",
       "      <td>[도서]</td>\n",
       "      <td></td>\n",
       "      <td>저스트.킵.바잉.</td>\n",
       "      <td>당신을 부자로 만들어줄 3개의 단어</td>\n",
       "      <td>https://www.yes24.com/Product/Goods/113416787</td>\n",
       "      <td>[닉 매기울리, 오수원, 이상건]</td>\n",
       "      <td>서삼독</td>\n",
       "      <td>2022년 09월</td>\n",
       "      <td>17,820</td>\n",
       "      <td>87</td>\n",
       "      <td>https://www.yes24.com/Product/Goods/113416787?...</td>\n",
       "      <td>9.4</td>\n",
       "      <td>[]</td>\n",
       "    </tr>\n",
       "  </tbody>\n",
       "</table>\n",
       "<p>188964 rows × 16 columns</p>\n",
       "</div>"
      ],
      "text/plain": [
       "        year  month                                   book_img title_h  \\\n",
       "0       2008      1    https://image.yes24.com/goods/2599166/L    [도서]   \n",
       "1       2008      1    https://image.yes24.com/goods/2776013/L    [도서]   \n",
       "2       2008      1    https://image.yes24.com/goods/2721480/L    [도서]   \n",
       "3       2008      1    https://image.yes24.com/goods/2783642/L    [도서]   \n",
       "4       2008      1    https://image.yes24.com/goods/2752350/L    [도서]   \n",
       "...      ...    ...                                        ...     ...   \n",
       "188959  2023     12  https://image.yes24.com/goods/117650984/L    [도서]   \n",
       "188960  2023     12  https://image.yes24.com/goods/117585533/L    [도서]   \n",
       "188961  2023     12  https://image.yes24.com/goods/115033554/L    [도서]   \n",
       "188962  2023     12  https://image.yes24.com/goods/114848694/L    [도서]   \n",
       "188963  2023     12  https://image.yes24.com/goods/113416787/L    [도서]   \n",
       "\n",
       "       title_f                     title_m                         title_e  \\\n",
       "0                           The Secret 시크릿   수 세기 동안 단 1%만이 알았던 부와 성공의 비밀    \n",
       "1                             마시멜로 두번째 이야기                                   \n",
       "2                                     리버보이                                   \n",
       "3                           몰입 Think hard!                  인생을 바꾸는 자기 혁명    \n",
       "4                                 즐거운 나의 집                                   \n",
       "...        ...                         ...                             ...   \n",
       "188959                          초수익 성장주 투자         세계에서 가장 비밀스러운 주식 투자 시스템   \n",
       "188960          상처 주는 말 하는 친구에게 똑똑하게 말하는 법  화내지 않고, 참지 않고, 울지 않는 마법의 표현 59   \n",
       "188961                          사람을 얻는 지혜                   국내 최초 스페인어 완역본   \n",
       "188962                              인생의 역사            ‘공무도하가’에서 ‘사랑의 발명’까지   \n",
       "188963                           저스트.킵.바잉.             당신을 부자로 만들어줄 3개의 단어   \n",
       "\n",
       "                                          detail_link  \\\n",
       "0         https://www.yes24.com/Product/Goods/2599166   \n",
       "1         https://www.yes24.com/Product/Goods/2776013   \n",
       "2         https://www.yes24.com/Product/Goods/2721480   \n",
       "3         https://www.yes24.com/Product/Goods/2783642   \n",
       "4         https://www.yes24.com/Product/Goods/2752350   \n",
       "...                                               ...   \n",
       "188959  https://www.yes24.com/Product/Goods/117650984   \n",
       "188960  https://www.yes24.com/Product/Goods/117585533   \n",
       "188961  https://www.yes24.com/Product/Goods/115033554   \n",
       "188962  https://www.yes24.com/Product/Goods/114848694   \n",
       "188963  https://www.yes24.com/Product/Goods/113416787   \n",
       "\n",
       "                         author      publisher   pub_date   price n_reviews  \\\n",
       "0                   [론다 번, 김우열]          살림Biz  2007년 06월  15,120       630   \n",
       "1       [호아킴 데 포사다, 엘런 싱어, 공경희]  한국경제신문사(한경비피)  2007년 12월  10,800       202   \n",
       "2                  [팀 보울러, 정해영]              놀  2007년 10월   8,100       234   \n",
       "3                         [황농문]   알에이치코리아(RHK)  2007년 12월  16,200       201   \n",
       "4                         [공지영]            푸른숲  2007년 11월   8,820       328   \n",
       "...                         ...            ...        ...     ...       ...   \n",
       "188959      [마크 미너비니, 김태훈, 김대현]          이레미디어  2023년 03월  22,500        49   \n",
       "188960               [김윤나, 유영근]           북라이프  2023년 02월  11,700        52   \n",
       "188961  [그라시안 이 모랄레스 발타사르, 김유경]           현대지성  2022년 10월  10,800       103   \n",
       "188962                    [신형철]             난다  2022년 10월  16,200       111   \n",
       "188963       [닉 매기울리, 오수원, 이상건]            서삼독  2022년 09월  17,820        87   \n",
       "\n",
       "                                              review_link rating  \\\n",
       "0       https://www.yes24.com/Product/Goods/2599166?Re...    7.5   \n",
       "1       https://www.yes24.com/Product/Goods/2776013?Re...    8.8   \n",
       "2       https://www.yes24.com/Product/Goods/2721480?Re...    8.2   \n",
       "3       https://www.yes24.com/Product/Goods/2783642?Re...    8.0   \n",
       "4       https://www.yes24.com/Product/Goods/2752350?Re...    8.9   \n",
       "...                                                   ...    ...   \n",
       "188959  https://www.yes24.com/Product/Goods/117650984?...    9.6   \n",
       "188960  https://www.yes24.com/Product/Goods/117585533?...    9.9   \n",
       "188961  https://www.yes24.com/Product/Goods/115033554?...    9.6   \n",
       "188962  https://www.yes24.com/Product/Goods/114848694?...    9.6   \n",
       "188963  https://www.yes24.com/Product/Goods/113416787?...    9.4   \n",
       "\n",
       "                                                     tags  \n",
       "0          [#끌어당김, #Y2K책장소환, #크레마클럽에있어요, #탑골공원책벌레, #올해의책]  \n",
       "1                                                      []  \n",
       "2                               [#국립어린이청소년도서관사서추천, #올해의책]  \n",
       "3                                          [#올해의책, #생활습관]  \n",
       "4                                                 [#올해의책]  \n",
       "...                                                   ...  \n",
       "188959                                       [#크레마클럽에있어요]  \n",
       "188960            [#학교생활이야기, #슬기로운언어생활, #친구관계, #인간관계에대하여]  \n",
       "188961                                       [#크레마클럽에있어요]  \n",
       "188962  [#2023서울국제도서전, #YES24XEBS_대국민독서챌린지, #2022내맘대로올...  \n",
       "188963                                                 []  \n",
       "\n",
       "[188964 rows x 16 columns]"
      ]
     },
     "execution_count": 31,
     "metadata": {},
     "output_type": "execute_result"
    }
   ],
   "source": [
    "df"
   ]
  },
  {
   "cell_type": "code",
   "execution_count": 12,
   "id": "d09196dd",
   "metadata": {},
   "outputs": [
    {
     "data": {
      "text/plain": [
       "'c:\\\\bigdata\\\\self_practice'"
      ]
     },
     "execution_count": 12,
     "metadata": {},
     "output_type": "execute_result"
    }
   ],
   "source": [
    "pwd"
   ]
  },
  {
   "cell_type": "markdown",
   "id": "5a239d0f",
   "metadata": {},
   "source": [
    "request로 베스트셀러 페이지 수집완료!"
   ]
  },
  {
   "cell_type": "code",
   "execution_count": 30,
   "id": "3441ff81",
   "metadata": {},
   "outputs": [],
   "source": [
    "df.to_csv(\"../data/yes24_best2008.01_2023.11.csv\", index=False)"
   ]
  },
  {
   "cell_type": "code",
   "execution_count": null,
   "id": "10a28d4e",
   "metadata": {},
   "outputs": [],
   "source": []
  },
  {
   "cell_type": "code",
   "execution_count": null,
   "id": "25b8ffec",
   "metadata": {},
   "outputs": [],
   "source": []
  },
  {
   "cell_type": "markdown",
   "id": "ddeae92e",
   "metadata": {},
   "source": [
    "셀레니움으로 세부데이터 수집하기 (리뷰포함)"
   ]
  },
  {
   "cell_type": "code",
   "execution_count": 32,
   "id": "64e68cf8",
   "metadata": {
    "scrolled": true
   },
   "outputs": [
    {
     "name": "stderr",
     "output_type": "stream",
     "text": [
      "C:\\Users\\hi\\AppData\\Local\\Temp\\ipykernel_9944\\2883447807.py:1: DtypeWarning: Columns (12) have mixed types. Specify dtype option on import or set low_memory=False.\n",
      "  pd.read_csv(\"../data/yes24_best2008.01_2023.11.csv\")\n"
     ]
    },
    {
     "data": {
      "text/html": [
       "<div>\n",
       "<style scoped>\n",
       "    .dataframe tbody tr th:only-of-type {\n",
       "        vertical-align: middle;\n",
       "    }\n",
       "\n",
       "    .dataframe tbody tr th {\n",
       "        vertical-align: top;\n",
       "    }\n",
       "\n",
       "    .dataframe thead th {\n",
       "        text-align: right;\n",
       "    }\n",
       "</style>\n",
       "<table border=\"1\" class=\"dataframe\">\n",
       "  <thead>\n",
       "    <tr style=\"text-align: right;\">\n",
       "      <th></th>\n",
       "      <th>year</th>\n",
       "      <th>month</th>\n",
       "      <th>book_img</th>\n",
       "      <th>title_h</th>\n",
       "      <th>title_f</th>\n",
       "      <th>title_m</th>\n",
       "      <th>title_e</th>\n",
       "      <th>detail_link</th>\n",
       "      <th>author</th>\n",
       "      <th>publisher</th>\n",
       "      <th>pub_date</th>\n",
       "      <th>price</th>\n",
       "      <th>n_reviews</th>\n",
       "      <th>review_link</th>\n",
       "      <th>rating</th>\n",
       "      <th>tags</th>\n",
       "    </tr>\n",
       "  </thead>\n",
       "  <tbody>\n",
       "    <tr>\n",
       "      <th>0</th>\n",
       "      <td>2008</td>\n",
       "      <td>1</td>\n",
       "      <td>https://image.yes24.com/goods/2599166/L</td>\n",
       "      <td>[도서]</td>\n",
       "      <td>NaN</td>\n",
       "      <td>The Secret 시크릿</td>\n",
       "      <td>수 세기 동안 단 1%만이 알았던 부와 성공의 비밀</td>\n",
       "      <td>https://www.yes24.com/Product/Goods/2599166</td>\n",
       "      <td>['론다 번', '김우열']</td>\n",
       "      <td>살림Biz</td>\n",
       "      <td>2007년 06월</td>\n",
       "      <td>15,120</td>\n",
       "      <td>630</td>\n",
       "      <td>https://www.yes24.com/Product/Goods/2599166?Re...</td>\n",
       "      <td>7.5</td>\n",
       "      <td>['#끌어당김', '#Y2K책장소환', '#크레마클럽에있어요', '#탑골공원책벌레'...</td>\n",
       "    </tr>\n",
       "    <tr>\n",
       "      <th>1</th>\n",
       "      <td>2008</td>\n",
       "      <td>1</td>\n",
       "      <td>https://image.yes24.com/goods/2776013/L</td>\n",
       "      <td>[도서]</td>\n",
       "      <td>NaN</td>\n",
       "      <td>마시멜로 두번째 이야기</td>\n",
       "      <td>NaN</td>\n",
       "      <td>https://www.yes24.com/Product/Goods/2776013</td>\n",
       "      <td>['호아킴 데 포사다', '엘런 싱어', '공경희']</td>\n",
       "      <td>한국경제신문사(한경비피)</td>\n",
       "      <td>2007년 12월</td>\n",
       "      <td>10,800</td>\n",
       "      <td>202</td>\n",
       "      <td>https://www.yes24.com/Product/Goods/2776013?Re...</td>\n",
       "      <td>8.8</td>\n",
       "      <td>[]</td>\n",
       "    </tr>\n",
       "    <tr>\n",
       "      <th>2</th>\n",
       "      <td>2008</td>\n",
       "      <td>1</td>\n",
       "      <td>https://image.yes24.com/goods/2721480/L</td>\n",
       "      <td>[도서]</td>\n",
       "      <td>NaN</td>\n",
       "      <td>리버보이</td>\n",
       "      <td>NaN</td>\n",
       "      <td>https://www.yes24.com/Product/Goods/2721480</td>\n",
       "      <td>['팀 보울러', '정해영']</td>\n",
       "      <td>놀</td>\n",
       "      <td>2007년 10월</td>\n",
       "      <td>8,100</td>\n",
       "      <td>234</td>\n",
       "      <td>https://www.yes24.com/Product/Goods/2721480?Re...</td>\n",
       "      <td>8.2</td>\n",
       "      <td>['#국립어린이청소년도서관사서추천', '#올해의책']</td>\n",
       "    </tr>\n",
       "    <tr>\n",
       "      <th>3</th>\n",
       "      <td>2008</td>\n",
       "      <td>1</td>\n",
       "      <td>https://image.yes24.com/goods/2783642/L</td>\n",
       "      <td>[도서]</td>\n",
       "      <td>NaN</td>\n",
       "      <td>몰입 Think hard!</td>\n",
       "      <td>인생을 바꾸는 자기 혁명</td>\n",
       "      <td>https://www.yes24.com/Product/Goods/2783642</td>\n",
       "      <td>['황농문']</td>\n",
       "      <td>알에이치코리아(RHK)</td>\n",
       "      <td>2007년 12월</td>\n",
       "      <td>16,200</td>\n",
       "      <td>201</td>\n",
       "      <td>https://www.yes24.com/Product/Goods/2783642?Re...</td>\n",
       "      <td>8.0</td>\n",
       "      <td>['#올해의책', '#생활습관']</td>\n",
       "    </tr>\n",
       "    <tr>\n",
       "      <th>4</th>\n",
       "      <td>2008</td>\n",
       "      <td>1</td>\n",
       "      <td>https://image.yes24.com/goods/2752350/L</td>\n",
       "      <td>[도서]</td>\n",
       "      <td>NaN</td>\n",
       "      <td>즐거운 나의 집</td>\n",
       "      <td>NaN</td>\n",
       "      <td>https://www.yes24.com/Product/Goods/2752350</td>\n",
       "      <td>['공지영']</td>\n",
       "      <td>푸른숲</td>\n",
       "      <td>2007년 11월</td>\n",
       "      <td>8,820</td>\n",
       "      <td>328</td>\n",
       "      <td>https://www.yes24.com/Product/Goods/2752350?Re...</td>\n",
       "      <td>8.9</td>\n",
       "      <td>['#올해의책']</td>\n",
       "    </tr>\n",
       "    <tr>\n",
       "      <th>...</th>\n",
       "      <td>...</td>\n",
       "      <td>...</td>\n",
       "      <td>...</td>\n",
       "      <td>...</td>\n",
       "      <td>...</td>\n",
       "      <td>...</td>\n",
       "      <td>...</td>\n",
       "      <td>...</td>\n",
       "      <td>...</td>\n",
       "      <td>...</td>\n",
       "      <td>...</td>\n",
       "      <td>...</td>\n",
       "      <td>...</td>\n",
       "      <td>...</td>\n",
       "      <td>...</td>\n",
       "      <td>...</td>\n",
       "    </tr>\n",
       "    <tr>\n",
       "      <th>188959</th>\n",
       "      <td>2023</td>\n",
       "      <td>12</td>\n",
       "      <td>https://image.yes24.com/goods/117650984/L</td>\n",
       "      <td>[도서]</td>\n",
       "      <td>NaN</td>\n",
       "      <td>초수익 성장주 투자</td>\n",
       "      <td>세계에서 가장 비밀스러운 주식 투자 시스템</td>\n",
       "      <td>https://www.yes24.com/Product/Goods/117650984</td>\n",
       "      <td>['마크 미너비니', '김태훈', '김대현']</td>\n",
       "      <td>이레미디어</td>\n",
       "      <td>2023년 03월</td>\n",
       "      <td>22,500</td>\n",
       "      <td>49</td>\n",
       "      <td>https://www.yes24.com/Product/Goods/117650984?...</td>\n",
       "      <td>9.6</td>\n",
       "      <td>['#크레마클럽에있어요']</td>\n",
       "    </tr>\n",
       "    <tr>\n",
       "      <th>188960</th>\n",
       "      <td>2023</td>\n",
       "      <td>12</td>\n",
       "      <td>https://image.yes24.com/goods/117585533/L</td>\n",
       "      <td>[도서]</td>\n",
       "      <td>NaN</td>\n",
       "      <td>상처 주는 말 하는 친구에게 똑똑하게 말하는 법</td>\n",
       "      <td>화내지 않고, 참지 않고, 울지 않는 마법의 표현 59</td>\n",
       "      <td>https://www.yes24.com/Product/Goods/117585533</td>\n",
       "      <td>['김윤나', '유영근']</td>\n",
       "      <td>북라이프</td>\n",
       "      <td>2023년 02월</td>\n",
       "      <td>11,700</td>\n",
       "      <td>52</td>\n",
       "      <td>https://www.yes24.com/Product/Goods/117585533?...</td>\n",
       "      <td>9.9</td>\n",
       "      <td>['#학교생활이야기', '#슬기로운언어생활', '#친구관계', '#인간관계에대하여']</td>\n",
       "    </tr>\n",
       "    <tr>\n",
       "      <th>188961</th>\n",
       "      <td>2023</td>\n",
       "      <td>12</td>\n",
       "      <td>https://image.yes24.com/goods/115033554/L</td>\n",
       "      <td>[도서]</td>\n",
       "      <td>NaN</td>\n",
       "      <td>사람을 얻는 지혜</td>\n",
       "      <td>국내 최초 스페인어 완역본</td>\n",
       "      <td>https://www.yes24.com/Product/Goods/115033554</td>\n",
       "      <td>['그라시안 이 모랄레스 발타사르', '김유경']</td>\n",
       "      <td>현대지성</td>\n",
       "      <td>2022년 10월</td>\n",
       "      <td>10,800</td>\n",
       "      <td>103</td>\n",
       "      <td>https://www.yes24.com/Product/Goods/115033554?...</td>\n",
       "      <td>9.6</td>\n",
       "      <td>['#크레마클럽에있어요']</td>\n",
       "    </tr>\n",
       "    <tr>\n",
       "      <th>188962</th>\n",
       "      <td>2023</td>\n",
       "      <td>12</td>\n",
       "      <td>https://image.yes24.com/goods/114848694/L</td>\n",
       "      <td>[도서]</td>\n",
       "      <td>NaN</td>\n",
       "      <td>인생의 역사</td>\n",
       "      <td>‘공무도하가’에서 ‘사랑의 발명’까지</td>\n",
       "      <td>https://www.yes24.com/Product/Goods/114848694</td>\n",
       "      <td>['신형철']</td>\n",
       "      <td>난다</td>\n",
       "      <td>2022년 10월</td>\n",
       "      <td>16,200</td>\n",
       "      <td>111</td>\n",
       "      <td>https://www.yes24.com/Product/Goods/114848694?...</td>\n",
       "      <td>9.6</td>\n",
       "      <td>['#2023서울국제도서전', '#YES24XEBS_대국민독서챌린지', '#2022...</td>\n",
       "    </tr>\n",
       "    <tr>\n",
       "      <th>188963</th>\n",
       "      <td>2023</td>\n",
       "      <td>12</td>\n",
       "      <td>https://image.yes24.com/goods/113416787/L</td>\n",
       "      <td>[도서]</td>\n",
       "      <td>NaN</td>\n",
       "      <td>저스트.킵.바잉.</td>\n",
       "      <td>당신을 부자로 만들어줄 3개의 단어</td>\n",
       "      <td>https://www.yes24.com/Product/Goods/113416787</td>\n",
       "      <td>['닉 매기울리', '오수원', '이상건']</td>\n",
       "      <td>서삼독</td>\n",
       "      <td>2022년 09월</td>\n",
       "      <td>17,820</td>\n",
       "      <td>87</td>\n",
       "      <td>https://www.yes24.com/Product/Goods/113416787?...</td>\n",
       "      <td>9.4</td>\n",
       "      <td>[]</td>\n",
       "    </tr>\n",
       "  </tbody>\n",
       "</table>\n",
       "<p>188964 rows × 16 columns</p>\n",
       "</div>"
      ],
      "text/plain": [
       "        year  month                                   book_img title_h  \\\n",
       "0       2008      1    https://image.yes24.com/goods/2599166/L    [도서]   \n",
       "1       2008      1    https://image.yes24.com/goods/2776013/L    [도서]   \n",
       "2       2008      1    https://image.yes24.com/goods/2721480/L    [도서]   \n",
       "3       2008      1    https://image.yes24.com/goods/2783642/L    [도서]   \n",
       "4       2008      1    https://image.yes24.com/goods/2752350/L    [도서]   \n",
       "...      ...    ...                                        ...     ...   \n",
       "188959  2023     12  https://image.yes24.com/goods/117650984/L    [도서]   \n",
       "188960  2023     12  https://image.yes24.com/goods/117585533/L    [도서]   \n",
       "188961  2023     12  https://image.yes24.com/goods/115033554/L    [도서]   \n",
       "188962  2023     12  https://image.yes24.com/goods/114848694/L    [도서]   \n",
       "188963  2023     12  https://image.yes24.com/goods/113416787/L    [도서]   \n",
       "\n",
       "       title_f                     title_m                         title_e  \\\n",
       "0          NaN              The Secret 시크릿   수 세기 동안 단 1%만이 알았던 부와 성공의 비밀    \n",
       "1          NaN                마시멜로 두번째 이야기                             NaN   \n",
       "2          NaN                        리버보이                             NaN   \n",
       "3          NaN              몰입 Think hard!                  인생을 바꾸는 자기 혁명    \n",
       "4          NaN                    즐거운 나의 집                             NaN   \n",
       "...        ...                         ...                             ...   \n",
       "188959     NaN                  초수익 성장주 투자         세계에서 가장 비밀스러운 주식 투자 시스템   \n",
       "188960     NaN  상처 주는 말 하는 친구에게 똑똑하게 말하는 법  화내지 않고, 참지 않고, 울지 않는 마법의 표현 59   \n",
       "188961     NaN                  사람을 얻는 지혜                   국내 최초 스페인어 완역본   \n",
       "188962     NaN                      인생의 역사            ‘공무도하가’에서 ‘사랑의 발명’까지   \n",
       "188963     NaN                   저스트.킵.바잉.             당신을 부자로 만들어줄 3개의 단어   \n",
       "\n",
       "                                          detail_link  \\\n",
       "0         https://www.yes24.com/Product/Goods/2599166   \n",
       "1         https://www.yes24.com/Product/Goods/2776013   \n",
       "2         https://www.yes24.com/Product/Goods/2721480   \n",
       "3         https://www.yes24.com/Product/Goods/2783642   \n",
       "4         https://www.yes24.com/Product/Goods/2752350   \n",
       "...                                               ...   \n",
       "188959  https://www.yes24.com/Product/Goods/117650984   \n",
       "188960  https://www.yes24.com/Product/Goods/117585533   \n",
       "188961  https://www.yes24.com/Product/Goods/115033554   \n",
       "188962  https://www.yes24.com/Product/Goods/114848694   \n",
       "188963  https://www.yes24.com/Product/Goods/113416787   \n",
       "\n",
       "                               author      publisher   pub_date   price  \\\n",
       "0                     ['론다 번', '김우열']          살림Biz  2007년 06월  15,120   \n",
       "1       ['호아킴 데 포사다', '엘런 싱어', '공경희']  한국경제신문사(한경비피)  2007년 12월  10,800   \n",
       "2                    ['팀 보울러', '정해영']              놀  2007년 10월   8,100   \n",
       "3                             ['황농문']   알에이치코리아(RHK)  2007년 12월  16,200   \n",
       "4                             ['공지영']            푸른숲  2007년 11월   8,820   \n",
       "...                               ...            ...        ...     ...   \n",
       "188959      ['마크 미너비니', '김태훈', '김대현']          이레미디어  2023년 03월  22,500   \n",
       "188960                 ['김윤나', '유영근']           북라이프  2023년 02월  11,700   \n",
       "188961    ['그라시안 이 모랄레스 발타사르', '김유경']           현대지성  2022년 10월  10,800   \n",
       "188962                        ['신형철']             난다  2022년 10월  16,200   \n",
       "188963       ['닉 매기울리', '오수원', '이상건']            서삼독  2022년 09월  17,820   \n",
       "\n",
       "       n_reviews                                        review_link  rating  \\\n",
       "0            630  https://www.yes24.com/Product/Goods/2599166?Re...     7.5   \n",
       "1            202  https://www.yes24.com/Product/Goods/2776013?Re...     8.8   \n",
       "2            234  https://www.yes24.com/Product/Goods/2721480?Re...     8.2   \n",
       "3            201  https://www.yes24.com/Product/Goods/2783642?Re...     8.0   \n",
       "4            328  https://www.yes24.com/Product/Goods/2752350?Re...     8.9   \n",
       "...          ...                                                ...     ...   \n",
       "188959        49  https://www.yes24.com/Product/Goods/117650984?...     9.6   \n",
       "188960        52  https://www.yes24.com/Product/Goods/117585533?...     9.9   \n",
       "188961       103  https://www.yes24.com/Product/Goods/115033554?...     9.6   \n",
       "188962       111  https://www.yes24.com/Product/Goods/114848694?...     9.6   \n",
       "188963        87  https://www.yes24.com/Product/Goods/113416787?...     9.4   \n",
       "\n",
       "                                                     tags  \n",
       "0       ['#끌어당김', '#Y2K책장소환', '#크레마클럽에있어요', '#탑골공원책벌레'...  \n",
       "1                                                      []  \n",
       "2                           ['#국립어린이청소년도서관사서추천', '#올해의책']  \n",
       "3                                      ['#올해의책', '#생활습관']  \n",
       "4                                               ['#올해의책']  \n",
       "...                                                   ...  \n",
       "188959                                     ['#크레마클럽에있어요']  \n",
       "188960    ['#학교생활이야기', '#슬기로운언어생활', '#친구관계', '#인간관계에대하여']  \n",
       "188961                                     ['#크레마클럽에있어요']  \n",
       "188962  ['#2023서울국제도서전', '#YES24XEBS_대국민독서챌린지', '#2022...  \n",
       "188963                                                 []  \n",
       "\n",
       "[188964 rows x 16 columns]"
      ]
     },
     "execution_count": 32,
     "metadata": {},
     "output_type": "execute_result"
    }
   ],
   "source": [
    "pd.read_csv(\"../data/yes24_best2008.01_2023.11.csv\")"
   ]
  },
  {
   "cell_type": "code",
   "execution_count": 33,
   "id": "f96be5e9",
   "metadata": {},
   "outputs": [
    {
     "data": {
      "text/plain": [
       "0           https://www.yes24.com/Product/Goods/2599166\n",
       "1           https://www.yes24.com/Product/Goods/2776013\n",
       "2           https://www.yes24.com/Product/Goods/2721480\n",
       "3           https://www.yes24.com/Product/Goods/2783642\n",
       "4           https://www.yes24.com/Product/Goods/2752350\n",
       "                              ...                      \n",
       "188959    https://www.yes24.com/Product/Goods/117650984\n",
       "188960    https://www.yes24.com/Product/Goods/117585533\n",
       "188961    https://www.yes24.com/Product/Goods/115033554\n",
       "188962    https://www.yes24.com/Product/Goods/114848694\n",
       "188963    https://www.yes24.com/Product/Goods/113416787\n",
       "Name: detail_link, Length: 188964, dtype: object"
      ]
     },
     "execution_count": 33,
     "metadata": {},
     "output_type": "execute_result"
    }
   ],
   "source": [
    "df['detail_link']"
   ]
  },
  {
   "cell_type": "code",
   "execution_count": null,
   "id": "e13d2bb9",
   "metadata": {},
   "outputs": [],
   "source": [
    "detail_pages = [] \n",
    "for links in data[\"detail_link\"][:5]:\n",
    "    driver = webdriver.Chrome(service=ChromeService(ChromeDriverManager().install()))\n",
    "    driver.set_window_size(1920, 1080) # 웹 브라우저 해상도 조절\n",
    "    driver.get(links)\n",
    "    time.sleep(3)\n",
    "    \n",
    "    try:\n",
    "        while True:\n",
    "            more_box2 = driver.find_element(By.CSS_SELECTOR, \"#storeView > div.container > div.store_review > a\")\n",
    "\n",
    "            more_box2.click()\n",
    "            time.sleep(2)  # 클릭 후 로딩을 위한 대기 시간 (필요에 따라 조절)\n",
    "\n",
    "    except: \n",
    "        page_source2 = driver.page_source\n",
    "        detail_pages.append(page_source2)\n",
    "        driver.quit()"
   ]
  },
  {
   "cell_type": "code",
   "execution_count": 36,
   "id": "dfa02e4f",
   "metadata": {},
   "outputs": [
    {
     "ename": "NoSuchWindowException",
     "evalue": "Message: no such window: target window already closed\nfrom unknown error: web view not found\n  (Session info: chrome=119.0.6045.200)\nStacktrace:\n\tGetHandleVerifier [0x003C72A3+45731]\n\t(No symbol) [0x00352D51]\n\t(No symbol) [0x0024880D]\n\t(No symbol) [0x0022F75E]\n\t(No symbol) [0x0029C11B]\n\t(No symbol) [0x002AB2D3]\n\t(No symbol) [0x00297DD6]\n\t(No symbol) [0x002731F6]\n\t(No symbol) [0x0027439D]\n\tGetHandleVerifier [0x006D0716+3229462]\n\tGetHandleVerifier [0x007184C8+3523784]\n\tGetHandleVerifier [0x0071214C+3498316]\n\tGetHandleVerifier [0x00451680+611968]\n\t(No symbol) [0x0035CCCC]\n\t(No symbol) [0x00358DF8]\n\t(No symbol) [0x00358F1D]\n\t(No symbol) [0x0034B2C7]\n\tBaseThreadInitThunk [0x777BFCC9+25]\n\tRtlGetAppContainerNamedObjectPath [0x77CF7C6E+286]\n\tRtlGetAppContainerNamedObjectPath [0x77CF7C3E+238]\n",
     "output_type": "error",
     "traceback": [
      "\u001b[1;31m---------------------------------------------------------------------------\u001b[0m",
      "\u001b[1;31mNoSuchWindowException\u001b[0m                     Traceback (most recent call last)",
      "Cell \u001b[1;32mIn[36], line 1\u001b[0m\n\u001b[1;32m----> 1\u001b[0m \u001b[43mdriver\u001b[49m\u001b[38;5;241;43m.\u001b[39;49m\u001b[43mget\u001b[49m\u001b[43m(\u001b[49m\u001b[38;5;124;43m\"\u001b[39;49m\u001b[38;5;124;43mhttps://www.yes24.com/Product/Goods/113416787\u001b[39;49m\u001b[38;5;124;43m\"\u001b[39;49m\u001b[43m)\u001b[49m\n",
      "File \u001b[1;32m~\\anaconda3\\envs\\testenv\\lib\\site-packages\\selenium\\webdriver\\remote\\webdriver.py:353\u001b[0m, in \u001b[0;36mWebDriver.get\u001b[1;34m(self, url)\u001b[0m\n\u001b[0;32m    351\u001b[0m \u001b[38;5;28;01mdef\u001b[39;00m \u001b[38;5;21mget\u001b[39m(\u001b[38;5;28mself\u001b[39m, url: \u001b[38;5;28mstr\u001b[39m) \u001b[38;5;241m-\u001b[39m\u001b[38;5;241m>\u001b[39m \u001b[38;5;28;01mNone\u001b[39;00m:\n\u001b[0;32m    352\u001b[0m \u001b[38;5;250m    \u001b[39m\u001b[38;5;124;03m\"\"\"Loads a web page in the current browser session.\"\"\"\u001b[39;00m\n\u001b[1;32m--> 353\u001b[0m     \u001b[38;5;28;43mself\u001b[39;49m\u001b[38;5;241;43m.\u001b[39;49m\u001b[43mexecute\u001b[49m\u001b[43m(\u001b[49m\u001b[43mCommand\u001b[49m\u001b[38;5;241;43m.\u001b[39;49m\u001b[43mGET\u001b[49m\u001b[43m,\u001b[49m\u001b[43m \u001b[49m\u001b[43m{\u001b[49m\u001b[38;5;124;43m\"\u001b[39;49m\u001b[38;5;124;43murl\u001b[39;49m\u001b[38;5;124;43m\"\u001b[39;49m\u001b[43m:\u001b[49m\u001b[43m \u001b[49m\u001b[43murl\u001b[49m\u001b[43m}\u001b[49m\u001b[43m)\u001b[49m\n",
      "File \u001b[1;32m~\\anaconda3\\envs\\testenv\\lib\\site-packages\\selenium\\webdriver\\remote\\webdriver.py:344\u001b[0m, in \u001b[0;36mWebDriver.execute\u001b[1;34m(self, driver_command, params)\u001b[0m\n\u001b[0;32m    342\u001b[0m response \u001b[38;5;241m=\u001b[39m \u001b[38;5;28mself\u001b[39m\u001b[38;5;241m.\u001b[39mcommand_executor\u001b[38;5;241m.\u001b[39mexecute(driver_command, params)\n\u001b[0;32m    343\u001b[0m \u001b[38;5;28;01mif\u001b[39;00m response:\n\u001b[1;32m--> 344\u001b[0m     \u001b[38;5;28;43mself\u001b[39;49m\u001b[38;5;241;43m.\u001b[39;49m\u001b[43merror_handler\u001b[49m\u001b[38;5;241;43m.\u001b[39;49m\u001b[43mcheck_response\u001b[49m\u001b[43m(\u001b[49m\u001b[43mresponse\u001b[49m\u001b[43m)\u001b[49m\n\u001b[0;32m    345\u001b[0m     response[\u001b[38;5;124m\"\u001b[39m\u001b[38;5;124mvalue\u001b[39m\u001b[38;5;124m\"\u001b[39m] \u001b[38;5;241m=\u001b[39m \u001b[38;5;28mself\u001b[39m\u001b[38;5;241m.\u001b[39m_unwrap_value(response\u001b[38;5;241m.\u001b[39mget(\u001b[38;5;124m\"\u001b[39m\u001b[38;5;124mvalue\u001b[39m\u001b[38;5;124m\"\u001b[39m, \u001b[38;5;28;01mNone\u001b[39;00m))\n\u001b[0;32m    346\u001b[0m     \u001b[38;5;28;01mreturn\u001b[39;00m response\n",
      "File \u001b[1;32m~\\anaconda3\\envs\\testenv\\lib\\site-packages\\selenium\\webdriver\\remote\\errorhandler.py:229\u001b[0m, in \u001b[0;36mErrorHandler.check_response\u001b[1;34m(self, response)\u001b[0m\n\u001b[0;32m    227\u001b[0m         alert_text \u001b[38;5;241m=\u001b[39m value[\u001b[38;5;124m\"\u001b[39m\u001b[38;5;124malert\u001b[39m\u001b[38;5;124m\"\u001b[39m]\u001b[38;5;241m.\u001b[39mget(\u001b[38;5;124m\"\u001b[39m\u001b[38;5;124mtext\u001b[39m\u001b[38;5;124m\"\u001b[39m)\n\u001b[0;32m    228\u001b[0m     \u001b[38;5;28;01mraise\u001b[39;00m exception_class(message, screen, stacktrace, alert_text)  \u001b[38;5;66;03m# type: ignore[call-arg]  # mypy is not smart enough here\u001b[39;00m\n\u001b[1;32m--> 229\u001b[0m \u001b[38;5;28;01mraise\u001b[39;00m exception_class(message, screen, stacktrace)\n",
      "\u001b[1;31mNoSuchWindowException\u001b[0m: Message: no such window: target window already closed\nfrom unknown error: web view not found\n  (Session info: chrome=119.0.6045.200)\nStacktrace:\n\tGetHandleVerifier [0x003C72A3+45731]\n\t(No symbol) [0x00352D51]\n\t(No symbol) [0x0024880D]\n\t(No symbol) [0x0022F75E]\n\t(No symbol) [0x0029C11B]\n\t(No symbol) [0x002AB2D3]\n\t(No symbol) [0x00297DD6]\n\t(No symbol) [0x002731F6]\n\t(No symbol) [0x0027439D]\n\tGetHandleVerifier [0x006D0716+3229462]\n\tGetHandleVerifier [0x007184C8+3523784]\n\tGetHandleVerifier [0x0071214C+3498316]\n\tGetHandleVerifier [0x00451680+611968]\n\t(No symbol) [0x0035CCCC]\n\t(No symbol) [0x00358DF8]\n\t(No symbol) [0x00358F1D]\n\t(No symbol) [0x0034B2C7]\n\tBaseThreadInitThunk [0x777BFCC9+25]\n\tRtlGetAppContainerNamedObjectPath [0x77CF7C6E+286]\n\tRtlGetAppContainerNamedObjectPath [0x77CF7C3E+238]\n"
     ]
    }
   ],
   "source": [
    "driver.get(\"https://www.yes24.com/Product/Goods/113416787\")"
   ]
  },
  {
   "cell_type": "code",
   "execution_count": null,
   "id": "0608aaac",
   "metadata": {},
   "outputs": [],
   "source": []
  },
  {
   "cell_type": "code",
   "execution_count": null,
   "id": "c5a50b91",
   "metadata": {},
   "outputs": [],
   "source": []
  },
  {
   "cell_type": "code",
   "execution_count": null,
   "id": "cfc3c960",
   "metadata": {},
   "outputs": [],
   "source": []
  },
  {
   "cell_type": "code",
   "execution_count": null,
   "id": "32223a85",
   "metadata": {},
   "outputs": [],
   "source": []
  },
  {
   "cell_type": "code",
   "execution_count": null,
   "id": "115bf7d2",
   "metadata": {},
   "outputs": [],
   "source": []
  },
  {
   "cell_type": "code",
   "execution_count": null,
   "id": "ffd911ba",
   "metadata": {},
   "outputs": [],
   "source": []
  },
  {
   "cell_type": "code",
   "execution_count": null,
   "id": "040ad3af",
   "metadata": {},
   "outputs": [],
   "source": []
  }
 ],
 "metadata": {
  "kernelspec": {
   "display_name": "testenv",
   "language": "python",
   "name": "testenv"
  },
  "language_info": {
   "codemirror_mode": {
    "name": "ipython",
    "version": 3
   },
   "file_extension": ".py",
   "mimetype": "text/x-python",
   "name": "python",
   "nbconvert_exporter": "python",
   "pygments_lexer": "ipython3",
   "version": "3.8.17"
  }
 },
 "nbformat": 4,
 "nbformat_minor": 5
}
