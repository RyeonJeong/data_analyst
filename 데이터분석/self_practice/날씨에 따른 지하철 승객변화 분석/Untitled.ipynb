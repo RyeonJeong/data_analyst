{
 "cells": [
  {
   "cell_type": "code",
   "execution_count": null,
   "id": "f26042ca",
   "metadata": {},
   "outputs": [],
   "source": [
    "import pandas as pd\n",
    "import requests\n",
    "import json"
   ]
  },
  {
   "cell_type": "code",
   "execution_count": null,
   "id": "bf14d3e4",
   "metadata": {},
   "outputs": [],
   "source": [
    "# 컬럼명 다 보이게 하기\n",
    "pd.set_option('display.max_seq_items', None)"
   ]
  },
  {
   "cell_type": "code",
   "execution_count": null,
   "id": "6e825fa7",
   "metadata": {},
   "outputs": [],
   "source": [
    "d = pd.read_csv('./CARD_SUBWAY_MONTH_202301.csv')\n",
    "d.info()"
   ]
  },
  {
   "cell_type": "code",
   "execution_count": null,
   "id": "437ecb0d",
   "metadata": {},
   "outputs": [],
   "source": [
    "d.head()"
   ]
  },
  {
   "cell_type": "code",
   "execution_count": null,
   "id": "046ebcde",
   "metadata": {},
   "outputs": [],
   "source": [
    "# 월별 지하철 승하차 정보 불러오고 합치기\n",
    "\n",
    "combined_data = pd.DataFrame()\n",
    "\n",
    "# 파일을 순회하며 데이터 합치기\n",
    "for i in range(202301, 202312):\n",
    "    file_name = f'CARD_SUBWAY_MONTH_{i}.csv'\n",
    "    try:\n",
    "        # CSV 파일 읽기\n",
    "        data = pd.read_csv(file_name)\n",
    "        \n",
    "        # 읽어온 데이터를 기존 데이터에 추가\n",
    "        combined_data = pd.concat([combined_data, data], ignore_index=True)\n",
    "        print(f\"File {file_name} added.\")\n",
    "    except FileNotFoundError:\n",
    "        print(f\"File {file_name} not found.\")\n",
    "    except Exception as e:\n",
    "        print(f\"An error occurred while processing {file_name}: {str(e)}\")\n",
    "\n",
    "# 결과를 하나의 CSV 파일로 저장\n",
    "combined_data.to_csv('combined_subway_data_202301_to_202311.csv', index=False)\n",
    "print(\"Combined data saved to combined_subway_data_202301_to_202311.csv\")"
   ]
  },
  {
   "cell_type": "code",
   "execution_count": null,
   "id": "921c7ceb",
   "metadata": {},
   "outputs": [],
   "source": []
  },
  {
   "cell_type": "code",
   "execution_count": null,
   "id": "5f8dc1fb",
   "metadata": {},
   "outputs": [],
   "source": []
  },
  {
   "cell_type": "code",
   "execution_count": null,
   "id": "5db1b710",
   "metadata": {},
   "outputs": [],
   "source": []
  },
  {
   "cell_type": "code",
   "execution_count": null,
   "id": "b2c5edd4",
   "metadata": {},
   "outputs": [],
   "source": []
  },
  {
   "cell_type": "code",
   "execution_count": null,
   "id": "8d959329",
   "metadata": {},
   "outputs": [],
   "source": []
  },
  {
   "cell_type": "code",
   "execution_count": null,
   "id": "30f2377c",
   "metadata": {},
   "outputs": [],
   "source": []
  },
  {
   "cell_type": "code",
   "execution_count": null,
   "id": "1e7222f1",
   "metadata": {},
   "outputs": [],
   "source": []
  }
 ],
 "metadata": {
  "kernelspec": {
   "display_name": "testenv",
   "language": "python",
   "name": "testenv"
  },
  "language_info": {
   "codemirror_mode": {
    "name": "ipython",
    "version": 3
   },
   "file_extension": ".py",
   "mimetype": "text/x-python",
   "name": "python",
   "nbconvert_exporter": "python",
   "pygments_lexer": "ipython3",
   "version": "3.8.17"
  }
 },
 "nbformat": 4,
 "nbformat_minor": 5
}
